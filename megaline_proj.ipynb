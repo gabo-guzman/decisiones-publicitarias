{
 "cells": [
  {
   "cell_type": "markdown",
   "metadata": {},
   "source": [
    "¡Hola, Gabriel!\n",
    "\n",
    "Mi nombre es Tonatiuh Cruz. Me complace revisar tu proyecto hoy.\n",
    "\n",
    "Al identificar cualquier error inicialmente, simplemente los destacaré. Te animo a localizar y abordar los problemas de forma independiente como parte de tu preparación para un rol como data-analyst. En un entorno profesional, tu líder de equipo seguiría un enfoque similar. Si encuentras la tarea desafiante, proporcionaré una pista más específica en la próxima iteración.\n",
    "\n",
    "Encontrarás mis comentarios a continuación - **por favor no los muevas, modifiques o elimines**.\n",
    "\n",
    "Puedes encontrar mis comentarios en cajas verdes, amarillas o rojas como esta:\n",
    "\n",
    "<div class=\"alert alert-block alert-success\">\n",
    "<b>Comentario del revisor</b> <a class=\"tocSkip\"></a>\n",
    "\n",
    "Éxito. Todo está hecho correctamente.\n",
    "</div>\n",
    "\n",
    "<div class=\"alert alert-block alert-warning\">\n",
    "<b>Comentario del revisor</b> <a class=\"tocSkip\"></a>\n",
    "\n",
    "Observaciones. Algunas recomendaciones.\n",
    "</div>\n",
    "\n",
    "<div class=\"alert alert-block alert-danger\">\n",
    "<b>Comentario del revisor</b> <a class=\"tocSkip\"></a>\n",
    "\n",
    "Necesita corrección. El bloque requiere algunas correcciones. El trabajo no puede ser aceptado con comentarios en rojo.\n",
    "</div>\n",
    "\n",
    "Puedes responderme utilizando esto:\n",
    "\n",
    "<div class=\"alert alert-block alert-info\">\n",
    "<b>Respuesta del estudiante.</b> <a class=\"tocSkip\"></a>"
   ]
  },
  {
   "cell_type": "markdown",
   "metadata": {},
   "source": [
    "<div class=\"alert alert-block alert-success\">\n",
    "<b>Resumen de la revisión 1</b> <a class=\"tocSkip\"></a>\n",
    "\n",
    "Hola Gabriel! Has hecho un excelente trabajo con el proyecto, cada vez más cercas de convertirte en un analista de datos. Realizaste la carga de bases, su análisis inicial, sus ajustes, un análisis de algunos variables conmplementado con gráficas y el desarrollo de las pruebas d ehipótesis. Solamente te dejo algunos comentarios para complementar el análisis. \n",
    "\n",
    "Sigue con el excelente trabajo!\n",
    "</div>"
   ]
  },
  {
   "cell_type": "markdown",
   "metadata": {},
   "source": [
    "<div class=\"alert alert-block alert-info\">\n",
    "<b>Respuesta del estudiante.</b> <a class=\"tocSkip\"></a>\n",
    "\n",
    "Hola Tonatiuh, muchas gracias por las correcciones que me realizáste, ahora siento más organizádo mi trabajo, tambien gracias por los comentarios de apoya :)"
   ]
  },
  {
   "cell_type": "markdown",
   "metadata": {
    "id": "3rYiDeEH0q0f"
   },
   "source": [
    "# ¿Cuál es la mejor tarifa?\n",
    "\n",
    "Trabajas como analista para el operador de telecomunicaciones Megaline. La empresa ofrece a sus clientes dos tarifas de prepago, Surf y Ultimate. El departamento comercial quiere saber cuál de las tarifas genera más ingresos para poder ajustar el presupuesto de publicidad.\n",
    "\n",
    "Vas a realizar un análisis preliminar de las tarifas basado en una selección de clientes relativamente pequeña. Tendrás los datos de 500 clientes de Megaline: quiénes son los clientes, de dónde son, qué tarifa usan, así como la cantidad de llamadas que hicieron y los mensajes de texto que enviaron en 2018. Tu trabajo es analizar el comportamiento de los clientes y determinar qué tarifa de prepago genera más ingresos."
   ]
  },
  {
   "cell_type": "markdown",
   "metadata": {
    "id": "VNddPNRQ0q0w"
   },
   "source": [
    "[Te proporcionamos algunos comentarios para orientarte mientras completas este proyecto. Pero debes asegurarte de eliminar todos los comentarios entre corchetes antes de entregar tu proyecto.]\n",
    "\n",
    "[Antes de sumergirte en el análisis de datos, explica por tu propia cuenta el propósito del proyecto y las acciones que planeas realizar.]\n",
    "\n",
    "[Ten en cuenta que estudiar, modificar y analizar datos es un proceso iterativo. Es normal volver a los pasos anteriores y corregirlos/ampliarlos para permitir nuevos pasos.]"
   ]
  },
  {
   "cell_type": "markdown",
   "metadata": {
    "id": "MQi4IPy70q0y"
   },
   "source": [
    "## Inicialización"
   ]
  },
  {
   "cell_type": "code",
   "execution_count": 1,
   "metadata": {
    "id": "MtYIuBxu0q0z",
    "trusted": false
   },
   "outputs": [],
   "source": [
    "# Cargar todas las librerías\n",
    "from scipy import stats as st\n",
    "import numpy as np\n",
    "import pandas as pd\n",
    "import math\n",
    "import matplotlib.pyplot as plt\n",
    "import seaborn as sns\n"
   ]
  },
  {
   "cell_type": "markdown",
   "metadata": {},
   "source": [
    "<div class=\"alert alert-block alert-success\">\n",
    "<b>Comentario revisor</b> <a class=\"tocSkip\"></a>\n",
    "\n",
    "\n",
    "Gran trabajo con la carga de la libreria math. De esta manera, puedes realizar redondeos con otros métodos. \n",
    "</div>"
   ]
  },
  {
   "cell_type": "markdown",
   "metadata": {
    "id": "4ysWWC5i0q00"
   },
   "source": [
    "## Cargar datos"
   ]
  },
  {
   "cell_type": "code",
   "execution_count": null,
   "metadata": {
    "id": "CCqPW7rS0q01",
    "trusted": false
   },
   "outputs": [],
   "source": [
    "# Carga los archivos de datos en diferentes DataFrames\n",
    "llamadas=pd.read_csv(\"C:\\Users\\gabri\\proy_concluidos\\megaline_calls.csv\")\n",
    "\n",
    "consumo_gigas=pd.read_csv(\"C:\\Users\\gabri\\proy_concluidos\\megaline_internet.csv\")\n",
    "\n",
    "mensajes=pd.read_csv(\"C:\\Users\\gabri\\proy_concluidos\\megaline_messages.csv\")\n",
    "\n",
    "planes=pd.read_csv(\"C:\\Users\\gabri\\proy_concluidos\\megaline_plans.csv\")\n",
    "\n",
    "users=pd.read_csv(\"C:\\Users\\gabri\\proy_concluidos\\megaline_users.csv\")\n",
    "\n",
    "\n"
   ]
  },
  {
   "cell_type": "markdown",
   "metadata": {
    "id": "69qqoJ3r0q01"
   },
   "source": [
    "## Preparar los datos"
   ]
  },
  {
   "cell_type": "markdown",
   "metadata": {
    "id": "vUuZw80S0q01"
   },
   "source": [
    "[Los datos para este proyecto se dividen en varias tablas. Explora cada una para tener una comprensión inicial de los datos. Si es necesario, haz las correcciones requeridas en cada tabla.]"
   ]
  },
  {
   "cell_type": "code",
   "execution_count": 3,
   "metadata": {
    "trusted": false
   },
   "outputs": [
    {
     "name": "stdout",
     "output_type": "stream",
     "text": [
      "##users##\n",
      "<class 'pandas.core.frame.DataFrame'>\n",
      "RangeIndex: 500 entries, 0 to 499\n",
      "Data columns (total 8 columns):\n",
      " #   Column      Non-Null Count  Dtype \n",
      "---  ------      --------------  ----- \n",
      " 0   user_id     500 non-null    int64 \n",
      " 1   first_name  500 non-null    object\n",
      " 2   last_name   500 non-null    object\n",
      " 3   age         500 non-null    int64 \n",
      " 4   city        500 non-null    object\n",
      " 5   reg_date    500 non-null    object\n",
      " 6   plan        500 non-null    object\n",
      " 7   churn_date  34 non-null     object\n",
      "dtypes: int64(2), object(6)\n",
      "memory usage: 31.4+ KB\n"
     ]
    }
   ],
   "source": [
    "# llamadas.info()\n",
    "# print(llamadas.head())\n",
    "# print(\"##consumo##\")\n",
    "# consumo_gigas.info()\n",
    "# print(consumo_gigas.head(20))\n",
    "# print(\"##mensajes##\")\n",
    "# mensajes.info()\n",
    "# print(mensajes.head())\n",
    "# print(\"##planes##\")\n",
    "# planes.info()\n",
    "# print(planes.head())\n",
    "print(\"##users##\")\n",
    "users.info()\n",
    "# print(users.head())"
   ]
  },
  {
   "cell_type": "code",
   "execution_count": 51,
   "metadata": {
    "trusted": false
   },
   "outputs": [],
   "source": [
    "llamadas[\"call_date\"]=pd.to_datetime(llamadas[\"call_date\"],format='%Y-%m-%d')"
   ]
  },
  {
   "cell_type": "code",
   "execution_count": 5,
   "metadata": {
    "trusted": false
   },
   "outputs": [
    {
     "name": "stdout",
     "output_type": "stream",
     "text": [
      "<class 'pandas.core.frame.DataFrame'>\n",
      "RangeIndex: 137735 entries, 0 to 137734\n",
      "Data columns (total 4 columns):\n",
      " #   Column     Non-Null Count   Dtype         \n",
      "---  ------     --------------   -----         \n",
      " 0   id         137735 non-null  object        \n",
      " 1   user_id    137735 non-null  int64         \n",
      " 2   call_date  137735 non-null  datetime64[ns]\n",
      " 3   duration   137735 non-null  float64       \n",
      "dtypes: datetime64[ns](1), float64(1), int64(1), object(1)\n",
      "memory usage: 4.2+ MB\n"
     ]
    }
   ],
   "source": [
    "llamadas.info()"
   ]
  },
  {
   "cell_type": "markdown",
   "metadata": {
    "id": "ohBhimvH0q01"
   },
   "source": [
    "## Tarifas"
   ]
  },
  {
   "cell_type": "code",
   "execution_count": 6,
   "metadata": {
    "id": "GptqP3Q40q02",
    "trusted": false
   },
   "outputs": [
    {
     "name": "stdout",
     "output_type": "stream",
     "text": [
      "<class 'pandas.core.frame.DataFrame'>\n",
      "RangeIndex: 2 entries, 0 to 1\n",
      "Data columns (total 8 columns):\n",
      " #   Column                 Non-Null Count  Dtype  \n",
      "---  ------                 --------------  -----  \n",
      " 0   messages_included      2 non-null      int64  \n",
      " 1   mb_per_month_included  2 non-null      int64  \n",
      " 2   minutes_included       2 non-null      int64  \n",
      " 3   usd_monthly_pay        2 non-null      int64  \n",
      " 4   usd_per_gb             2 non-null      int64  \n",
      " 5   usd_per_message        2 non-null      float64\n",
      " 6   usd_per_minute         2 non-null      float64\n",
      " 7   plan_name              2 non-null      object \n",
      "dtypes: float64(2), int64(5), object(1)\n",
      "memory usage: 256.0+ bytes\n"
     ]
    }
   ],
   "source": [
    "# Imprime la información general/resumida sobre el DataFrame de las tarifas\n",
    "\n",
    "planes.info()\n"
   ]
  },
  {
   "cell_type": "code",
   "execution_count": 7,
   "metadata": {
    "id": "64xzjwL70q02",
    "trusted": false
   },
   "outputs": [
    {
     "data": {
      "text/html": [
       "<div>\n",
       "<style scoped>\n",
       "    .dataframe tbody tr th:only-of-type {\n",
       "        vertical-align: middle;\n",
       "    }\n",
       "\n",
       "    .dataframe tbody tr th {\n",
       "        vertical-align: top;\n",
       "    }\n",
       "\n",
       "    .dataframe thead th {\n",
       "        text-align: right;\n",
       "    }\n",
       "</style>\n",
       "<table border=\"1\" class=\"dataframe\">\n",
       "  <thead>\n",
       "    <tr style=\"text-align: right;\">\n",
       "      <th></th>\n",
       "      <th>messages_included</th>\n",
       "      <th>mb_per_month_included</th>\n",
       "      <th>minutes_included</th>\n",
       "      <th>usd_monthly_pay</th>\n",
       "      <th>usd_per_gb</th>\n",
       "      <th>usd_per_message</th>\n",
       "      <th>usd_per_minute</th>\n",
       "      <th>plan_name</th>\n",
       "    </tr>\n",
       "  </thead>\n",
       "  <tbody>\n",
       "    <tr>\n",
       "      <th>0</th>\n",
       "      <td>50</td>\n",
       "      <td>15360</td>\n",
       "      <td>500</td>\n",
       "      <td>20</td>\n",
       "      <td>10</td>\n",
       "      <td>0.03</td>\n",
       "      <td>0.03</td>\n",
       "      <td>surf</td>\n",
       "    </tr>\n",
       "    <tr>\n",
       "      <th>1</th>\n",
       "      <td>1000</td>\n",
       "      <td>30720</td>\n",
       "      <td>3000</td>\n",
       "      <td>70</td>\n",
       "      <td>7</td>\n",
       "      <td>0.01</td>\n",
       "      <td>0.01</td>\n",
       "      <td>ultimate</td>\n",
       "    </tr>\n",
       "  </tbody>\n",
       "</table>\n",
       "</div>"
      ],
      "text/plain": [
       "   messages_included  mb_per_month_included  minutes_included  \\\n",
       "0                 50                  15360               500   \n",
       "1               1000                  30720              3000   \n",
       "\n",
       "   usd_monthly_pay  usd_per_gb  usd_per_message  usd_per_minute plan_name  \n",
       "0               20          10             0.03            0.03      surf  \n",
       "1               70           7             0.01            0.01  ultimate  "
      ]
     },
     "execution_count": 7,
     "metadata": {},
     "output_type": "execute_result"
    }
   ],
   "source": [
    "# Imprime una muestra de los datos para las tarifas\n",
    "planes"
   ]
  },
  {
   "cell_type": "markdown",
   "metadata": {
    "id": "mEc_3_hs0q02"
   },
   "source": [
    "[Describe lo que ves y observas en la información general y en la muestra de datos impresa para el precio de datos anterior. ¿Hay algún problema (tipos de datos no adecuados, datos ausentes, etc.) que pudieran necesitar investigación y cambios adicionales? ¿Cómo se puede arreglar?]\n"
   ]
  },
  {
   "cell_type": "markdown",
   "metadata": {
    "id": "R3C05i1l0q03"
   },
   "source": [
    "## Corregir datos"
   ]
  },
  {
   "cell_type": "markdown",
   "metadata": {
    "id": "bIi8StZI0q03"
   },
   "source": [
    "[Corrige los problemas obvios con los datos basándote en las observaciones iniciales.]"
   ]
  },
  {
   "cell_type": "code",
   "execution_count": null,
   "metadata": {
    "id": "Y7SVmjGn0q03",
    "trusted": false
   },
   "outputs": [],
   "source": []
  },
  {
   "cell_type": "markdown",
   "metadata": {
    "id": "LJir7bml0q03"
   },
   "source": [
    "## Enriquecer los datos"
   ]
  },
  {
   "cell_type": "markdown",
   "metadata": {
    "id": "eqADpCfg0q04"
   },
   "source": [
    "[Agrega factores adicionales a los datos si crees que pudieran ser útiles.]"
   ]
  },
  {
   "cell_type": "markdown",
   "metadata": {},
   "source": [
    "\n",
    "<div class=\"alert alert-block alert-warning\">\n",
    "<b>Comentario Revisor</b> <a class=\"tocSkip\"></a>\n",
    "\n",
    "Muy buen trabajo, solamente te sugiero que en este apartado menciones un poco sobre la transformación que se debe realizar de megabytes a gigabytes. \n",
    "</div>"
   ]
  },
  {
   "cell_type": "markdown",
   "metadata": {},
   "source": [
    "considero que en general la info está completa y no es necesario realizar cambios en ella , sin embargo, sí es necesario hacer la conversión de mb a gb en el dataframe \"consumo_gigas\" para poder calcular el valor del excedente para cada plan"
   ]
  },
  {
   "cell_type": "markdown",
   "metadata": {
    "id": "1n2X6WXf0q04"
   },
   "source": [
    "## Usuarios/as"
   ]
  },
  {
   "cell_type": "code",
   "execution_count": 8,
   "metadata": {
    "trusted": false
   },
   "outputs": [],
   "source": [
    "users=users[users[\"churn_date\"].isna()]"
   ]
  },
  {
   "cell_type": "markdown",
   "metadata": {
    "id": "dCZoUq4f0q06"
   },
   "source": [
    "[Describe lo que ves y observas en la información general y en la muestra de datos impresa para el precio de datos anterior. ¿Hay algún problema (tipos de datos no adecuados, datos ausentes, etc.) que pudieran necesitar investigación y cambios adicionales? ¿Cómo se puede arreglar?]"
   ]
  },
  {
   "cell_type": "markdown",
   "metadata": {
    "id": "BX5FQh_I0q06"
   },
   "source": [
    "### Corregir los datos"
   ]
  },
  {
   "cell_type": "markdown",
   "metadata": {
    "id": "8OdKMwJv0q06"
   },
   "source": [
    "[Corrige los problemas obvios con los datos basándote en las observaciones iniciales.]"
   ]
  },
  {
   "cell_type": "code",
   "execution_count": 48,
   "metadata": {
    "id": "yUqX-K0C0q07",
    "trusted": false
   },
   "outputs": [],
   "source": [
    "users[\"reg_date\"]=pd.to_datetime(users[\"reg_date\"], format='%Y-%m-%d')"
   ]
  },
  {
   "cell_type": "markdown",
   "metadata": {},
   "source": [
    "\n",
    "<div class=\"alert alert-block alert-warning\">\n",
    "<b>Comentario Revisor</b> <a class=\"tocSkip\"></a>\n",
    "\n",
    "En todos los casos en los que cambiamos el tipo de variable a datetime, te recomiendo agregar el argumento \"format='%Y-%m-%d'\" dentro de la función to_datetime(). De esta manera, puedes asegurarte siempre de que el formato de la fecha que deseas cambiar sea el que necesitas.\n",
    "</div>"
   ]
  },
  {
   "cell_type": "markdown",
   "metadata": {},
   "source": [
    "<div class=\"alert alert-block alert-success\">\n",
    "<b>Comentario del revisor</b> <a class=\"tocSkip\"></a>\n",
    "\n",
    "Gran trabajo con el ajuste!"
   ]
  },
  {
   "cell_type": "markdown",
   "metadata": {
    "id": "ycwuARJp0q07"
   },
   "source": [
    "### Enriquecer los datos"
   ]
  },
  {
   "cell_type": "markdown",
   "metadata": {
    "id": "96NIh4CJ0q08"
   },
   "source": [
    "[Agrega factores adicionales a los datos si crees que pudieran ser útiles.]"
   ]
  },
  {
   "cell_type": "code",
   "execution_count": 10,
   "metadata": {
    "id": "iq0AaBS90q08",
    "trusted": false
   },
   "outputs": [],
   "source": [
    "users[\"mes\"]=users[\"reg_date\"].dt.month"
   ]
  },
  {
   "cell_type": "markdown",
   "metadata": {
    "id": "o7MeKCid0q08"
   },
   "source": [
    "## Llamadas"
   ]
  },
  {
   "cell_type": "code",
   "execution_count": 11,
   "metadata": {
    "id": "6dDlnoDm0q08",
    "trusted": false
   },
   "outputs": [
    {
     "name": "stdout",
     "output_type": "stream",
     "text": [
      "         id  user_id  call_date  duration\n",
      "0   1000_93     1000 2018-12-27      8.52\n",
      "1  1000_145     1000 2018-12-27     13.66\n",
      "2  1000_247     1000 2018-12-27     14.48\n",
      "3  1000_309     1000 2018-12-28      5.76\n",
      "4  1000_380     1000 2018-12-30      4.22\n"
     ]
    }
   ],
   "source": [
    "# Imprime la información general/resumida sobre el DataFrame de las llamadas\n",
    "print(llamadas.head())\n"
   ]
  },
  {
   "cell_type": "code",
   "execution_count": 12,
   "metadata": {
    "id": "kuh1vlNB0q09",
    "trusted": false
   },
   "outputs": [
    {
     "name": "stdout",
     "output_type": "stream",
     "text": [
      "<class 'pandas.core.frame.DataFrame'>\n",
      "RangeIndex: 137735 entries, 0 to 137734\n",
      "Data columns (total 4 columns):\n",
      " #   Column     Non-Null Count   Dtype         \n",
      "---  ------     --------------   -----         \n",
      " 0   id         137735 non-null  object        \n",
      " 1   user_id    137735 non-null  int64         \n",
      " 2   call_date  137735 non-null  datetime64[ns]\n",
      " 3   duration   137735 non-null  float64       \n",
      "dtypes: datetime64[ns](1), float64(1), int64(1), object(1)\n",
      "memory usage: 4.2+ MB\n"
     ]
    }
   ],
   "source": [
    "# Imprime una muestra de datos para las llamadas\n",
    "\n",
    "llamadas.info()"
   ]
  },
  {
   "cell_type": "markdown",
   "metadata": {
    "id": "DOAxYJSx0q09"
   },
   "source": [
    "[Describe lo que ves y observas en la información general y en la muestra de datos impresa para el precio de datos anterior. ¿Hay algún problema (tipos de datos no adecuados, datos ausentes, etc.) que pudieran necesitar investigación y cambios adicionales? ¿Cómo se puede arreglar?]"
   ]
  },
  {
   "cell_type": "markdown",
   "metadata": {
    "id": "S7hzxmbX0q0-"
   },
   "source": [
    "### Corregir los datos"
   ]
  },
  {
   "cell_type": "markdown",
   "metadata": {
    "id": "YxWyAjD20q0-"
   },
   "source": [
    "[Corrige los problemas obvios con los datos basándote en las observaciones iniciales.]"
   ]
  },
  {
   "cell_type": "code",
   "execution_count": 13,
   "metadata": {
    "id": "S2r8xA4f0q0-",
    "trusted": false
   },
   "outputs": [],
   "source": [
    "def redondeo(fila):\n",
    "    return math.ceil(fila)\n",
    "\n",
    "llamadas[\"duración_redondeada\"]=llamadas[\"duration\"].apply(redondeo)\n",
    "llamadas[\"mes\"]=llamadas[\"call_date\"].dt.month"
   ]
  },
  {
   "cell_type": "markdown",
   "metadata": {},
   "source": [
    "<div class=\"alert alert-block alert-success\">\n",
    "<b>Comentario del revisor</b> <a class=\"tocSkip\"></a>\n",
    "\n",
    "Muy buen trabajo en redondear la duración de las llamadas.\n",
    "    \n",
    "</div>"
   ]
  },
  {
   "cell_type": "markdown",
   "metadata": {
    "id": "KrMgTrlG0q0_"
   },
   "source": [
    "### Enriquecer los datos"
   ]
  },
  {
   "cell_type": "markdown",
   "metadata": {
    "id": "a9MbmEvE0q0_"
   },
   "source": [
    "[Agrega factores adicionales a los datos si crees que pudieran ser útiles.]"
   ]
  },
  {
   "cell_type": "code",
   "execution_count": null,
   "metadata": {
    "id": "iZ1avpA_0q0_",
    "trusted": false
   },
   "outputs": [],
   "source": []
  },
  {
   "cell_type": "markdown",
   "metadata": {
    "id": "mOUZSi180q0_"
   },
   "source": [
    "## Mensajes"
   ]
  },
  {
   "cell_type": "code",
   "execution_count": 14,
   "metadata": {
    "id": "R-bYJpdV0q1A",
    "trusted": false
   },
   "outputs": [
    {
     "name": "stdout",
     "output_type": "stream",
     "text": [
      "<class 'pandas.core.frame.DataFrame'>\n",
      "RangeIndex: 76051 entries, 0 to 76050\n",
      "Data columns (total 3 columns):\n",
      " #   Column        Non-Null Count  Dtype \n",
      "---  ------        --------------  ----- \n",
      " 0   id            76051 non-null  object\n",
      " 1   user_id       76051 non-null  int64 \n",
      " 2   message_date  76051 non-null  object\n",
      "dtypes: int64(1), object(2)\n",
      "memory usage: 1.7+ MB\n"
     ]
    }
   ],
   "source": [
    "# Imprime la información general/resumida sobre el DataFrame de los mensajes\n",
    "mensajes.info()\n"
   ]
  },
  {
   "cell_type": "code",
   "execution_count": 15,
   "metadata": {
    "id": "mCEl2iGE0q1A",
    "trusted": false
   },
   "outputs": [
    {
     "data": {
      "text/html": [
       "<div>\n",
       "<style scoped>\n",
       "    .dataframe tbody tr th:only-of-type {\n",
       "        vertical-align: middle;\n",
       "    }\n",
       "\n",
       "    .dataframe tbody tr th {\n",
       "        vertical-align: top;\n",
       "    }\n",
       "\n",
       "    .dataframe thead th {\n",
       "        text-align: right;\n",
       "    }\n",
       "</style>\n",
       "<table border=\"1\" class=\"dataframe\">\n",
       "  <thead>\n",
       "    <tr style=\"text-align: right;\">\n",
       "      <th></th>\n",
       "      <th>id</th>\n",
       "      <th>user_id</th>\n",
       "      <th>message_date</th>\n",
       "    </tr>\n",
       "  </thead>\n",
       "  <tbody>\n",
       "    <tr>\n",
       "      <th>0</th>\n",
       "      <td>1000_125</td>\n",
       "      <td>1000</td>\n",
       "      <td>2018-12-27</td>\n",
       "    </tr>\n",
       "    <tr>\n",
       "      <th>1</th>\n",
       "      <td>1000_160</td>\n",
       "      <td>1000</td>\n",
       "      <td>2018-12-31</td>\n",
       "    </tr>\n",
       "    <tr>\n",
       "      <th>2</th>\n",
       "      <td>1000_223</td>\n",
       "      <td>1000</td>\n",
       "      <td>2018-12-31</td>\n",
       "    </tr>\n",
       "    <tr>\n",
       "      <th>3</th>\n",
       "      <td>1000_251</td>\n",
       "      <td>1000</td>\n",
       "      <td>2018-12-27</td>\n",
       "    </tr>\n",
       "    <tr>\n",
       "      <th>4</th>\n",
       "      <td>1000_255</td>\n",
       "      <td>1000</td>\n",
       "      <td>2018-12-26</td>\n",
       "    </tr>\n",
       "  </tbody>\n",
       "</table>\n",
       "</div>"
      ],
      "text/plain": [
       "         id  user_id message_date\n",
       "0  1000_125     1000   2018-12-27\n",
       "1  1000_160     1000   2018-12-31\n",
       "2  1000_223     1000   2018-12-31\n",
       "3  1000_251     1000   2018-12-27\n",
       "4  1000_255     1000   2018-12-26"
      ]
     },
     "execution_count": 15,
     "metadata": {},
     "output_type": "execute_result"
    }
   ],
   "source": [
    "# Imprime una muestra de datos para los mensajes\n",
    "mensajes.head()\n"
   ]
  },
  {
   "cell_type": "markdown",
   "metadata": {
    "id": "04xDj7KH0q1A"
   },
   "source": [
    "[Describe lo que ves y observas en la información general y en la muestra de datos impresa para el precio de datos anterior. ¿Hay algún problema (tipos de datos no adecuados, datos ausentes, etc.) que pudieran necesitar investigación y cambios adicionales? ¿Cómo se puede arreglar?]"
   ]
  },
  {
   "cell_type": "markdown",
   "metadata": {
    "id": "Sprfak900q1B"
   },
   "source": [
    "### Corregir los datos"
   ]
  },
  {
   "cell_type": "markdown",
   "metadata": {
    "id": "eGw7d9j10q1B"
   },
   "source": [
    "[Corrige los problemas obvios con los datos basándote en las observaciones iniciales.]"
   ]
  },
  {
   "cell_type": "code",
   "execution_count": 49,
   "metadata": {
    "id": "vsllvkoa0q1B",
    "trusted": false
   },
   "outputs": [
    {
     "name": "stdout",
     "output_type": "stream",
     "text": [
      "<class 'pandas.core.frame.DataFrame'>\n",
      "RangeIndex: 76051 entries, 0 to 76050\n",
      "Data columns (total 4 columns):\n",
      " #   Column        Non-Null Count  Dtype         \n",
      "---  ------        --------------  -----         \n",
      " 0   id            76051 non-null  object        \n",
      " 1   user_id       76051 non-null  int64         \n",
      " 2   message_date  76051 non-null  datetime64[ns]\n",
      " 3   mes           76051 non-null  int64         \n",
      "dtypes: datetime64[ns](1), int64(2), object(1)\n",
      "memory usage: 2.3+ MB\n"
     ]
    }
   ],
   "source": [
    "mensajes[\"message_date\"]=pd.to_datetime(mensajes[\"message_date\"], format='%Y-%m-%d')\n",
    "mensajes.info()"
   ]
  },
  {
   "cell_type": "markdown",
   "metadata": {
    "id": "HvLid7iD0q1B"
   },
   "source": [
    "### Enriquecer los datos"
   ]
  },
  {
   "cell_type": "markdown",
   "metadata": {
    "id": "8nhPFKIe0q1C"
   },
   "source": [
    "[Agrega factores adicionales a los datos si crees que pudieran ser útiles.]"
   ]
  },
  {
   "cell_type": "code",
   "execution_count": 17,
   "metadata": {
    "id": "zYEXZac10q1C",
    "trusted": false
   },
   "outputs": [
    {
     "data": {
      "text/html": [
       "<div>\n",
       "<style scoped>\n",
       "    .dataframe tbody tr th:only-of-type {\n",
       "        vertical-align: middle;\n",
       "    }\n",
       "\n",
       "    .dataframe tbody tr th {\n",
       "        vertical-align: top;\n",
       "    }\n",
       "\n",
       "    .dataframe thead th {\n",
       "        text-align: right;\n",
       "    }\n",
       "</style>\n",
       "<table border=\"1\" class=\"dataframe\">\n",
       "  <thead>\n",
       "    <tr style=\"text-align: right;\">\n",
       "      <th></th>\n",
       "      <th>id</th>\n",
       "      <th>user_id</th>\n",
       "      <th>message_date</th>\n",
       "      <th>mes</th>\n",
       "    </tr>\n",
       "  </thead>\n",
       "  <tbody>\n",
       "    <tr>\n",
       "      <th>0</th>\n",
       "      <td>1000_125</td>\n",
       "      <td>1000</td>\n",
       "      <td>2018-12-27</td>\n",
       "      <td>12</td>\n",
       "    </tr>\n",
       "    <tr>\n",
       "      <th>1</th>\n",
       "      <td>1000_160</td>\n",
       "      <td>1000</td>\n",
       "      <td>2018-12-31</td>\n",
       "      <td>12</td>\n",
       "    </tr>\n",
       "    <tr>\n",
       "      <th>2</th>\n",
       "      <td>1000_223</td>\n",
       "      <td>1000</td>\n",
       "      <td>2018-12-31</td>\n",
       "      <td>12</td>\n",
       "    </tr>\n",
       "    <tr>\n",
       "      <th>3</th>\n",
       "      <td>1000_251</td>\n",
       "      <td>1000</td>\n",
       "      <td>2018-12-27</td>\n",
       "      <td>12</td>\n",
       "    </tr>\n",
       "    <tr>\n",
       "      <th>4</th>\n",
       "      <td>1000_255</td>\n",
       "      <td>1000</td>\n",
       "      <td>2018-12-26</td>\n",
       "      <td>12</td>\n",
       "    </tr>\n",
       "    <tr>\n",
       "      <th>...</th>\n",
       "      <td>...</td>\n",
       "      <td>...</td>\n",
       "      <td>...</td>\n",
       "      <td>...</td>\n",
       "    </tr>\n",
       "    <tr>\n",
       "      <th>76046</th>\n",
       "      <td>1497_526</td>\n",
       "      <td>1497</td>\n",
       "      <td>2018-12-24</td>\n",
       "      <td>12</td>\n",
       "    </tr>\n",
       "    <tr>\n",
       "      <th>76047</th>\n",
       "      <td>1497_536</td>\n",
       "      <td>1497</td>\n",
       "      <td>2018-12-24</td>\n",
       "      <td>12</td>\n",
       "    </tr>\n",
       "    <tr>\n",
       "      <th>76048</th>\n",
       "      <td>1497_547</td>\n",
       "      <td>1497</td>\n",
       "      <td>2018-12-31</td>\n",
       "      <td>12</td>\n",
       "    </tr>\n",
       "    <tr>\n",
       "      <th>76049</th>\n",
       "      <td>1497_558</td>\n",
       "      <td>1497</td>\n",
       "      <td>2018-12-24</td>\n",
       "      <td>12</td>\n",
       "    </tr>\n",
       "    <tr>\n",
       "      <th>76050</th>\n",
       "      <td>1497_613</td>\n",
       "      <td>1497</td>\n",
       "      <td>2018-12-23</td>\n",
       "      <td>12</td>\n",
       "    </tr>\n",
       "  </tbody>\n",
       "</table>\n",
       "<p>76051 rows × 4 columns</p>\n",
       "</div>"
      ],
      "text/plain": [
       "             id  user_id message_date  mes\n",
       "0      1000_125     1000   2018-12-27   12\n",
       "1      1000_160     1000   2018-12-31   12\n",
       "2      1000_223     1000   2018-12-31   12\n",
       "3      1000_251     1000   2018-12-27   12\n",
       "4      1000_255     1000   2018-12-26   12\n",
       "...         ...      ...          ...  ...\n",
       "76046  1497_526     1497   2018-12-24   12\n",
       "76047  1497_536     1497   2018-12-24   12\n",
       "76048  1497_547     1497   2018-12-31   12\n",
       "76049  1497_558     1497   2018-12-24   12\n",
       "76050  1497_613     1497   2018-12-23   12\n",
       "\n",
       "[76051 rows x 4 columns]"
      ]
     },
     "execution_count": 17,
     "metadata": {},
     "output_type": "execute_result"
    }
   ],
   "source": [
    "mensajes[\"mes\"]=mensajes[\"message_date\"].dt.month\n",
    "mensajes"
   ]
  },
  {
   "cell_type": "markdown",
   "metadata": {
    "id": "bStkaxn40q1C"
   },
   "source": [
    "## Internet"
   ]
  },
  {
   "cell_type": "code",
   "execution_count": 18,
   "metadata": {
    "id": "e-Uz5qyn0q1C",
    "trusted": false
   },
   "outputs": [
    {
     "data": {
      "text/html": [
       "<div>\n",
       "<style scoped>\n",
       "    .dataframe tbody tr th:only-of-type {\n",
       "        vertical-align: middle;\n",
       "    }\n",
       "\n",
       "    .dataframe tbody tr th {\n",
       "        vertical-align: top;\n",
       "    }\n",
       "\n",
       "    .dataframe thead th {\n",
       "        text-align: right;\n",
       "    }\n",
       "</style>\n",
       "<table border=\"1\" class=\"dataframe\">\n",
       "  <thead>\n",
       "    <tr style=\"text-align: right;\">\n",
       "      <th></th>\n",
       "      <th>id</th>\n",
       "      <th>user_id</th>\n",
       "      <th>session_date</th>\n",
       "      <th>mb_used</th>\n",
       "    </tr>\n",
       "  </thead>\n",
       "  <tbody>\n",
       "    <tr>\n",
       "      <th>0</th>\n",
       "      <td>1000_13</td>\n",
       "      <td>1000</td>\n",
       "      <td>2018-12-29</td>\n",
       "      <td>89.86</td>\n",
       "    </tr>\n",
       "    <tr>\n",
       "      <th>1</th>\n",
       "      <td>1000_204</td>\n",
       "      <td>1000</td>\n",
       "      <td>2018-12-31</td>\n",
       "      <td>0.00</td>\n",
       "    </tr>\n",
       "    <tr>\n",
       "      <th>2</th>\n",
       "      <td>1000_379</td>\n",
       "      <td>1000</td>\n",
       "      <td>2018-12-28</td>\n",
       "      <td>660.40</td>\n",
       "    </tr>\n",
       "    <tr>\n",
       "      <th>3</th>\n",
       "      <td>1000_413</td>\n",
       "      <td>1000</td>\n",
       "      <td>2018-12-26</td>\n",
       "      <td>270.99</td>\n",
       "    </tr>\n",
       "    <tr>\n",
       "      <th>4</th>\n",
       "      <td>1000_442</td>\n",
       "      <td>1000</td>\n",
       "      <td>2018-12-27</td>\n",
       "      <td>880.22</td>\n",
       "    </tr>\n",
       "    <tr>\n",
       "      <th>...</th>\n",
       "      <td>...</td>\n",
       "      <td>...</td>\n",
       "      <td>...</td>\n",
       "      <td>...</td>\n",
       "    </tr>\n",
       "    <tr>\n",
       "      <th>104820</th>\n",
       "      <td>1499_215</td>\n",
       "      <td>1499</td>\n",
       "      <td>2018-10-20</td>\n",
       "      <td>218.06</td>\n",
       "    </tr>\n",
       "    <tr>\n",
       "      <th>104821</th>\n",
       "      <td>1499_216</td>\n",
       "      <td>1499</td>\n",
       "      <td>2018-12-30</td>\n",
       "      <td>304.72</td>\n",
       "    </tr>\n",
       "    <tr>\n",
       "      <th>104822</th>\n",
       "      <td>1499_217</td>\n",
       "      <td>1499</td>\n",
       "      <td>2018-09-22</td>\n",
       "      <td>292.75</td>\n",
       "    </tr>\n",
       "    <tr>\n",
       "      <th>104823</th>\n",
       "      <td>1499_218</td>\n",
       "      <td>1499</td>\n",
       "      <td>2018-12-07</td>\n",
       "      <td>0.00</td>\n",
       "    </tr>\n",
       "    <tr>\n",
       "      <th>104824</th>\n",
       "      <td>1499_219</td>\n",
       "      <td>1499</td>\n",
       "      <td>2018-12-24</td>\n",
       "      <td>758.31</td>\n",
       "    </tr>\n",
       "  </tbody>\n",
       "</table>\n",
       "<p>104825 rows × 4 columns</p>\n",
       "</div>"
      ],
      "text/plain": [
       "              id  user_id session_date  mb_used\n",
       "0        1000_13     1000   2018-12-29    89.86\n",
       "1       1000_204     1000   2018-12-31     0.00\n",
       "2       1000_379     1000   2018-12-28   660.40\n",
       "3       1000_413     1000   2018-12-26   270.99\n",
       "4       1000_442     1000   2018-12-27   880.22\n",
       "...          ...      ...          ...      ...\n",
       "104820  1499_215     1499   2018-10-20   218.06\n",
       "104821  1499_216     1499   2018-12-30   304.72\n",
       "104822  1499_217     1499   2018-09-22   292.75\n",
       "104823  1499_218     1499   2018-12-07     0.00\n",
       "104824  1499_219     1499   2018-12-24   758.31\n",
       "\n",
       "[104825 rows x 4 columns]"
      ]
     },
     "execution_count": 18,
     "metadata": {},
     "output_type": "execute_result"
    }
   ],
   "source": [
    "# Imprime la información general/resumida sobre el DataFrame de internet\n",
    "\n",
    "consumo_gigas"
   ]
  },
  {
   "cell_type": "code",
   "execution_count": 19,
   "metadata": {
    "id": "9r3x_XLw0q1C",
    "trusted": false
   },
   "outputs": [
    {
     "name": "stdout",
     "output_type": "stream",
     "text": [
      "<class 'pandas.core.frame.DataFrame'>\n",
      "RangeIndex: 104825 entries, 0 to 104824\n",
      "Data columns (total 4 columns):\n",
      " #   Column        Non-Null Count   Dtype  \n",
      "---  ------        --------------   -----  \n",
      " 0   id            104825 non-null  object \n",
      " 1   user_id       104825 non-null  int64  \n",
      " 2   session_date  104825 non-null  object \n",
      " 3   mb_used       104825 non-null  float64\n",
      "dtypes: float64(1), int64(1), object(2)\n",
      "memory usage: 3.2+ MB\n"
     ]
    }
   ],
   "source": [
    "# Imprime una muestra de datos para el tráfico de internet\n",
    "consumo_gigas.info()\n"
   ]
  },
  {
   "cell_type": "markdown",
   "metadata": {
    "id": "EzOG5ik30q1D"
   },
   "source": [
    "[Describe lo que ves y observas en la información general y en la muestra de datos impresa para el precio de datos anterior. ¿Hay algún problema (tipos de datos no adecuados, datos ausentes, etc.) que pudieran necesitar investigación y cambios adicionales? ¿Cómo se puede arreglar?]"
   ]
  },
  {
   "cell_type": "markdown",
   "metadata": {
    "id": "yA0tkPFg0q1D"
   },
   "source": [
    "### Corregir los datos"
   ]
  },
  {
   "cell_type": "markdown",
   "metadata": {
    "id": "zlZMuIEK0q1D"
   },
   "source": [
    "[Corrige los problemas obvios con los datos basándote en las observaciones iniciales.]"
   ]
  },
  {
   "cell_type": "code",
   "execution_count": 50,
   "metadata": {
    "id": "zVeanzdd0q1E",
    "trusted": false
   },
   "outputs": [],
   "source": [
    "consumo_gigas[\"session_date\"]=pd.to_datetime(consumo_gigas[\"session_date\"],format='%Y-%m-%d')\n",
    "consumo_gigas[\"consumo_redondeado\"]=consumo_gigas[\"mb_used\"].apply(redondeo)\n"
   ]
  },
  {
   "cell_type": "markdown",
   "metadata": {
    "id": "e8_mLF4a0q1E"
   },
   "source": [
    "### Enriquecer los datos"
   ]
  },
  {
   "cell_type": "markdown",
   "metadata": {
    "id": "xhNdn2tE0q1E"
   },
   "source": [
    "[Agrega factores adicionales a los datos si crees que pudieran ser útiles.]"
   ]
  },
  {
   "cell_type": "code",
   "execution_count": 21,
   "metadata": {
    "id": "ESiYPIEK0q1E",
    "trusted": false
   },
   "outputs": [
    {
     "data": {
      "text/html": [
       "<div>\n",
       "<style scoped>\n",
       "    .dataframe tbody tr th:only-of-type {\n",
       "        vertical-align: middle;\n",
       "    }\n",
       "\n",
       "    .dataframe tbody tr th {\n",
       "        vertical-align: top;\n",
       "    }\n",
       "\n",
       "    .dataframe thead th {\n",
       "        text-align: right;\n",
       "    }\n",
       "</style>\n",
       "<table border=\"1\" class=\"dataframe\">\n",
       "  <thead>\n",
       "    <tr style=\"text-align: right;\">\n",
       "      <th></th>\n",
       "      <th>id</th>\n",
       "      <th>user_id</th>\n",
       "      <th>session_date</th>\n",
       "      <th>mb_used</th>\n",
       "      <th>consumo_redondeado</th>\n",
       "      <th>mes</th>\n",
       "    </tr>\n",
       "  </thead>\n",
       "  <tbody>\n",
       "    <tr>\n",
       "      <th>0</th>\n",
       "      <td>1000_13</td>\n",
       "      <td>1000</td>\n",
       "      <td>2018-12-29</td>\n",
       "      <td>89.86</td>\n",
       "      <td>90</td>\n",
       "      <td>12</td>\n",
       "    </tr>\n",
       "    <tr>\n",
       "      <th>1</th>\n",
       "      <td>1000_204</td>\n",
       "      <td>1000</td>\n",
       "      <td>2018-12-31</td>\n",
       "      <td>0.00</td>\n",
       "      <td>0</td>\n",
       "      <td>12</td>\n",
       "    </tr>\n",
       "    <tr>\n",
       "      <th>2</th>\n",
       "      <td>1000_379</td>\n",
       "      <td>1000</td>\n",
       "      <td>2018-12-28</td>\n",
       "      <td>660.40</td>\n",
       "      <td>661</td>\n",
       "      <td>12</td>\n",
       "    </tr>\n",
       "    <tr>\n",
       "      <th>3</th>\n",
       "      <td>1000_413</td>\n",
       "      <td>1000</td>\n",
       "      <td>2018-12-26</td>\n",
       "      <td>270.99</td>\n",
       "      <td>271</td>\n",
       "      <td>12</td>\n",
       "    </tr>\n",
       "    <tr>\n",
       "      <th>4</th>\n",
       "      <td>1000_442</td>\n",
       "      <td>1000</td>\n",
       "      <td>2018-12-27</td>\n",
       "      <td>880.22</td>\n",
       "      <td>881</td>\n",
       "      <td>12</td>\n",
       "    </tr>\n",
       "    <tr>\n",
       "      <th>...</th>\n",
       "      <td>...</td>\n",
       "      <td>...</td>\n",
       "      <td>...</td>\n",
       "      <td>...</td>\n",
       "      <td>...</td>\n",
       "      <td>...</td>\n",
       "    </tr>\n",
       "    <tr>\n",
       "      <th>104820</th>\n",
       "      <td>1499_215</td>\n",
       "      <td>1499</td>\n",
       "      <td>2018-10-20</td>\n",
       "      <td>218.06</td>\n",
       "      <td>219</td>\n",
       "      <td>10</td>\n",
       "    </tr>\n",
       "    <tr>\n",
       "      <th>104821</th>\n",
       "      <td>1499_216</td>\n",
       "      <td>1499</td>\n",
       "      <td>2018-12-30</td>\n",
       "      <td>304.72</td>\n",
       "      <td>305</td>\n",
       "      <td>12</td>\n",
       "    </tr>\n",
       "    <tr>\n",
       "      <th>104822</th>\n",
       "      <td>1499_217</td>\n",
       "      <td>1499</td>\n",
       "      <td>2018-09-22</td>\n",
       "      <td>292.75</td>\n",
       "      <td>293</td>\n",
       "      <td>9</td>\n",
       "    </tr>\n",
       "    <tr>\n",
       "      <th>104823</th>\n",
       "      <td>1499_218</td>\n",
       "      <td>1499</td>\n",
       "      <td>2018-12-07</td>\n",
       "      <td>0.00</td>\n",
       "      <td>0</td>\n",
       "      <td>12</td>\n",
       "    </tr>\n",
       "    <tr>\n",
       "      <th>104824</th>\n",
       "      <td>1499_219</td>\n",
       "      <td>1499</td>\n",
       "      <td>2018-12-24</td>\n",
       "      <td>758.31</td>\n",
       "      <td>759</td>\n",
       "      <td>12</td>\n",
       "    </tr>\n",
       "  </tbody>\n",
       "</table>\n",
       "<p>104825 rows × 6 columns</p>\n",
       "</div>"
      ],
      "text/plain": [
       "              id  user_id session_date  mb_used  consumo_redondeado  mes\n",
       "0        1000_13     1000   2018-12-29    89.86                  90   12\n",
       "1       1000_204     1000   2018-12-31     0.00                   0   12\n",
       "2       1000_379     1000   2018-12-28   660.40                 661   12\n",
       "3       1000_413     1000   2018-12-26   270.99                 271   12\n",
       "4       1000_442     1000   2018-12-27   880.22                 881   12\n",
       "...          ...      ...          ...      ...                 ...  ...\n",
       "104820  1499_215     1499   2018-10-20   218.06                 219   10\n",
       "104821  1499_216     1499   2018-12-30   304.72                 305   12\n",
       "104822  1499_217     1499   2018-09-22   292.75                 293    9\n",
       "104823  1499_218     1499   2018-12-07     0.00                   0   12\n",
       "104824  1499_219     1499   2018-12-24   758.31                 759   12\n",
       "\n",
       "[104825 rows x 6 columns]"
      ]
     },
     "execution_count": 21,
     "metadata": {},
     "output_type": "execute_result"
    }
   ],
   "source": [
    "consumo_gigas[\"mes\"]=consumo_gigas[\"session_date\"].dt.month\n",
    "consumo_gigas"
   ]
  },
  {
   "cell_type": "markdown",
   "metadata": {},
   "source": [
    "cuando se haga la agrupación de los dátos, se redondeará el valor de \"mb_used\" con el método math.ceil() que redondea hacia el entero superior más cercano, método comveniente según las políticas de la empresa."
   ]
  },
  {
   "cell_type": "markdown",
   "metadata": {},
   "source": [
    "<div class=\"alert alert-block alert-warning\">\n",
    "<b>Comentario revisor</b> <a class=\"tocSkip\"></a>\n",
    "\n",
    "\n",
    "Te recomiendo solamente comentar que cuando agrupemos los datos vamos a tener que redondear hacia arriba lo valores de la transformación de mbegabyter a gigabyte, para este ejercicio debemos hacer el redondeo superior dado que se cobra el costo extra en cuanto se pasa de los límites.Por lo que es necesario hacer la transformación de mb a gb y después hacer el redondeo.  \n",
    "</div>"
   ]
  },
  {
   "cell_type": "markdown",
   "metadata": {
    "id": "3UA2cqIW0q1E"
   },
   "source": [
    "## Estudiar las condiciones de las tarifas"
   ]
  },
  {
   "cell_type": "markdown",
   "metadata": {
    "id": "T86Sqltq0q1F"
   },
   "source": [
    "[Es sumamente importante entender cómo funcionan las tarifas, cómo se les cobra a los usuarios en función de su plan de suscripción. Así que te sugerimos imprimir la información de la tarifa para ver una vez más sus condiciones.]"
   ]
  },
  {
   "cell_type": "code",
   "execution_count": 22,
   "metadata": {
    "id": "i409op8p0q1F",
    "trusted": false
   },
   "outputs": [
    {
     "data": {
      "text/html": [
       "<div>\n",
       "<style scoped>\n",
       "    .dataframe tbody tr th:only-of-type {\n",
       "        vertical-align: middle;\n",
       "    }\n",
       "\n",
       "    .dataframe tbody tr th {\n",
       "        vertical-align: top;\n",
       "    }\n",
       "\n",
       "    .dataframe thead th {\n",
       "        text-align: right;\n",
       "    }\n",
       "</style>\n",
       "<table border=\"1\" class=\"dataframe\">\n",
       "  <thead>\n",
       "    <tr style=\"text-align: right;\">\n",
       "      <th></th>\n",
       "      <th>messages_included</th>\n",
       "      <th>mb_per_month_included</th>\n",
       "      <th>minutes_included</th>\n",
       "      <th>usd_monthly_pay</th>\n",
       "      <th>usd_per_gb</th>\n",
       "      <th>usd_per_message</th>\n",
       "      <th>usd_per_minute</th>\n",
       "      <th>plan_name</th>\n",
       "    </tr>\n",
       "  </thead>\n",
       "  <tbody>\n",
       "    <tr>\n",
       "      <th>0</th>\n",
       "      <td>50</td>\n",
       "      <td>15360</td>\n",
       "      <td>500</td>\n",
       "      <td>20</td>\n",
       "      <td>10</td>\n",
       "      <td>0.03</td>\n",
       "      <td>0.03</td>\n",
       "      <td>surf</td>\n",
       "    </tr>\n",
       "    <tr>\n",
       "      <th>1</th>\n",
       "      <td>1000</td>\n",
       "      <td>30720</td>\n",
       "      <td>3000</td>\n",
       "      <td>70</td>\n",
       "      <td>7</td>\n",
       "      <td>0.01</td>\n",
       "      <td>0.01</td>\n",
       "      <td>ultimate</td>\n",
       "    </tr>\n",
       "  </tbody>\n",
       "</table>\n",
       "</div>"
      ],
      "text/plain": [
       "   messages_included  mb_per_month_included  minutes_included  \\\n",
       "0                 50                  15360               500   \n",
       "1               1000                  30720              3000   \n",
       "\n",
       "   usd_monthly_pay  usd_per_gb  usd_per_message  usd_per_minute plan_name  \n",
       "0               20          10             0.03            0.03      surf  \n",
       "1               70           7             0.01            0.01  ultimate  "
      ]
     },
     "execution_count": 22,
     "metadata": {},
     "output_type": "execute_result"
    }
   ],
   "source": [
    "# Imprime las condiciones de la tarifa y asegúrate de que te quedan claras\n",
    "\n",
    "planes"
   ]
  },
  {
   "cell_type": "code",
   "execution_count": 23,
   "metadata": {
    "trusted": false
   },
   "outputs": [
    {
     "data": {
      "text/html": [
       "<div>\n",
       "<style scoped>\n",
       "    .dataframe tbody tr th:only-of-type {\n",
       "        vertical-align: middle;\n",
       "    }\n",
       "\n",
       "    .dataframe tbody tr th {\n",
       "        vertical-align: top;\n",
       "    }\n",
       "\n",
       "    .dataframe thead th {\n",
       "        text-align: right;\n",
       "    }\n",
       "</style>\n",
       "<table border=\"1\" class=\"dataframe\">\n",
       "  <thead>\n",
       "    <tr style=\"text-align: right;\">\n",
       "      <th></th>\n",
       "      <th>id</th>\n",
       "      <th>user_id</th>\n",
       "      <th>call_date</th>\n",
       "      <th>duration</th>\n",
       "      <th>duración_redondeada</th>\n",
       "      <th>mes</th>\n",
       "    </tr>\n",
       "  </thead>\n",
       "  <tbody>\n",
       "    <tr>\n",
       "      <th>0</th>\n",
       "      <td>1000_93</td>\n",
       "      <td>1000</td>\n",
       "      <td>2018-12-27</td>\n",
       "      <td>8.52</td>\n",
       "      <td>9</td>\n",
       "      <td>12</td>\n",
       "    </tr>\n",
       "    <tr>\n",
       "      <th>1</th>\n",
       "      <td>1000_145</td>\n",
       "      <td>1000</td>\n",
       "      <td>2018-12-27</td>\n",
       "      <td>13.66</td>\n",
       "      <td>14</td>\n",
       "      <td>12</td>\n",
       "    </tr>\n",
       "    <tr>\n",
       "      <th>2</th>\n",
       "      <td>1000_247</td>\n",
       "      <td>1000</td>\n",
       "      <td>2018-12-27</td>\n",
       "      <td>14.48</td>\n",
       "      <td>15</td>\n",
       "      <td>12</td>\n",
       "    </tr>\n",
       "    <tr>\n",
       "      <th>3</th>\n",
       "      <td>1000_309</td>\n",
       "      <td>1000</td>\n",
       "      <td>2018-12-28</td>\n",
       "      <td>5.76</td>\n",
       "      <td>6</td>\n",
       "      <td>12</td>\n",
       "    </tr>\n",
       "    <tr>\n",
       "      <th>4</th>\n",
       "      <td>1000_380</td>\n",
       "      <td>1000</td>\n",
       "      <td>2018-12-30</td>\n",
       "      <td>4.22</td>\n",
       "      <td>5</td>\n",
       "      <td>12</td>\n",
       "    </tr>\n",
       "  </tbody>\n",
       "</table>\n",
       "</div>"
      ],
      "text/plain": [
       "         id  user_id  call_date  duration  duración_redondeada  mes\n",
       "0   1000_93     1000 2018-12-27      8.52                    9   12\n",
       "1  1000_145     1000 2018-12-27     13.66                   14   12\n",
       "2  1000_247     1000 2018-12-27     14.48                   15   12\n",
       "3  1000_309     1000 2018-12-28      5.76                    6   12\n",
       "4  1000_380     1000 2018-12-30      4.22                    5   12"
      ]
     },
     "execution_count": 23,
     "metadata": {},
     "output_type": "execute_result"
    }
   ],
   "source": [
    "llamadas.head()\n"
   ]
  },
  {
   "cell_type": "markdown",
   "metadata": {
    "id": "hMR1tP5d0q1F"
   },
   "source": [
    "## Agregar datos por usuario\n",
    "\n",
    "[Ahora que los datos están limpios, agrega los datos por usuario y por periodo para que solo haya un registro por usuario y por periodo. Esto facilitará mucho el análisis posterior.]"
   ]
  },
  {
   "cell_type": "code",
   "execution_count": 24,
   "metadata": {
    "id": "A332cedB0q1G",
    "trusted": false
   },
   "outputs": [
    {
     "data": {
      "text/html": [
       "<div>\n",
       "<style scoped>\n",
       "    .dataframe tbody tr th:only-of-type {\n",
       "        vertical-align: middle;\n",
       "    }\n",
       "\n",
       "    .dataframe tbody tr th {\n",
       "        vertical-align: top;\n",
       "    }\n",
       "\n",
       "    .dataframe thead th {\n",
       "        text-align: right;\n",
       "    }\n",
       "</style>\n",
       "<table border=\"1\" class=\"dataframe\">\n",
       "  <thead>\n",
       "    <tr style=\"text-align: right;\">\n",
       "      <th></th>\n",
       "      <th>user_id</th>\n",
       "      <th>mes</th>\n",
       "      <th>cantidad</th>\n",
       "    </tr>\n",
       "  </thead>\n",
       "  <tbody>\n",
       "    <tr>\n",
       "      <th>0</th>\n",
       "      <td>1000</td>\n",
       "      <td>12</td>\n",
       "      <td>16</td>\n",
       "    </tr>\n",
       "    <tr>\n",
       "      <th>1</th>\n",
       "      <td>1001</td>\n",
       "      <td>8</td>\n",
       "      <td>27</td>\n",
       "    </tr>\n",
       "    <tr>\n",
       "      <th>2</th>\n",
       "      <td>1001</td>\n",
       "      <td>9</td>\n",
       "      <td>49</td>\n",
       "    </tr>\n",
       "    <tr>\n",
       "      <th>3</th>\n",
       "      <td>1001</td>\n",
       "      <td>10</td>\n",
       "      <td>65</td>\n",
       "    </tr>\n",
       "    <tr>\n",
       "      <th>4</th>\n",
       "      <td>1001</td>\n",
       "      <td>11</td>\n",
       "      <td>64</td>\n",
       "    </tr>\n",
       "    <tr>\n",
       "      <th>...</th>\n",
       "      <td>...</td>\n",
       "      <td>...</td>\n",
       "      <td>...</td>\n",
       "    </tr>\n",
       "    <tr>\n",
       "      <th>2253</th>\n",
       "      <td>1498</td>\n",
       "      <td>12</td>\n",
       "      <td>39</td>\n",
       "    </tr>\n",
       "    <tr>\n",
       "      <th>2254</th>\n",
       "      <td>1499</td>\n",
       "      <td>9</td>\n",
       "      <td>41</td>\n",
       "    </tr>\n",
       "    <tr>\n",
       "      <th>2255</th>\n",
       "      <td>1499</td>\n",
       "      <td>10</td>\n",
       "      <td>53</td>\n",
       "    </tr>\n",
       "    <tr>\n",
       "      <th>2256</th>\n",
       "      <td>1499</td>\n",
       "      <td>11</td>\n",
       "      <td>45</td>\n",
       "    </tr>\n",
       "    <tr>\n",
       "      <th>2257</th>\n",
       "      <td>1499</td>\n",
       "      <td>12</td>\n",
       "      <td>65</td>\n",
       "    </tr>\n",
       "  </tbody>\n",
       "</table>\n",
       "<p>2258 rows × 3 columns</p>\n",
       "</div>"
      ],
      "text/plain": [
       "      user_id  mes  cantidad\n",
       "0        1000   12        16\n",
       "1        1001    8        27\n",
       "2        1001    9        49\n",
       "3        1001   10        65\n",
       "4        1001   11        64\n",
       "...       ...  ...       ...\n",
       "2253     1498   12        39\n",
       "2254     1499    9        41\n",
       "2255     1499   10        53\n",
       "2256     1499   11        45\n",
       "2257     1499   12        65\n",
       "\n",
       "[2258 rows x 3 columns]"
      ]
     },
     "execution_count": 24,
     "metadata": {},
     "output_type": "execute_result"
    }
   ],
   "source": [
    "# Calcula el número de llamadas hechas por cada usuario al mes. Guarda el resultado.\n",
    "llamadas_por_mes=llamadas.pivot_table(index=[\"user_id\", \"mes\"], values=\"duration\", aggfunc=\"count\").reset_index()\n",
    "llamadas_por_mes.columns=[\"user_id\",\"mes\",\"cantidad\"]\n",
    "llamadas_por_mes"
   ]
  },
  {
   "cell_type": "markdown",
   "metadata": {},
   "source": [
    "<div class=\"alert alert-block alert-success\">\n",
    "<b>Comentario del revisor</b> <a class=\"tocSkip\"></a>\n",
    "\n",
    "Muy buen trabajo!! la función de pivot_table() es muy recomendable para hacer los códigos más eficientes. Solamente te recomendaria que puedes agregar las siguientes varaibles a la función para que se vean más claros los resultados: \n",
    "    \n",
    "    pivot_calls = calls.pivot_table(index=['user_id', 'month'],\n",
    "                                values=['duration'],\n",
    "                                aggfunc=['sum','count']).reset_index()\n",
    "\n",
    "\n",
    "    \n",
    "</div>"
   ]
  },
  {
   "cell_type": "code",
   "execution_count": 32,
   "metadata": {
    "id": "0dNOXHag0q1H",
    "trusted": false
   },
   "outputs": [],
   "source": [
    "# Añade la información de la tarifa\n",
    "\n"
   ]
  },
  {
   "cell_type": "code",
   "execution_count": 56,
   "metadata": {
    "trusted": false
   },
   "outputs": [
    {
     "data": {
      "text/html": [
       "<div>\n",
       "<style scoped>\n",
       "    .dataframe tbody tr th:only-of-type {\n",
       "        vertical-align: middle;\n",
       "    }\n",
       "\n",
       "    .dataframe tbody tr th {\n",
       "        vertical-align: top;\n",
       "    }\n",
       "\n",
       "    .dataframe thead th {\n",
       "        text-align: right;\n",
       "    }\n",
       "</style>\n",
       "<table border=\"1\" class=\"dataframe\">\n",
       "  <thead>\n",
       "    <tr style=\"text-align: right;\">\n",
       "      <th></th>\n",
       "      <th>user_id</th>\n",
       "      <th>mes</th>\n",
       "      <th>duración_redondeada</th>\n",
       "      <th>cantidad_de_sms</th>\n",
       "      <th>consumo_redondeado</th>\n",
       "      <th>plan</th>\n",
       "      <th>messages_included</th>\n",
       "      <th>mb_per_month_included</th>\n",
       "      <th>minutes_included</th>\n",
       "      <th>usd_monthly_pay</th>\n",
       "      <th>usd_per_gb</th>\n",
       "      <th>usd_per_message</th>\n",
       "      <th>usd_per_minute</th>\n",
       "    </tr>\n",
       "  </thead>\n",
       "  <tbody>\n",
       "    <tr>\n",
       "      <th>0</th>\n",
       "      <td>1000</td>\n",
       "      <td>12</td>\n",
       "      <td>124</td>\n",
       "      <td>11</td>\n",
       "      <td>1903</td>\n",
       "      <td>ultimate</td>\n",
       "      <td>1000</td>\n",
       "      <td>30720</td>\n",
       "      <td>3000</td>\n",
       "      <td>70</td>\n",
       "      <td>7</td>\n",
       "      <td>0.01</td>\n",
       "      <td>0.01</td>\n",
       "    </tr>\n",
       "    <tr>\n",
       "      <th>1</th>\n",
       "      <td>1008</td>\n",
       "      <td>10</td>\n",
       "      <td>476</td>\n",
       "      <td>21</td>\n",
       "      <td>17131</td>\n",
       "      <td>ultimate</td>\n",
       "      <td>1000</td>\n",
       "      <td>30720</td>\n",
       "      <td>3000</td>\n",
       "      <td>70</td>\n",
       "      <td>7</td>\n",
       "      <td>0.01</td>\n",
       "      <td>0.01</td>\n",
       "    </tr>\n",
       "    <tr>\n",
       "      <th>2</th>\n",
       "      <td>1008</td>\n",
       "      <td>11</td>\n",
       "      <td>446</td>\n",
       "      <td>37</td>\n",
       "      <td>23706</td>\n",
       "      <td>ultimate</td>\n",
       "      <td>1000</td>\n",
       "      <td>30720</td>\n",
       "      <td>3000</td>\n",
       "      <td>70</td>\n",
       "      <td>7</td>\n",
       "      <td>0.01</td>\n",
       "      <td>0.01</td>\n",
       "    </tr>\n",
       "    <tr>\n",
       "      <th>3</th>\n",
       "      <td>1008</td>\n",
       "      <td>12</td>\n",
       "      <td>634</td>\n",
       "      <td>26</td>\n",
       "      <td>14707</td>\n",
       "      <td>ultimate</td>\n",
       "      <td>1000</td>\n",
       "      <td>30720</td>\n",
       "      <td>3000</td>\n",
       "      <td>70</td>\n",
       "      <td>7</td>\n",
       "      <td>0.01</td>\n",
       "      <td>0.01</td>\n",
       "    </tr>\n",
       "    <tr>\n",
       "      <th>4</th>\n",
       "      <td>1011</td>\n",
       "      <td>6</td>\n",
       "      <td>118</td>\n",
       "      <td>21</td>\n",
       "      <td>6695</td>\n",
       "      <td>ultimate</td>\n",
       "      <td>1000</td>\n",
       "      <td>30720</td>\n",
       "      <td>3000</td>\n",
       "      <td>70</td>\n",
       "      <td>7</td>\n",
       "      <td>0.01</td>\n",
       "      <td>0.01</td>\n",
       "    </tr>\n",
       "    <tr>\n",
       "      <th>...</th>\n",
       "      <td>...</td>\n",
       "      <td>...</td>\n",
       "      <td>...</td>\n",
       "      <td>...</td>\n",
       "      <td>...</td>\n",
       "      <td>...</td>\n",
       "      <td>...</td>\n",
       "      <td>...</td>\n",
       "      <td>...</td>\n",
       "      <td>...</td>\n",
       "      <td>...</td>\n",
       "      <td>...</td>\n",
       "      <td>...</td>\n",
       "    </tr>\n",
       "    <tr>\n",
       "      <th>1636</th>\n",
       "      <td>1496</td>\n",
       "      <td>8</td>\n",
       "      <td>122</td>\n",
       "      <td>2</td>\n",
       "      <td>8616</td>\n",
       "      <td>surf</td>\n",
       "      <td>50</td>\n",
       "      <td>15360</td>\n",
       "      <td>500</td>\n",
       "      <td>20</td>\n",
       "      <td>10</td>\n",
       "      <td>0.03</td>\n",
       "      <td>0.03</td>\n",
       "    </tr>\n",
       "    <tr>\n",
       "      <th>1637</th>\n",
       "      <td>1496</td>\n",
       "      <td>9</td>\n",
       "      <td>414</td>\n",
       "      <td>21</td>\n",
       "      <td>16412</td>\n",
       "      <td>surf</td>\n",
       "      <td>50</td>\n",
       "      <td>15360</td>\n",
       "      <td>500</td>\n",
       "      <td>20</td>\n",
       "      <td>10</td>\n",
       "      <td>0.03</td>\n",
       "      <td>0.03</td>\n",
       "    </tr>\n",
       "    <tr>\n",
       "      <th>1638</th>\n",
       "      <td>1496</td>\n",
       "      <td>10</td>\n",
       "      <td>317</td>\n",
       "      <td>18</td>\n",
       "      <td>14308</td>\n",
       "      <td>surf</td>\n",
       "      <td>50</td>\n",
       "      <td>15360</td>\n",
       "      <td>500</td>\n",
       "      <td>20</td>\n",
       "      <td>10</td>\n",
       "      <td>0.03</td>\n",
       "      <td>0.03</td>\n",
       "    </tr>\n",
       "    <tr>\n",
       "      <th>1639</th>\n",
       "      <td>1496</td>\n",
       "      <td>11</td>\n",
       "      <td>308</td>\n",
       "      <td>13</td>\n",
       "      <td>8561</td>\n",
       "      <td>surf</td>\n",
       "      <td>50</td>\n",
       "      <td>15360</td>\n",
       "      <td>500</td>\n",
       "      <td>20</td>\n",
       "      <td>10</td>\n",
       "      <td>0.03</td>\n",
       "      <td>0.03</td>\n",
       "    </tr>\n",
       "    <tr>\n",
       "      <th>1640</th>\n",
       "      <td>1496</td>\n",
       "      <td>12</td>\n",
       "      <td>294</td>\n",
       "      <td>11</td>\n",
       "      <td>16460</td>\n",
       "      <td>surf</td>\n",
       "      <td>50</td>\n",
       "      <td>15360</td>\n",
       "      <td>500</td>\n",
       "      <td>20</td>\n",
       "      <td>10</td>\n",
       "      <td>0.03</td>\n",
       "      <td>0.03</td>\n",
       "    </tr>\n",
       "  </tbody>\n",
       "</table>\n",
       "<p>1641 rows × 13 columns</p>\n",
       "</div>"
      ],
      "text/plain": [
       "      user_id  mes  duración_redondeada  cantidad_de_sms  consumo_redondeado  \\\n",
       "0        1000   12                  124               11                1903   \n",
       "1        1008   10                  476               21               17131   \n",
       "2        1008   11                  446               37               23706   \n",
       "3        1008   12                  634               26               14707   \n",
       "4        1011    6                  118               21                6695   \n",
       "...       ...  ...                  ...              ...                 ...   \n",
       "1636     1496    8                  122                2                8616   \n",
       "1637     1496    9                  414               21               16412   \n",
       "1638     1496   10                  317               18               14308   \n",
       "1639     1496   11                  308               13                8561   \n",
       "1640     1496   12                  294               11               16460   \n",
       "\n",
       "          plan  messages_included  mb_per_month_included  minutes_included  \\\n",
       "0     ultimate               1000                  30720              3000   \n",
       "1     ultimate               1000                  30720              3000   \n",
       "2     ultimate               1000                  30720              3000   \n",
       "3     ultimate               1000                  30720              3000   \n",
       "4     ultimate               1000                  30720              3000   \n",
       "...        ...                ...                    ...               ...   \n",
       "1636      surf                 50                  15360               500   \n",
       "1637      surf                 50                  15360               500   \n",
       "1638      surf                 50                  15360               500   \n",
       "1639      surf                 50                  15360               500   \n",
       "1640      surf                 50                  15360               500   \n",
       "\n",
       "      usd_monthly_pay  usd_per_gb  usd_per_message  usd_per_minute  \n",
       "0                  70           7             0.01            0.01  \n",
       "1                  70           7             0.01            0.01  \n",
       "2                  70           7             0.01            0.01  \n",
       "3                  70           7             0.01            0.01  \n",
       "4                  70           7             0.01            0.01  \n",
       "...               ...         ...              ...             ...  \n",
       "1636               20          10             0.03            0.03  \n",
       "1637               20          10             0.03            0.03  \n",
       "1638               20          10             0.03            0.03  \n",
       "1639               20          10             0.03            0.03  \n",
       "1640               20          10             0.03            0.03  \n",
       "\n",
       "[1641 rows x 13 columns]"
      ]
     },
     "execution_count": 56,
     "metadata": {},
     "output_type": "execute_result"
    }
   ],
   "source": [
    "llamadas_sms=llamadas_comprimido.merge(mensajes_por_mes, on=[\"user_id\", \"mes\"], how=\"inner\")\n",
    "llamadas_sms_gg=llamadas_sms.merge(consumo_gigas_comprimido, on=[\"user_id\", \"mes\"], how=\"inner\")\n",
    "llamadas_sms_gg[\"consumo_redondeado\"]=llamadas_sms_gg[\"consumo_redondeado\"]\n",
    "\n",
    "\n",
    "info_general=llamadas_sms_gg.merge(users_comprimido, on=\"user_id\", how=\"inner\")\n",
    "info_general=info_general.merge(planes, on=\"plan\", how=\"inner\")\n",
    "info_general"
   ]
  },
  {
   "cell_type": "markdown",
   "metadata": {},
   "source": [
    "<div class=\"alert alert-block alert-danger\">\n",
    "<b>Comentario del revisor</b> <a class=\"tocSkip\"></a>\n",
    "\n",
    "Recuerda completar el calculo del ingreso mensual por usuario partiendo de la base deonde hiciste el merge de todas las bases"
   ]
  },
  {
   "cell_type": "markdown",
   "metadata": {},
   "source": [
    "<div class=\"alert alert-block alert-success\">\n",
    "<b>Comentario del revisor</b> <a class=\"tocSkip\"></a>\n",
    "\n",
    "Gran trabajo con el ajuste!"
   ]
  },
  {
   "cell_type": "code",
   "execution_count": null,
   "metadata": {
    "trusted": false
   },
   "outputs": [],
   "source": []
  },
  {
   "cell_type": "markdown",
   "metadata": {
    "id": "1IwGo4wg0q1I"
   },
   "source": [
    "[Calcula los ingresos mensuales por usuario (resta el límite del paquete gratuito del número total de llamadas, mensajes de texto y datos; multiplica el resultado por el valor del plan de llamadas; añade la tarifa mensual en función del plan de llamadas). Nota: Dadas las condiciones del plan, ¡esto podría no ser tan trivial como un par de líneas! Así que no pasa nada si dedicas algo de tiempo a ello.]"
   ]
  },
  {
   "cell_type": "code",
   "execution_count": 33,
   "metadata": {
    "id": "5FGCf_c60q1I",
    "trusted": false
   },
   "outputs": [],
   "source": [
    "# Calcula el ingreso mensual para cada usuario\n",
    "\n"
   ]
  },
  {
   "cell_type": "code",
   "execution_count": 57,
   "metadata": {
    "trusted": false
   },
   "outputs": [],
   "source": [
    "def coste_mensual(fila):\n",
    "    coste_mensual= fila[\"usd_monthly_pay\"]\n",
    "    if fila[\"duración_redondeada\"]> fila[\"minutes_included\"]:\n",
    "        coste_mensual+=(fila[\"duración_redondeada\"]-fila[\"minutes_included\"])*fila[\"usd_per_minute\"]\n",
    "    if fila[\"cantidad_de_sms\"]>fila[\"messages_included\"]:\n",
    "        coste_mensual+=(fila[\"cantidad_de_sms\"]-fila[\"messages_included\"])*fila[\"usd_per_message\"]\n",
    "    if fila[\"consumo_redondeado\"]>fila[\"mb_per_month_included\"]:\n",
    "        coste_mensual+=math.ceil((fila[\"consumo_redondeado\"]-fila[\"mb_per_month_included\"])/1024)*fila[\"usd_per_gb\"]\n",
    "    return coste_mensual"
   ]
  },
  {
   "cell_type": "code",
   "execution_count": 58,
   "metadata": {
    "trusted": false
   },
   "outputs": [],
   "source": [
    "info_general[\"coste_mensual\"]=info_general.apply(coste_mensual, axis=1)"
   ]
  },
  {
   "cell_type": "code",
   "execution_count": 59,
   "metadata": {
    "trusted": false
   },
   "outputs": [],
   "source": [
    "info_general_surf=info_general[info_general[\"plan\"]==\"surf\"]\n",
    "info_general_ultimate=info_general[info_general[\"plan\"]==\"ultimate\"]"
   ]
  },
  {
   "cell_type": "code",
   "execution_count": 74,
   "metadata": {
    "trusted": false
   },
   "outputs": [
    {
     "name": "stdout",
     "output_type": "stream",
     "text": [
      "media del coste mensual del plan surf, teniendo en cuenta que el valor base del plan es $20: 61\n",
      "mediana del coste mensual del plan surf, la mediana es menos suceptible ante valoresa atípicos, por lo que es un valor medio más real en este caso 42\n",
      "______________________________________________________________________________________________________________________________\n",
      "media del coste mensual del plan ultimate, teniendo en cuenta que el valor base del plan es $70: 73\n",
      "mediana del coste mensual del plan ultimate, la mediana es menos suceptible ante valoresa atípicos, por lo que es un valor medio más real en este caso: 70\n"
     ]
    }
   ],
   "source": [
    "print(\"media del coste mensual del plan surf, teniendo en cuenta que el valor base del plan es $20:\", math.ceil(info_general_surf[\"coste_mensual\"].mean()))\n",
    "print(\"mediana del coste mensual del plan surf, la mediana es menos suceptible ante valoresa atípicos, por lo que es un valor medio más real en este caso\",math.ceil(info_general_surf[\"coste_mensual\"].median()))\n",
    "print(\"______________________________________________________________________________________________________________________________\")\n",
    "print(\"media del coste mensual del plan ultimate, teniendo en cuenta que el valor base del plan es $70:\", math.ceil(info_general_ultimate[\"coste_mensual\"].mean()))\n",
    "print(\"mediana del coste mensual del plan ultimate, la mediana es menos suceptible ante valoresa atípicos, por lo que es un valor medio más real en este caso:\",math.ceil(info_general_ultimate[\"coste_mensual\"].median()))\n"
   ]
  },
  {
   "cell_type": "markdown",
   "metadata": {
    "id": "-jtyHzJb0q1I"
   },
   "source": [
    "## Estudia el comportamiento de usuario"
   ]
  },
  {
   "cell_type": "markdown",
   "metadata": {
    "id": "AxU3Y0N70q1J"
   },
   "source": [
    "[Calcula algunas estadísticas descriptivas para los datos agregados y fusionados que nos sean útiles y que muestren un panorama general captado por los datos. Dibuja gráficos útiles para facilitar la comprensión. Dado que la tarea principal es comparar las tarifas y decidir cuál es más rentable, las estadísticas y gráficas deben calcularse por tarifa.]\n",
    "\n",
    "[En los comentarios hallarás pistas relevantes para las llamadas, pero no las hay para los mensajes e Internet. Sin embargo, el principio del estudio estadístico que se aplica para ellos es el mismo que para las llamadas.]"
   ]
  },
  {
   "cell_type": "markdown",
   "metadata": {
    "id": "vtW4CJEe0q1J"
   },
   "source": [
    "### Llamadas"
   ]
  },
  {
   "cell_type": "code",
   "execution_count": 34,
   "metadata": {
    "id": "Jf5v5--k0q1J",
    "trusted": false
   },
   "outputs": [
    {
     "data": {
      "text/html": [
       "<div>\n",
       "<style scoped>\n",
       "    .dataframe tbody tr th:only-of-type {\n",
       "        vertical-align: middle;\n",
       "    }\n",
       "\n",
       "    .dataframe tbody tr th {\n",
       "        vertical-align: top;\n",
       "    }\n",
       "\n",
       "    .dataframe thead th {\n",
       "        text-align: right;\n",
       "    }\n",
       "</style>\n",
       "<table border=\"1\" class=\"dataframe\">\n",
       "  <thead>\n",
       "    <tr style=\"text-align: right;\">\n",
       "      <th></th>\n",
       "      <th>user_id</th>\n",
       "      <th>plan</th>\n",
       "      <th>id</th>\n",
       "      <th>call_date</th>\n",
       "      <th>duration</th>\n",
       "      <th>duración_redondeada</th>\n",
       "      <th>mes</th>\n",
       "      <th>messages_included</th>\n",
       "      <th>mb_per_month_included</th>\n",
       "      <th>minutes_included</th>\n",
       "      <th>usd_monthly_pay</th>\n",
       "      <th>usd_per_gb</th>\n",
       "      <th>usd_per_message</th>\n",
       "      <th>usd_per_minute</th>\n",
       "    </tr>\n",
       "  </thead>\n",
       "  <tbody>\n",
       "    <tr>\n",
       "      <th>0</th>\n",
       "      <td>1000</td>\n",
       "      <td>ultimate</td>\n",
       "      <td>1000_93</td>\n",
       "      <td>2018-12-27</td>\n",
       "      <td>8.52</td>\n",
       "      <td>9</td>\n",
       "      <td>12</td>\n",
       "      <td>1000</td>\n",
       "      <td>30720</td>\n",
       "      <td>3000</td>\n",
       "      <td>70</td>\n",
       "      <td>7</td>\n",
       "      <td>0.01</td>\n",
       "      <td>0.01</td>\n",
       "    </tr>\n",
       "  </tbody>\n",
       "</table>\n",
       "</div>"
      ],
      "text/plain": [
       "   user_id      plan       id  call_date  duration  duración_redondeada  mes  \\\n",
       "0     1000  ultimate  1000_93 2018-12-27      8.52                    9   12   \n",
       "\n",
       "   messages_included  mb_per_month_included  minutes_included  \\\n",
       "0               1000                  30720              3000   \n",
       "\n",
       "   usd_monthly_pay  usd_per_gb  usd_per_message  usd_per_minute  \n",
       "0               70           7             0.01            0.01  "
      ]
     },
     "execution_count": 34,
     "metadata": {},
     "output_type": "execute_result"
    }
   ],
   "source": [
    "# Compara la duración promedio de llamadas por cada plan y por cada mes. Traza un gráfico de barras para visualizarla.\n",
    "planes.columns=(\"messages_included\",\"mb_per_month_included\", \"minutes_included\", \"usd_monthly_pay\", \"usd_per_gb\", \"usd_per_message\", \"usd_per_minute\", \"plan\")\n",
    "users_plan=users.loc[:,[\"user_id\", \"plan\"]]\n",
    "users_plan=users_plan.merge(llamadas, on=\"user_id\", how=\"inner\")\n",
    "llamadas_según_plan=users_plan.merge(planes, on=\"plan\", how=\"inner\")\n",
    "llamadas_según_plan.head(1)"
   ]
  },
  {
   "cell_type": "code",
   "execution_count": 35,
   "metadata": {
    "id": "QoLqW1S_0q1J",
    "trusted": false
   },
   "outputs": [
    {
     "data": {
      "image/png": "[encoded data removed]",
      "text/plain": [
       "<Figure size 640x480 with 1 Axes>"
      ]
     },
     "metadata": {},
     "output_type": "display_data"
    }
   ],
   "source": [
    "# Compara el número de minutos mensuales que necesitan los usuarios de cada plan. Traza un histograma.\n",
    "llamadas_según_plan.pivot_table(index=[\"user_id\", \"plan\", \"mes\"], values=\"duración_redondeada\", aggfunc=(\"sum\")).reset_index()\n",
    "\n",
    "ultimate_data=llamadas_según_plan[llamadas_según_plan[\"plan\"]==\"ultimate\"]\n",
    "surf_data=llamadas_según_plan[llamadas_según_plan[\"plan\"]==\"surf\"]\n",
    "duración_llamadas_ultimate=ultimate_data.pivot_table(index=[\"user_id\", \"mes\"], values=\"duración_redondeada\", aggfunc=(sum)).reset_index()\n",
    "duración_llamadas_surf=surf_data.pivot_table(index=[\"user_id\", \"mes\"], values=\"duración_redondeada\", aggfunc=(sum)).reset_index()\n",
    "plt.hist(duración_llamadas_ultimate[\"duración_redondeada\"], alpha=1, label='Ultimate')\n",
    "plt.hist(duración_llamadas_surf[\"duración_redondeada\"], alpha=0.4, label='Surf')\n",
    "plt.legend()\n",
    "plt.ylabel('Frecuencia')  # yiyulo\n",
    "plt.show()"
   ]
  },
  {
   "cell_type": "markdown",
   "metadata": {
    "id": "bLS9T8OH0q1K"
   },
   "source": [
    "[Calcula la media y la variable de la duración de las llamadas para averiguar si los usuarios de los distintos planes se comportan de forma diferente al realizar sus llamadas.]"
   ]
  },
  {
   "cell_type": "code",
   "execution_count": 36,
   "metadata": {
    "id": "oSndbAnt0q1K",
    "trusted": false
   },
   "outputs": [
    {
     "name": "stdout",
     "output_type": "stream",
     "text": [
      "media de la duración por mes en plan ultimate: 435.8789712556732\n",
      "media de la duración por mes en plan surf: 439.29186935371786\n",
      "varianza de la duración por mes en el plan surf: 53140.406820619486\n",
      "varianza de la duración por mes en el plan ultimate: 58298.94450484185\n"
     ]
    }
   ],
   "source": [
    "# Calcula la media y la varianza de la duración mensual de llamadas.\n",
    "print(\"media de la duración por mes en plan ultimate:\", duración_llamadas_ultimate[\"duración_redondeada\"].mean())\n",
    "print(\"media de la duración por mes en plan surf:\", duración_llamadas_surf[\"duración_redondeada\"].mean())\n",
    "varianza_ultimate=np.var(duración_llamadas_ultimate[\"duración_redondeada\"])\n",
    "varianza_surf=np.var(duración_llamadas_surf[\"duración_redondeada\"])\n",
    "print(\"varianza de la duración por mes en el plan surf:\", varianza_surf )\n",
    "print(\"varianza de la duración por mes en el plan ultimate:\", varianza_ultimate)"
   ]
  },
  {
   "cell_type": "code",
   "execution_count": 37,
   "metadata": {
    "id": "nZzoRUKc0q1K",
    "trusted": false
   },
   "outputs": [
    {
     "data": {
      "image/png": "[encoded data removed]",
      "text/plain": [
       "<Figure size 640x480 with 1 Axes>"
      ]
     },
     "metadata": {},
     "output_type": "display_data"
    },
    {
     "data": {
      "text/plain": [
       "Text(0.5, 1.0, 'duración mensual llamadas- surf')"
      ]
     },
     "execution_count": 37,
     "metadata": {},
     "output_type": "execute_result"
    },
    {
     "data": {
      "image/png": "[encoded data removed]",
      "text/plain": [
       "<Figure size 640x480 with 1 Axes>"
      ]
     },
     "metadata": {},
     "output_type": "display_data"
    }
   ],
   "source": [
    "# Traza un diagrama de caja para visualizar la distribución de la duración mensual de llamadas\n",
    "sns.boxplot(duración_llamadas_ultimate[\"duración_redondeada\"])\n",
    "plt.title(\"duración mensual llamadas- ultimate\")\n",
    "plt.show()\n",
    "sns.boxplot(duración_llamadas_surf[\"duración_redondeada\"])\n",
    "plt.title(\"duración mensual llamadas- surf\")\n",
    " "
   ]
  },
  {
   "cell_type": "markdown",
   "metadata": {
    "id": "r627zBO50q1K"
   },
   "source": [
    "[Elabora las conclusiones sobre el comportamiento de los usuarios con respecto a las llamadas. ¿Su comportamiento varía en función del plan?]"
   ]
  },
  {
   "cell_type": "markdown",
   "metadata": {},
   "source": [
    "apartir de las pruebas hechas a las muestras, podemos empezar a comprobar que las muestras tienen una distribnución muy parecida y que a pesar de las limitaciones individuales de cada plan, los clientes tienden a utilizar la misma cantidad de minutos en llamada por mes. Desde ahora podriamos deducir que en el aspecto de llamadas es mas rentable el plan surf, debido a que cadda minuto adicional tiene un valor mayor. "
   ]
  },
  {
   "cell_type": "markdown",
   "metadata": {
    "id": "8idKy8Wh0q1L"
   },
   "source": [
    "### Mensajes"
   ]
  },
  {
   "cell_type": "code",
   "execution_count": null,
   "metadata": {
    "trusted": false
   },
   "outputs": [],
   "source": []
  },
  {
   "cell_type": "code",
   "execution_count": 38,
   "metadata": {
    "trusted": false
   },
   "outputs": [
    {
     "data": {
      "image/png": "[encoded data removed]",
      "text/plain": [
       "<Figure size 640x480 with 1 Axes>"
      ]
     },
     "metadata": {},
     "output_type": "display_data"
    }
   ],
   "source": [
    "sms_info=mensajes.merge(users, on=\"user_id\", how=\"inner\").loc[ :, [\"id\", \"user_id\", \"mes_x\", \"plan\"]]\n",
    "sms_ultimate=sms_info[sms_info[\"plan\"]==\"ultimate\"]\n",
    "sms_surf=sms_info[sms_info[\"plan\"]==\"surf\"]\n",
    "sms_ultimate=sms_ultimate.pivot_table(index=[\"user_id\", \"mes_x\"], values=\"id\", aggfunc=\"count\").reset_index()\n",
    "sms_surf=sms_surf.pivot_table(index=[\"user_id\", \"mes_x\"], values=\"id\", aggfunc=\"count\").reset_index()\n",
    "plt.hist(sms_surf[\"id\"], alpha=1, label=\"surf\")\n",
    "plt.hist(sms_ultimate[\"id\"], alpha=0.7, label=\"ultimate\")\n",
    "plt.legend()\n",
    "plt.ylabel(\"Frecuencia\")\n",
    "plt.show()"
   ]
  },
  {
   "cell_type": "markdown",
   "metadata": {
    "id": "390SSL480q1M"
   },
   "source": [
    "[Elabora las conclusiones sobre el comportamiento de los usuarios con respecto a los mensajes. ¿Su comportamiento varía en función del plan?]"
   ]
  },
  {
   "cell_type": "markdown",
   "metadata": {
    "id": "42YSypXz0q1M"
   },
   "source": [
    "### Internet"
   ]
  },
  {
   "cell_type": "code",
   "execution_count": 39,
   "metadata": {
    "id": "lSuKPtjh0q1M",
    "trusted": false
   },
   "outputs": [
    {
     "data": {
      "text/html": [
       "<div>\n",
       "<style scoped>\n",
       "    .dataframe tbody tr th:only-of-type {\n",
       "        vertical-align: middle;\n",
       "    }\n",
       "\n",
       "    .dataframe tbody tr th {\n",
       "        vertical-align: top;\n",
       "    }\n",
       "\n",
       "    .dataframe thead th {\n",
       "        text-align: right;\n",
       "    }\n",
       "</style>\n",
       "<table border=\"1\" class=\"dataframe\">\n",
       "  <thead>\n",
       "    <tr style=\"text-align: right;\">\n",
       "      <th></th>\n",
       "      <th>id</th>\n",
       "      <th>user_id</th>\n",
       "      <th>consumo_redondeado</th>\n",
       "      <th>mes_x</th>\n",
       "      <th>plan</th>\n",
       "    </tr>\n",
       "  </thead>\n",
       "  <tbody>\n",
       "    <tr>\n",
       "      <th>0</th>\n",
       "      <td>1000_13</td>\n",
       "      <td>1000</td>\n",
       "      <td>90</td>\n",
       "      <td>12</td>\n",
       "      <td>ultimate</td>\n",
       "    </tr>\n",
       "    <tr>\n",
       "      <th>1</th>\n",
       "      <td>1000_204</td>\n",
       "      <td>1000</td>\n",
       "      <td>0</td>\n",
       "      <td>12</td>\n",
       "      <td>ultimate</td>\n",
       "    </tr>\n",
       "    <tr>\n",
       "      <th>2</th>\n",
       "      <td>1000_379</td>\n",
       "      <td>1000</td>\n",
       "      <td>661</td>\n",
       "      <td>12</td>\n",
       "      <td>ultimate</td>\n",
       "    </tr>\n",
       "    <tr>\n",
       "      <th>3</th>\n",
       "      <td>1000_413</td>\n",
       "      <td>1000</td>\n",
       "      <td>271</td>\n",
       "      <td>12</td>\n",
       "      <td>ultimate</td>\n",
       "    </tr>\n",
       "    <tr>\n",
       "      <th>4</th>\n",
       "      <td>1000_442</td>\n",
       "      <td>1000</td>\n",
       "      <td>881</td>\n",
       "      <td>12</td>\n",
       "      <td>ultimate</td>\n",
       "    </tr>\n",
       "    <tr>\n",
       "      <th>...</th>\n",
       "      <td>...</td>\n",
       "      <td>...</td>\n",
       "      <td>...</td>\n",
       "      <td>...</td>\n",
       "      <td>...</td>\n",
       "    </tr>\n",
       "    <tr>\n",
       "      <th>97354</th>\n",
       "      <td>1499_215</td>\n",
       "      <td>1499</td>\n",
       "      <td>219</td>\n",
       "      <td>10</td>\n",
       "      <td>surf</td>\n",
       "    </tr>\n",
       "    <tr>\n",
       "      <th>97355</th>\n",
       "      <td>1499_216</td>\n",
       "      <td>1499</td>\n",
       "      <td>305</td>\n",
       "      <td>12</td>\n",
       "      <td>surf</td>\n",
       "    </tr>\n",
       "    <tr>\n",
       "      <th>97356</th>\n",
       "      <td>1499_217</td>\n",
       "      <td>1499</td>\n",
       "      <td>293</td>\n",
       "      <td>9</td>\n",
       "      <td>surf</td>\n",
       "    </tr>\n",
       "    <tr>\n",
       "      <th>97357</th>\n",
       "      <td>1499_218</td>\n",
       "      <td>1499</td>\n",
       "      <td>0</td>\n",
       "      <td>12</td>\n",
       "      <td>surf</td>\n",
       "    </tr>\n",
       "    <tr>\n",
       "      <th>97358</th>\n",
       "      <td>1499_219</td>\n",
       "      <td>1499</td>\n",
       "      <td>759</td>\n",
       "      <td>12</td>\n",
       "      <td>surf</td>\n",
       "    </tr>\n",
       "  </tbody>\n",
       "</table>\n",
       "<p>97359 rows × 5 columns</p>\n",
       "</div>"
      ],
      "text/plain": [
       "             id  user_id  consumo_redondeado  mes_x      plan\n",
       "0       1000_13     1000                  90     12  ultimate\n",
       "1      1000_204     1000                   0     12  ultimate\n",
       "2      1000_379     1000                 661     12  ultimate\n",
       "3      1000_413     1000                 271     12  ultimate\n",
       "4      1000_442     1000                 881     12  ultimate\n",
       "...         ...      ...                 ...    ...       ...\n",
       "97354  1499_215     1499                 219     10      surf\n",
       "97355  1499_216     1499                 305     12      surf\n",
       "97356  1499_217     1499                 293      9      surf\n",
       "97357  1499_218     1499                   0     12      surf\n",
       "97358  1499_219     1499                 759     12      surf\n",
       "\n",
       "[97359 rows x 5 columns]"
      ]
     },
     "execution_count": 39,
     "metadata": {},
     "output_type": "execute_result"
    }
   ],
   "source": [
    "\n",
    "consumo_gigas=consumo_gigas.merge(users, on=\"user_id\", how=\"inner\")\n",
    "consumo_gigas.loc[:, [\"id\",\"user_id\",\"consumo_redondeado\", \"mes_x\", \"plan\"]]\n"
   ]
  },
  {
   "cell_type": "code",
   "execution_count": 40,
   "metadata": {
    "id": "wnh8jYXi0q1N",
    "trusted": false
   },
   "outputs": [
    {
     "data": {
      "text/html": [
       "<div>\n",
       "<style scoped>\n",
       "    .dataframe tbody tr th:only-of-type {\n",
       "        vertical-align: middle;\n",
       "    }\n",
       "\n",
       "    .dataframe tbody tr th {\n",
       "        vertical-align: top;\n",
       "    }\n",
       "\n",
       "    .dataframe thead th {\n",
       "        text-align: right;\n",
       "    }\n",
       "</style>\n",
       "<table border=\"1\" class=\"dataframe\">\n",
       "  <thead>\n",
       "    <tr style=\"text-align: right;\">\n",
       "      <th></th>\n",
       "      <th>user_id</th>\n",
       "      <th>mes_x</th>\n",
       "      <th>consumo_redondeado</th>\n",
       "    </tr>\n",
       "  </thead>\n",
       "  <tbody>\n",
       "    <tr>\n",
       "      <th>0</th>\n",
       "      <td>1000</td>\n",
       "      <td>12</td>\n",
       "      <td>1903</td>\n",
       "    </tr>\n",
       "    <tr>\n",
       "      <th>1</th>\n",
       "      <td>1008</td>\n",
       "      <td>10</td>\n",
       "      <td>17131</td>\n",
       "    </tr>\n",
       "    <tr>\n",
       "      <th>2</th>\n",
       "      <td>1008</td>\n",
       "      <td>11</td>\n",
       "      <td>23706</td>\n",
       "    </tr>\n",
       "    <tr>\n",
       "      <th>3</th>\n",
       "      <td>1008</td>\n",
       "      <td>12</td>\n",
       "      <td>14707</td>\n",
       "    </tr>\n",
       "    <tr>\n",
       "      <th>4</th>\n",
       "      <td>1011</td>\n",
       "      <td>6</td>\n",
       "      <td>6695</td>\n",
       "    </tr>\n",
       "    <tr>\n",
       "      <th>...</th>\n",
       "      <td>...</td>\n",
       "      <td>...</td>\n",
       "      <td>...</td>\n",
       "    </tr>\n",
       "    <tr>\n",
       "      <th>662</th>\n",
       "      <td>1493</td>\n",
       "      <td>9</td>\n",
       "      <td>15009</td>\n",
       "    </tr>\n",
       "    <tr>\n",
       "      <th>663</th>\n",
       "      <td>1493</td>\n",
       "      <td>10</td>\n",
       "      <td>16351</td>\n",
       "    </tr>\n",
       "    <tr>\n",
       "      <th>664</th>\n",
       "      <td>1493</td>\n",
       "      <td>11</td>\n",
       "      <td>15650</td>\n",
       "    </tr>\n",
       "    <tr>\n",
       "      <th>665</th>\n",
       "      <td>1493</td>\n",
       "      <td>12</td>\n",
       "      <td>15307</td>\n",
       "    </tr>\n",
       "    <tr>\n",
       "      <th>666</th>\n",
       "      <td>1497</td>\n",
       "      <td>12</td>\n",
       "      <td>11120</td>\n",
       "    </tr>\n",
       "  </tbody>\n",
       "</table>\n",
       "<p>667 rows × 3 columns</p>\n",
       "</div>"
      ],
      "text/plain": [
       "     user_id  mes_x  consumo_redondeado\n",
       "0       1000     12                1903\n",
       "1       1008     10               17131\n",
       "2       1008     11               23706\n",
       "3       1008     12               14707\n",
       "4       1011      6                6695\n",
       "..       ...    ...                 ...\n",
       "662     1493      9               15009\n",
       "663     1493     10               16351\n",
       "664     1493     11               15650\n",
       "665     1493     12               15307\n",
       "666     1497     12               11120\n",
       "\n",
       "[667 rows x 3 columns]"
      ]
     },
     "execution_count": 40,
     "metadata": {},
     "output_type": "execute_result"
    }
   ],
   "source": [
    "gigas_surf=consumo_gigas[consumo_gigas[\"plan\"]==\"surf\"]\n",
    "gigas_ultimate=consumo_gigas[consumo_gigas[\"plan\"]==\"ultimate\"]\n",
    "gigas_surf.pivot_table(index=[\"user_id\", \"mes_x\"], values=\"consumo_redondeado\", aggfunc=\"sum\").reset_index()\n",
    "gigas_ultimate.pivot_table(index=[\"user_id\", \"mes_x\"], values=\"consumo_redondeado\", aggfunc=\"sum\").reset_index()"
   ]
  },
  {
   "cell_type": "code",
   "execution_count": 41,
   "metadata": {
    "id": "5VlyJ9ry0q1N",
    "trusted": false
   },
   "outputs": [
    {
     "data": {
      "image/png": "[encoded data removed]",
      "text/plain": [
       "<Figure size 640x480 with 1 Axes>"
      ]
     },
     "metadata": {},
     "output_type": "display_data"
    }
   ],
   "source": [
    "plt.hist(gigas_surf[\"consumo_redondeado\"], alpha=1, label=\"surf\")\n",
    "plt.title(\"diferencia del consumo entre meses\")\n",
    "\n",
    "plt.hist(gigas_ultimate[\"consumo_redondeado\"], alpha=0.6, label=\"ultimate\")\n",
    "plt.legend()\n",
    "plt.show()\n"
   ]
  },
  {
   "cell_type": "markdown",
   "metadata": {
    "id": "UN9zwuMP0q1N"
   },
   "source": [
    "[Elabora las conclusiones sobre cómo los usuarios tienden a consumir el tráfico de Internet. ¿Su comportamiento varía en función del plan?]"
   ]
  },
  {
   "cell_type": "markdown",
   "metadata": {},
   "source": [
    "Se puede identificar una relación directa entre los planes, y la mayoría de la población en los dos planes se encuetra en un rango de consumo menor a 750"
   ]
  },
  {
   "cell_type": "markdown",
   "metadata": {
    "id": "tCijq3260q1N"
   },
   "source": [
    "## Ingreso"
   ]
  },
  {
   "cell_type": "markdown",
   "metadata": {
    "id": "9nq5IAcy0q1O"
   },
   "source": [
    "[Del mismo modo que has estudiado el comportamiento de los usuarios, describe estadísticamente los ingresos de los planes.]"
   ]
  },
  {
   "cell_type": "code",
   "execution_count": 42,
   "metadata": {
    "trusted": false
   },
   "outputs": [],
   "source": [
    "llamadas_comprimido=llamadas.loc[:,[ \"user_id\", \"duración_redondeada\", \"mes\"]]\n",
    "llamadas_comprimido\n",
    "llamadas_comprimido=llamadas_comprimido.pivot_table(index=[\"user_id\", \"mes\"], values=\"duración_redondeada\", aggfunc=\"sum\").reset_index()"
   ]
  },
  {
   "cell_type": "code",
   "execution_count": 43,
   "metadata": {
    "id": "tz-dq_V00q1O",
    "trusted": false
   },
   "outputs": [],
   "source": [
    "consumo_gigas\n",
    "consumo_gigas_comprimido=consumo_gigas.loc[:, [ \"user_id\", \"consumo_redondeado\", \"mes_x\"]]\n",
    "consumo_gigas_comprimido.columns=(\"user_id\", \"consumo_redondeado\",\"mes\")\n",
    "consumo_gigas_comprimido=consumo_gigas_comprimido.pivot_table(index=[\"user_id\", \"mes\"], values=\"consumo_redondeado\", aggfunc=\"sum\").reset_index()"
   ]
  },
  {
   "cell_type": "code",
   "execution_count": 44,
   "metadata": {
    "trusted": false
   },
   "outputs": [
    {
     "data": {
      "text/html": [
       "<div>\n",
       "<style scoped>\n",
       "    .dataframe tbody tr th:only-of-type {\n",
       "        vertical-align: middle;\n",
       "    }\n",
       "\n",
       "    .dataframe tbody tr th {\n",
       "        vertical-align: top;\n",
       "    }\n",
       "\n",
       "    .dataframe thead th {\n",
       "        text-align: right;\n",
       "    }\n",
       "</style>\n",
       "<table border=\"1\" class=\"dataframe\">\n",
       "  <thead>\n",
       "    <tr style=\"text-align: right;\">\n",
       "      <th></th>\n",
       "      <th>messages_included</th>\n",
       "      <th>mb_per_month_included</th>\n",
       "      <th>minutes_included</th>\n",
       "      <th>usd_monthly_pay</th>\n",
       "      <th>usd_per_gb</th>\n",
       "      <th>usd_per_message</th>\n",
       "      <th>usd_per_minute</th>\n",
       "      <th>plan</th>\n",
       "    </tr>\n",
       "  </thead>\n",
       "  <tbody>\n",
       "    <tr>\n",
       "      <th>0</th>\n",
       "      <td>50</td>\n",
       "      <td>15360</td>\n",
       "      <td>500</td>\n",
       "      <td>20</td>\n",
       "      <td>10</td>\n",
       "      <td>0.03</td>\n",
       "      <td>0.03</td>\n",
       "      <td>surf</td>\n",
       "    </tr>\n",
       "    <tr>\n",
       "      <th>1</th>\n",
       "      <td>1000</td>\n",
       "      <td>30720</td>\n",
       "      <td>3000</td>\n",
       "      <td>70</td>\n",
       "      <td>7</td>\n",
       "      <td>0.01</td>\n",
       "      <td>0.01</td>\n",
       "      <td>ultimate</td>\n",
       "    </tr>\n",
       "  </tbody>\n",
       "</table>\n",
       "</div>"
      ],
      "text/plain": [
       "   messages_included  mb_per_month_included  minutes_included  \\\n",
       "0                 50                  15360               500   \n",
       "1               1000                  30720              3000   \n",
       "\n",
       "   usd_monthly_pay  usd_per_gb  usd_per_message  usd_per_minute      plan  \n",
       "0               20          10             0.03            0.03      surf  \n",
       "1               70           7             0.01            0.01  ultimate  "
      ]
     },
     "execution_count": 44,
     "metadata": {},
     "output_type": "execute_result"
    }
   ],
   "source": [
    "planes"
   ]
  },
  {
   "cell_type": "code",
   "execution_count": 45,
   "metadata": {
    "id": "0Y1v8ZUz0q1P",
    "trusted": false
   },
   "outputs": [
    {
     "data": {
      "text/html": [
       "<div>\n",
       "<style scoped>\n",
       "    .dataframe tbody tr th:only-of-type {\n",
       "        vertical-align: middle;\n",
       "    }\n",
       "\n",
       "    .dataframe tbody tr th {\n",
       "        vertical-align: top;\n",
       "    }\n",
       "\n",
       "    .dataframe thead th {\n",
       "        text-align: right;\n",
       "    }\n",
       "</style>\n",
       "<table border=\"1\" class=\"dataframe\">\n",
       "  <thead>\n",
       "    <tr style=\"text-align: right;\">\n",
       "      <th></th>\n",
       "      <th>user_id</th>\n",
       "      <th>plan</th>\n",
       "    </tr>\n",
       "  </thead>\n",
       "  <tbody>\n",
       "    <tr>\n",
       "      <th>0</th>\n",
       "      <td>1000</td>\n",
       "      <td>ultimate</td>\n",
       "    </tr>\n",
       "    <tr>\n",
       "      <th>1</th>\n",
       "      <td>1001</td>\n",
       "      <td>surf</td>\n",
       "    </tr>\n",
       "    <tr>\n",
       "      <th>2</th>\n",
       "      <td>1002</td>\n",
       "      <td>surf</td>\n",
       "    </tr>\n",
       "    <tr>\n",
       "      <th>3</th>\n",
       "      <td>1003</td>\n",
       "      <td>surf</td>\n",
       "    </tr>\n",
       "    <tr>\n",
       "      <th>4</th>\n",
       "      <td>1004</td>\n",
       "      <td>surf</td>\n",
       "    </tr>\n",
       "    <tr>\n",
       "      <th>...</th>\n",
       "      <td>...</td>\n",
       "      <td>...</td>\n",
       "    </tr>\n",
       "    <tr>\n",
       "      <th>495</th>\n",
       "      <td>1495</td>\n",
       "      <td>surf</td>\n",
       "    </tr>\n",
       "    <tr>\n",
       "      <th>496</th>\n",
       "      <td>1496</td>\n",
       "      <td>surf</td>\n",
       "    </tr>\n",
       "    <tr>\n",
       "      <th>497</th>\n",
       "      <td>1497</td>\n",
       "      <td>ultimate</td>\n",
       "    </tr>\n",
       "    <tr>\n",
       "      <th>498</th>\n",
       "      <td>1498</td>\n",
       "      <td>surf</td>\n",
       "    </tr>\n",
       "    <tr>\n",
       "      <th>499</th>\n",
       "      <td>1499</td>\n",
       "      <td>surf</td>\n",
       "    </tr>\n",
       "  </tbody>\n",
       "</table>\n",
       "<p>466 rows × 2 columns</p>\n",
       "</div>"
      ],
      "text/plain": [
       "     user_id      plan\n",
       "0       1000  ultimate\n",
       "1       1001      surf\n",
       "2       1002      surf\n",
       "3       1003      surf\n",
       "4       1004      surf\n",
       "..       ...       ...\n",
       "495     1495      surf\n",
       "496     1496      surf\n",
       "497     1497  ultimate\n",
       "498     1498      surf\n",
       "499     1499      surf\n",
       "\n",
       "[466 rows x 2 columns]"
      ]
     },
     "execution_count": 45,
     "metadata": {},
     "output_type": "execute_result"
    }
   ],
   "source": [
    "users_comprimido=users.loc[:,[\"user_id\", \"plan\"]]\n",
    "users_comprimido\n"
   ]
  },
  {
   "cell_type": "code",
   "execution_count": 46,
   "metadata": {
    "id": "bYmwxyVh0q1P",
    "scrolled": true,
    "trusted": false
   },
   "outputs": [
    {
     "data": {
      "text/html": [
       "<div>\n",
       "<style scoped>\n",
       "    .dataframe tbody tr th:only-of-type {\n",
       "        vertical-align: middle;\n",
       "    }\n",
       "\n",
       "    .dataframe tbody tr th {\n",
       "        vertical-align: top;\n",
       "    }\n",
       "\n",
       "    .dataframe thead th {\n",
       "        text-align: right;\n",
       "    }\n",
       "</style>\n",
       "<table border=\"1\" class=\"dataframe\">\n",
       "  <thead>\n",
       "    <tr style=\"text-align: right;\">\n",
       "      <th></th>\n",
       "      <th>user_id</th>\n",
       "      <th>mes</th>\n",
       "      <th>cantidad_de_sms</th>\n",
       "    </tr>\n",
       "  </thead>\n",
       "  <tbody>\n",
       "    <tr>\n",
       "      <th>0</th>\n",
       "      <td>1000</td>\n",
       "      <td>12</td>\n",
       "      <td>11</td>\n",
       "    </tr>\n",
       "    <tr>\n",
       "      <th>1</th>\n",
       "      <td>1001</td>\n",
       "      <td>8</td>\n",
       "      <td>30</td>\n",
       "    </tr>\n",
       "    <tr>\n",
       "      <th>2</th>\n",
       "      <td>1001</td>\n",
       "      <td>9</td>\n",
       "      <td>44</td>\n",
       "    </tr>\n",
       "    <tr>\n",
       "      <th>3</th>\n",
       "      <td>1001</td>\n",
       "      <td>10</td>\n",
       "      <td>53</td>\n",
       "    </tr>\n",
       "    <tr>\n",
       "      <th>4</th>\n",
       "      <td>1001</td>\n",
       "      <td>11</td>\n",
       "      <td>36</td>\n",
       "    </tr>\n",
       "    <tr>\n",
       "      <th>...</th>\n",
       "      <td>...</td>\n",
       "      <td>...</td>\n",
       "      <td>...</td>\n",
       "    </tr>\n",
       "    <tr>\n",
       "      <th>1801</th>\n",
       "      <td>1496</td>\n",
       "      <td>9</td>\n",
       "      <td>21</td>\n",
       "    </tr>\n",
       "    <tr>\n",
       "      <th>1802</th>\n",
       "      <td>1496</td>\n",
       "      <td>10</td>\n",
       "      <td>18</td>\n",
       "    </tr>\n",
       "    <tr>\n",
       "      <th>1803</th>\n",
       "      <td>1496</td>\n",
       "      <td>11</td>\n",
       "      <td>13</td>\n",
       "    </tr>\n",
       "    <tr>\n",
       "      <th>1804</th>\n",
       "      <td>1496</td>\n",
       "      <td>12</td>\n",
       "      <td>11</td>\n",
       "    </tr>\n",
       "    <tr>\n",
       "      <th>1805</th>\n",
       "      <td>1497</td>\n",
       "      <td>12</td>\n",
       "      <td>50</td>\n",
       "    </tr>\n",
       "  </tbody>\n",
       "</table>\n",
       "<p>1806 rows × 3 columns</p>\n",
       "</div>"
      ],
      "text/plain": [
       "      user_id  mes  cantidad_de_sms\n",
       "0        1000   12               11\n",
       "1        1001    8               30\n",
       "2        1001    9               44\n",
       "3        1001   10               53\n",
       "4        1001   11               36\n",
       "...       ...  ...              ...\n",
       "1801     1496    9               21\n",
       "1802     1496   10               18\n",
       "1803     1496   11               13\n",
       "1804     1496   12               11\n",
       "1805     1497   12               50\n",
       "\n",
       "[1806 rows x 3 columns]"
      ]
     },
     "execution_count": 46,
     "metadata": {},
     "output_type": "execute_result"
    }
   ],
   "source": [
    "\n",
    "mensajes_por_mes.columns=(\"user_id\", \"mes\", \"cantidad_de_sms\")\n",
    "mensajes_por_mes"
   ]
  },
  {
   "cell_type": "code",
   "execution_count": 61,
   "metadata": {
    "scrolled": true,
    "trusted": false
   },
   "outputs": [
    {
     "data": {
      "text/html": [
       "<div>\n",
       "<style scoped>\n",
       "    .dataframe tbody tr th:only-of-type {\n",
       "        vertical-align: middle;\n",
       "    }\n",
       "\n",
       "    .dataframe tbody tr th {\n",
       "        vertical-align: top;\n",
       "    }\n",
       "\n",
       "    .dataframe thead th {\n",
       "        text-align: right;\n",
       "    }\n",
       "</style>\n",
       "<table border=\"1\" class=\"dataframe\">\n",
       "  <thead>\n",
       "    <tr style=\"text-align: right;\">\n",
       "      <th></th>\n",
       "      <th>user_id</th>\n",
       "      <th>mes</th>\n",
       "      <th>duración_redondeada</th>\n",
       "      <th>cantidad_de_sms</th>\n",
       "      <th>consumo_redondeado</th>\n",
       "    </tr>\n",
       "  </thead>\n",
       "  <tbody>\n",
       "    <tr>\n",
       "      <th>0</th>\n",
       "      <td>1000</td>\n",
       "      <td>12</td>\n",
       "      <td>124</td>\n",
       "      <td>11</td>\n",
       "      <td>1903</td>\n",
       "    </tr>\n",
       "    <tr>\n",
       "      <th>1</th>\n",
       "      <td>1001</td>\n",
       "      <td>8</td>\n",
       "      <td>182</td>\n",
       "      <td>30</td>\n",
       "      <td>6929</td>\n",
       "    </tr>\n",
       "    <tr>\n",
       "      <th>2</th>\n",
       "      <td>1001</td>\n",
       "      <td>9</td>\n",
       "      <td>315</td>\n",
       "      <td>44</td>\n",
       "      <td>13333</td>\n",
       "    </tr>\n",
       "    <tr>\n",
       "      <th>3</th>\n",
       "      <td>1001</td>\n",
       "      <td>10</td>\n",
       "      <td>393</td>\n",
       "      <td>53</td>\n",
       "      <td>22356</td>\n",
       "    </tr>\n",
       "    <tr>\n",
       "      <th>4</th>\n",
       "      <td>1001</td>\n",
       "      <td>11</td>\n",
       "      <td>426</td>\n",
       "      <td>36</td>\n",
       "      <td>18524</td>\n",
       "    </tr>\n",
       "    <tr>\n",
       "      <th>...</th>\n",
       "      <td>...</td>\n",
       "      <td>...</td>\n",
       "      <td>...</td>\n",
       "      <td>...</td>\n",
       "      <td>...</td>\n",
       "    </tr>\n",
       "    <tr>\n",
       "      <th>1636</th>\n",
       "      <td>1496</td>\n",
       "      <td>9</td>\n",
       "      <td>414</td>\n",
       "      <td>21</td>\n",
       "      <td>16412</td>\n",
       "    </tr>\n",
       "    <tr>\n",
       "      <th>1637</th>\n",
       "      <td>1496</td>\n",
       "      <td>10</td>\n",
       "      <td>317</td>\n",
       "      <td>18</td>\n",
       "      <td>14308</td>\n",
       "    </tr>\n",
       "    <tr>\n",
       "      <th>1638</th>\n",
       "      <td>1496</td>\n",
       "      <td>11</td>\n",
       "      <td>308</td>\n",
       "      <td>13</td>\n",
       "      <td>8561</td>\n",
       "    </tr>\n",
       "    <tr>\n",
       "      <th>1639</th>\n",
       "      <td>1496</td>\n",
       "      <td>12</td>\n",
       "      <td>294</td>\n",
       "      <td>11</td>\n",
       "      <td>16460</td>\n",
       "    </tr>\n",
       "    <tr>\n",
       "      <th>1640</th>\n",
       "      <td>1497</td>\n",
       "      <td>12</td>\n",
       "      <td>300</td>\n",
       "      <td>50</td>\n",
       "      <td>11120</td>\n",
       "    </tr>\n",
       "  </tbody>\n",
       "</table>\n",
       "<p>1641 rows × 5 columns</p>\n",
       "</div>"
      ],
      "text/plain": [
       "      user_id  mes  duración_redondeada  cantidad_de_sms  consumo_redondeado\n",
       "0        1000   12                  124               11                1903\n",
       "1        1001    8                  182               30                6929\n",
       "2        1001    9                  315               44               13333\n",
       "3        1001   10                  393               53               22356\n",
       "4        1001   11                  426               36               18524\n",
       "...       ...  ...                  ...              ...                 ...\n",
       "1636     1496    9                  414               21               16412\n",
       "1637     1496   10                  317               18               14308\n",
       "1638     1496   11                  308               13                8561\n",
       "1639     1496   12                  294               11               16460\n",
       "1640     1497   12                  300               50               11120\n",
       "\n",
       "[1641 rows x 5 columns]"
      ]
     },
     "execution_count": 61,
     "metadata": {},
     "output_type": "execute_result"
    }
   ],
   "source": [
    "llamadas_sms_gg"
   ]
  },
  {
   "cell_type": "code",
   "execution_count": 62,
   "metadata": {
    "trusted": false
   },
   "outputs": [
    {
     "data": {
      "text/html": [
       "<div>\n",
       "<style scoped>\n",
       "    .dataframe tbody tr th:only-of-type {\n",
       "        vertical-align: middle;\n",
       "    }\n",
       "\n",
       "    .dataframe tbody tr th {\n",
       "        vertical-align: top;\n",
       "    }\n",
       "\n",
       "    .dataframe thead th {\n",
       "        text-align: right;\n",
       "    }\n",
       "</style>\n",
       "<table border=\"1\" class=\"dataframe\">\n",
       "  <thead>\n",
       "    <tr style=\"text-align: right;\">\n",
       "      <th></th>\n",
       "      <th>user_id</th>\n",
       "      <th>mes</th>\n",
       "      <th>duración_redondeada</th>\n",
       "      <th>cantidad_de_sms</th>\n",
       "      <th>consumo_redondeado</th>\n",
       "      <th>plan</th>\n",
       "      <th>messages_included</th>\n",
       "      <th>mb_per_month_included</th>\n",
       "      <th>minutes_included</th>\n",
       "      <th>usd_monthly_pay</th>\n",
       "      <th>usd_per_gb</th>\n",
       "      <th>usd_per_message</th>\n",
       "      <th>usd_per_minute</th>\n",
       "      <th>coste_mensual</th>\n",
       "    </tr>\n",
       "  </thead>\n",
       "  <tbody>\n",
       "    <tr>\n",
       "      <th>0</th>\n",
       "      <td>1000</td>\n",
       "      <td>12</td>\n",
       "      <td>124</td>\n",
       "      <td>11</td>\n",
       "      <td>1903</td>\n",
       "      <td>ultimate</td>\n",
       "      <td>1000</td>\n",
       "      <td>30720</td>\n",
       "      <td>3000</td>\n",
       "      <td>70</td>\n",
       "      <td>7</td>\n",
       "      <td>0.01</td>\n",
       "      <td>0.01</td>\n",
       "      <td>70.0</td>\n",
       "    </tr>\n",
       "    <tr>\n",
       "      <th>1</th>\n",
       "      <td>1008</td>\n",
       "      <td>10</td>\n",
       "      <td>476</td>\n",
       "      <td>21</td>\n",
       "      <td>17131</td>\n",
       "      <td>ultimate</td>\n",
       "      <td>1000</td>\n",
       "      <td>30720</td>\n",
       "      <td>3000</td>\n",
       "      <td>70</td>\n",
       "      <td>7</td>\n",
       "      <td>0.01</td>\n",
       "      <td>0.01</td>\n",
       "      <td>70.0</td>\n",
       "    </tr>\n",
       "    <tr>\n",
       "      <th>2</th>\n",
       "      <td>1008</td>\n",
       "      <td>11</td>\n",
       "      <td>446</td>\n",
       "      <td>37</td>\n",
       "      <td>23706</td>\n",
       "      <td>ultimate</td>\n",
       "      <td>1000</td>\n",
       "      <td>30720</td>\n",
       "      <td>3000</td>\n",
       "      <td>70</td>\n",
       "      <td>7</td>\n",
       "      <td>0.01</td>\n",
       "      <td>0.01</td>\n",
       "      <td>70.0</td>\n",
       "    </tr>\n",
       "    <tr>\n",
       "      <th>3</th>\n",
       "      <td>1008</td>\n",
       "      <td>12</td>\n",
       "      <td>634</td>\n",
       "      <td>26</td>\n",
       "      <td>14707</td>\n",
       "      <td>ultimate</td>\n",
       "      <td>1000</td>\n",
       "      <td>30720</td>\n",
       "      <td>3000</td>\n",
       "      <td>70</td>\n",
       "      <td>7</td>\n",
       "      <td>0.01</td>\n",
       "      <td>0.01</td>\n",
       "      <td>70.0</td>\n",
       "    </tr>\n",
       "    <tr>\n",
       "      <th>4</th>\n",
       "      <td>1011</td>\n",
       "      <td>6</td>\n",
       "      <td>118</td>\n",
       "      <td>21</td>\n",
       "      <td>6695</td>\n",
       "      <td>ultimate</td>\n",
       "      <td>1000</td>\n",
       "      <td>30720</td>\n",
       "      <td>3000</td>\n",
       "      <td>70</td>\n",
       "      <td>7</td>\n",
       "      <td>0.01</td>\n",
       "      <td>0.01</td>\n",
       "      <td>70.0</td>\n",
       "    </tr>\n",
       "    <tr>\n",
       "      <th>...</th>\n",
       "      <td>...</td>\n",
       "      <td>...</td>\n",
       "      <td>...</td>\n",
       "      <td>...</td>\n",
       "      <td>...</td>\n",
       "      <td>...</td>\n",
       "      <td>...</td>\n",
       "      <td>...</td>\n",
       "      <td>...</td>\n",
       "      <td>...</td>\n",
       "      <td>...</td>\n",
       "      <td>...</td>\n",
       "      <td>...</td>\n",
       "      <td>...</td>\n",
       "    </tr>\n",
       "    <tr>\n",
       "      <th>1636</th>\n",
       "      <td>1496</td>\n",
       "      <td>8</td>\n",
       "      <td>122</td>\n",
       "      <td>2</td>\n",
       "      <td>8616</td>\n",
       "      <td>surf</td>\n",
       "      <td>50</td>\n",
       "      <td>15360</td>\n",
       "      <td>500</td>\n",
       "      <td>20</td>\n",
       "      <td>10</td>\n",
       "      <td>0.03</td>\n",
       "      <td>0.03</td>\n",
       "      <td>20.0</td>\n",
       "    </tr>\n",
       "    <tr>\n",
       "      <th>1637</th>\n",
       "      <td>1496</td>\n",
       "      <td>9</td>\n",
       "      <td>414</td>\n",
       "      <td>21</td>\n",
       "      <td>16412</td>\n",
       "      <td>surf</td>\n",
       "      <td>50</td>\n",
       "      <td>15360</td>\n",
       "      <td>500</td>\n",
       "      <td>20</td>\n",
       "      <td>10</td>\n",
       "      <td>0.03</td>\n",
       "      <td>0.03</td>\n",
       "      <td>40.0</td>\n",
       "    </tr>\n",
       "    <tr>\n",
       "      <th>1638</th>\n",
       "      <td>1496</td>\n",
       "      <td>10</td>\n",
       "      <td>317</td>\n",
       "      <td>18</td>\n",
       "      <td>14308</td>\n",
       "      <td>surf</td>\n",
       "      <td>50</td>\n",
       "      <td>15360</td>\n",
       "      <td>500</td>\n",
       "      <td>20</td>\n",
       "      <td>10</td>\n",
       "      <td>0.03</td>\n",
       "      <td>0.03</td>\n",
       "      <td>20.0</td>\n",
       "    </tr>\n",
       "    <tr>\n",
       "      <th>1639</th>\n",
       "      <td>1496</td>\n",
       "      <td>11</td>\n",
       "      <td>308</td>\n",
       "      <td>13</td>\n",
       "      <td>8561</td>\n",
       "      <td>surf</td>\n",
       "      <td>50</td>\n",
       "      <td>15360</td>\n",
       "      <td>500</td>\n",
       "      <td>20</td>\n",
       "      <td>10</td>\n",
       "      <td>0.03</td>\n",
       "      <td>0.03</td>\n",
       "      <td>20.0</td>\n",
       "    </tr>\n",
       "    <tr>\n",
       "      <th>1640</th>\n",
       "      <td>1496</td>\n",
       "      <td>12</td>\n",
       "      <td>294</td>\n",
       "      <td>11</td>\n",
       "      <td>16460</td>\n",
       "      <td>surf</td>\n",
       "      <td>50</td>\n",
       "      <td>15360</td>\n",
       "      <td>500</td>\n",
       "      <td>20</td>\n",
       "      <td>10</td>\n",
       "      <td>0.03</td>\n",
       "      <td>0.03</td>\n",
       "      <td>40.0</td>\n",
       "    </tr>\n",
       "  </tbody>\n",
       "</table>\n",
       "<p>1641 rows × 14 columns</p>\n",
       "</div>"
      ],
      "text/plain": [
       "      user_id  mes  duración_redondeada  cantidad_de_sms  consumo_redondeado  \\\n",
       "0        1000   12                  124               11                1903   \n",
       "1        1008   10                  476               21               17131   \n",
       "2        1008   11                  446               37               23706   \n",
       "3        1008   12                  634               26               14707   \n",
       "4        1011    6                  118               21                6695   \n",
       "...       ...  ...                  ...              ...                 ...   \n",
       "1636     1496    8                  122                2                8616   \n",
       "1637     1496    9                  414               21               16412   \n",
       "1638     1496   10                  317               18               14308   \n",
       "1639     1496   11                  308               13                8561   \n",
       "1640     1496   12                  294               11               16460   \n",
       "\n",
       "          plan  messages_included  mb_per_month_included  minutes_included  \\\n",
       "0     ultimate               1000                  30720              3000   \n",
       "1     ultimate               1000                  30720              3000   \n",
       "2     ultimate               1000                  30720              3000   \n",
       "3     ultimate               1000                  30720              3000   \n",
       "4     ultimate               1000                  30720              3000   \n",
       "...        ...                ...                    ...               ...   \n",
       "1636      surf                 50                  15360               500   \n",
       "1637      surf                 50                  15360               500   \n",
       "1638      surf                 50                  15360               500   \n",
       "1639      surf                 50                  15360               500   \n",
       "1640      surf                 50                  15360               500   \n",
       "\n",
       "      usd_monthly_pay  usd_per_gb  usd_per_message  usd_per_minute  \\\n",
       "0                  70           7             0.01            0.01   \n",
       "1                  70           7             0.01            0.01   \n",
       "2                  70           7             0.01            0.01   \n",
       "3                  70           7             0.01            0.01   \n",
       "4                  70           7             0.01            0.01   \n",
       "...               ...         ...              ...             ...   \n",
       "1636               20          10             0.03            0.03   \n",
       "1637               20          10             0.03            0.03   \n",
       "1638               20          10             0.03            0.03   \n",
       "1639               20          10             0.03            0.03   \n",
       "1640               20          10             0.03            0.03   \n",
       "\n",
       "      coste_mensual  \n",
       "0              70.0  \n",
       "1              70.0  \n",
       "2              70.0  \n",
       "3              70.0  \n",
       "4              70.0  \n",
       "...             ...  \n",
       "1636           20.0  \n",
       "1637           40.0  \n",
       "1638           20.0  \n",
       "1639           20.0  \n",
       "1640           40.0  \n",
       "\n",
       "[1641 rows x 14 columns]"
      ]
     },
     "execution_count": 62,
     "metadata": {},
     "output_type": "execute_result"
    }
   ],
   "source": [
    "info_general"
   ]
  },
  {
   "cell_type": "code",
   "execution_count": null,
   "metadata": {
    "trusted": false
   },
   "outputs": [],
   "source": [
    "\n",
    "sns.boxplot(info_general_surf[\"coste_mensual\"])\n",
    "plt.title(\"coste mensual- surf\")\n",
    "plt.show()\n",
    "sns.boxplot(info_general_ultimate[\"coste_mensual\"])\n",
    "plt.title(\"coste mensual- ultimate\")\n",
    " "
   ]
  },
  {
   "cell_type": "markdown",
   "metadata": {
    "id": "KAFidcXZ0q1P"
   },
   "source": [
    "[Elabora las conclusiones sobre cómo difiere el ingreso entre los planes.]\n"
   ]
  },
  {
   "cell_type": "markdown",
   "metadata": {},
   "source": [
    "en estos gráficos podemos observar que la media es superior al valor inicial del plan surf, lo que sugiere que existe un sobrecargo en gran parte de los servicios, además que el cuartil 4 decimoplica su valor, lo que es bastante elevado; a diferencia del plan ultimate que parece ser mas rentable para el cliente dado que en general no existe una desviación estandar fuera de su media que es el valor exacto del servicio y son pocos los casos aislados."
   ]
  },
  {
   "cell_type": "markdown",
   "metadata": {},
   "source": [
    "<div class=\"alert alert-block alert-success\">\n",
    "<b>Comentario revisor</b> <a class=\"tocSkip\"></a>\n",
    "\n",
    " Muy buena prática la de usar distintos tipos de gráficas identificar algunos hallazgos y llegar a conclusiones. En este caso las gráficas de box-plots nos ayudan a identificar outiers que pueden sesgar nuestros resultados, especificamente las pruebas de hipótesis. Es por ello que con estás gráficas puedes complementar el análisis eliminando los valores atipicos. \n",
    "</div>"
   ]
  },
  {
   "cell_type": "markdown",
   "metadata": {
    "id": "ajJ7VKeI0q1Q"
   },
   "source": [
    "## Prueba las hipótesis estadísticas"
   ]
  },
  {
   "cell_type": "markdown",
   "metadata": {
    "id": "AdXAZ-yL0q1Q"
   },
   "source": [
    "[Prueba la hipótesis de que son diferentes los ingresos promedio procedentes de los usuarios de los planes de llamada Ultimate y Surf.]"
   ]
  },
  {
   "cell_type": "markdown",
   "metadata": {
    "id": "IQwa_hsh0q1Q"
   },
   "source": [
    "[Elabora las hipótesis nula y alternativa, escoge la prueba estadística, determina el valor alfa.]"
   ]
  },
  {
   "cell_type": "code",
   "execution_count": 76,
   "metadata": {
    "trusted": false
   },
   "outputs": [],
   "source": [
    "#H0= las medias de las poblaciones del plan \"ultimate\" y surf son iguales\n",
    "#H1= las media de la población del plan \"surf\" es mayor a la media de la población \"ultimate\"\n",
    "alpha=0.05"
   ]
  },
  {
   "cell_type": "code",
   "execution_count": 77,
   "metadata": {
    "id": "nFoPNlPq0q1R",
    "trusted": false
   },
   "outputs": [
    {
     "name": "stdout",
     "output_type": "stream",
     "text": [
      "no es posible rechazar la hipótesis núla\n",
      "4.122837526242321e-12\n"
     ]
    }
   ],
   "source": [
    "# Prueba las hipótesis\n",
    "resultado=st.ttest_ind(info_general_surf[\"coste_mensual\"], info_general_ultimate[\"coste_mensual\"], equal_var = False)\n",
    "if (resultado.pvalue/2<alpha) and ((info_general_surf[\"coste_mensual\"].mean())>(info_general_ultimate[\"coste_mensual\"].mean())):\n",
    "    print(\"rechazámos la hipótesis núla\")\n",
    "else:\n",
    "    print(\"no es posible rechazar la hipótesis núla\")\n",
    "print(resultado.pvalue)"
   ]
  },
  {
   "cell_type": "markdown",
   "metadata": {},
   "source": [
    "\n",
    "<div class=\"alert alert-block alert-danger\">\n",
    "<b>Comentario Revisor</b> <a class=\"tocSkip\"></a>\n",
    "\n",
    "Te recomiendo que dentro de la función de stats.ttest_ind adiciones el elemento \"equal_var = False\" dado que para estos datos no podemos asegurar que las varianzas son iguales entre planes.\n",
    "</div>"
   ]
  },
  {
   "cell_type": "markdown",
   "metadata": {},
   "source": [
    "<div class=\"alert alert-block alert-success\">\n",
    "<b>Comentario del revisor</b> <a class=\"tocSkip\"></a>\n",
    "\n",
    "Gran trabajo con el ajuste!"
   ]
  },
  {
   "cell_type": "markdown",
   "metadata": {
    "id": "tCcAruM60q1R"
   },
   "source": [
    "[Prueba la hipótesis de que el ingreso promedio de los usuarios del área NY-NJ es diferente al de los usuarios de otras regiones.]"
   ]
  },
  {
   "cell_type": "markdown",
   "metadata": {
    "id": "LsBgitqj0q1R"
   },
   "source": [
    "[Elabora las hipótesis nula y alternativa, escoge la prueba estadística, determina el valor alfa.]"
   ]
  },
  {
   "cell_type": "code",
   "execution_count": 79,
   "metadata": {
    "id": "Cqcj7wrZ0q1S",
    "trusted": false
   },
   "outputs": [],
   "source": [
    "# Prueba las hipótesis\n",
    "\n",
    "info_surf_por_ciudad= info_general.merge(users, on=\"user_id\", how=\"inner\").loc[:,[\"user_id\", \"coste_mensual\", \"city\"], ]\n",
    "info_ny=info_surf_por_ciudad[info_surf_por_ciudad[\"city\"]=='New York-Newark-Jersey City, NY-NJ-PA MSA']\n",
    "info_no_ny=info_surf_por_ciudad[info_surf_por_ciudad[\"city\"]!='New York-Newark-Jersey City, NY-NJ-PA MSA']\n"
   ]
  },
  {
   "cell_type": "code",
   "execution_count": 80,
   "metadata": {
    "trusted": false
   },
   "outputs": [],
   "source": [
    "# h0= la media de las poblaciones según las ciudades es la misma (NY y el resto)\n",
    "# h1= la media de las poblaciones según las ciudades es distinta (NY y el resto)\n",
    "alpha=0.05"
   ]
  },
  {
   "cell_type": "code",
   "execution_count": 81,
   "metadata": {
    "trusted": false
   },
   "outputs": [
    {
     "name": "stdout",
     "output_type": "stream",
     "text": [
      "rechazámos la hipótesis núla\n"
     ]
    }
   ],
   "source": [
    "resultado=st.ttest_ind(info_ny[\"coste_mensual\"], info_no_ny[\"coste_mensual\"], equal_var = False)\n",
    "if resultado.pvalue<alpha:\n",
    "    print(\"rechazámos la hipótesis núla\")\n",
    "else:\n",
    "    print(\"no es posible rechazar la hipótesis núla\")"
   ]
  },
  {
   "cell_type": "markdown",
   "metadata": {},
   "source": [
    "\n",
    "<div class=\"alert alert-block alert-danger\">\n",
    "<b>Comentario Revisor</b> <a class=\"tocSkip\"></a>\n",
    "\n",
    "Te recomiendo que dentro de la función de stats.ttest_ind adiciones el elemento \"equal_var = False\" dado que para estos datos no podemos asegurar que las varianzas son iguales entre planes.\n",
    "</div>"
   ]
  },
  {
   "cell_type": "markdown",
   "metadata": {},
   "source": [
    "<div class=\"alert alert-block alert-success\">\n",
    "<b>Comentario del revisor</b> <a class=\"tocSkip\"></a>\n",
    "\n",
    "Gran trabajo con el ajuste!"
   ]
  },
  {
   "cell_type": "markdown",
   "metadata": {
    "trusted": false
   },
   "source": [
    "apartir de esta prueba estadística podemos comprobar que las medias entre estas dos poblaciones son distintas. considero que es debido a la generalización de la población distinta a new york ya que es muy grande y las tendencias son mas generale."
   ]
  },
  {
   "cell_type": "markdown",
   "metadata": {
    "id": "bbTR8UQO0q1T"
   },
   "source": [
    "## Conclusión general\n",
    "\n",
    "[En esta sección final, enumera tus conclusiones importantes. Asegúrate de que estas abarquen todas las decisiones (suposiciones) importantes que adoptaste y que determinaron la forma elegida para procesar y analizar los datos.]"
   ]
  },
  {
   "cell_type": "markdown",
   "metadata": {},
   "source": [
    "En general se pudo rescatár información financiera importante reuniendo la información de los distintos dtasets presentes; aunque la media de la población del plan surf no es mayor de la média del plan ultimate, sí demostramos que es más rentable dado que genera ingresos extras que generan que la media esté por el doble del valor del plan. Además que es mas enganchable dado su bajo precio. poniendome en la po"
   ]
  }
 ],
 "metadata": {
  "ExecuteTimeLog": [
   {
    "duration": 828,
    "start_time": "2021-11-16T09:21:11.304Z"
   },
   {
    "duration": 893,
    "start_time": "2021-11-16T09:21:17.728Z"
   },
   {
    "duration": 1150,
    "start_time": "2021-11-16T09:21:29.568Z"
   },
   {
    "duration": 3,
    "start_time": "2021-11-16T09:24:14.495Z"
   },
   {
    "duration": 120,
    "start_time": "2021-11-16T09:24:46.630Z"
   },
   {
    "duration": 3,
    "start_time": "2021-11-16T09:28:27.882Z"
   },
   {
    "duration": 4,
    "start_time": "2021-11-16T09:29:54.281Z"
   },
   {
    "duration": 3,
    "start_time": "2021-11-16T09:30:45.936Z"
   },
   {
    "duration": 4,
    "start_time": "2021-11-16T09:31:06.300Z"
   },
   {
    "duration": 113,
    "start_time": "2021-11-16T09:31:37.208Z"
   },
   {
    "duration": 143,
    "start_time": "2021-11-16T09:31:48.656Z"
   },
   {
    "duration": 98,
    "start_time": "2021-11-16T09:31:55.678Z"
   },
   {
    "duration": 3,
    "start_time": "2021-11-16T09:32:08.535Z"
   },
   {
    "duration": 111,
    "start_time": "2021-11-16T09:32:10.120Z"
   },
   {
    "duration": 3,
    "start_time": "2021-11-16T09:32:15.732Z"
   },
   {
    "duration": 4,
    "start_time": "2021-11-16T09:32:29.423Z"
   },
   {
    "duration": 3,
    "start_time": "2021-11-16T10:03:03.074Z"
   },
   {
    "duration": 3,
    "start_time": "2021-11-16T10:10:01.288Z"
   },
   {
    "duration": 3,
    "start_time": "2021-11-16T10:10:46.923Z"
   },
   {
    "duration": 121,
    "start_time": "2021-11-16T10:37:46.494Z"
   },
   {
    "duration": 125,
    "start_time": "2021-11-16T10:38:20.632Z"
   },
   {
    "duration": 112,
    "start_time": "2021-11-16T10:46:53.001Z"
   },
   {
    "duration": 110,
    "start_time": "2021-11-16T10:48:25.775Z"
   },
   {
    "duration": 3,
    "start_time": "2021-11-16T10:50:18.720Z"
   },
   {
    "duration": 4,
    "start_time": "2021-11-16T10:50:37.649Z"
   },
   {
    "duration": 2,
    "start_time": "2021-11-16T10:50:51.884Z"
   },
   {
    "duration": 3,
    "start_time": "2021-11-16T10:51:56.237Z"
   },
   {
    "duration": 101,
    "start_time": "2021-11-16T10:53:13.791Z"
   },
   {
    "duration": 3,
    "start_time": "2021-11-16T10:55:59.186Z"
   },
   {
    "duration": 3,
    "start_time": "2021-11-16T10:56:10.751Z"
   },
   {
    "duration": 3,
    "start_time": "2021-11-16T10:56:49.038Z"
   },
   {
    "duration": 3,
    "start_time": "2021-11-16T10:56:49.174Z"
   },
   {
    "duration": 4,
    "start_time": "2021-11-16T10:56:49.414Z"
   },
   {
    "duration": 3,
    "start_time": "2021-11-16T10:56:49.680Z"
   },
   {
    "duration": 3,
    "start_time": "2021-11-16T10:56:50.370Z"
   },
   {
    "duration": 114,
    "start_time": "2021-11-16T10:59:34.518Z"
   },
   {
    "duration": 3,
    "start_time": "2021-11-16T11:01:41.201Z"
   },
   {
    "duration": 116,
    "start_time": "2021-11-16T11:01:48.754Z"
   },
   {
    "duration": 3,
    "start_time": "2021-11-16T11:02:16.685Z"
   },
   {
    "duration": 3,
    "start_time": "2021-11-16T11:02:19.479Z"
   },
   {
    "duration": 3,
    "start_time": "2021-11-16T11:02:47.067Z"
   },
   {
    "duration": 3,
    "start_time": "2021-11-16T11:02:49.353Z"
   },
   {
    "duration": 3,
    "start_time": "2021-11-16T11:03:07.835Z"
   },
   {
    "duration": 3,
    "start_time": "2021-11-16T11:03:07.953Z"
   },
   {
    "duration": 112,
    "start_time": "2021-11-16T11:07:52.072Z"
   },
   {
    "duration": 187,
    "start_time": "2021-11-16T11:09:23.468Z"
   },
   {
    "duration": 4,
    "start_time": "2021-11-16T11:10:01.455Z"
   },
   {
    "duration": 3,
    "start_time": "2021-11-16T11:10:05.069Z"
   },
   {
    "duration": 4,
    "start_time": "2021-11-16T11:10:13.376Z"
   },
   {
    "duration": 3,
    "start_time": "2021-11-16T11:10:14.434Z"
   },
   {
    "duration": 3,
    "start_time": "2021-11-16T11:10:22.853Z"
   },
   {
    "duration": 4,
    "start_time": "2021-11-16T11:27:29.279Z"
   },
   {
    "duration": 4,
    "start_time": "2021-11-16T11:29:08.919Z"
   },
   {
    "duration": 118,
    "start_time": "2021-11-16T11:29:46.703Z"
   },
   {
    "duration": 437,
    "start_time": "2021-11-16T11:36:02.181Z"
   },
   {
    "duration": 157,
    "start_time": "2021-11-16T11:36:14.388Z"
   },
   {
    "duration": 207,
    "start_time": "2021-11-16T11:47:15.898Z"
   },
   {
    "duration": 3,
    "start_time": "2021-11-16T11:53:52.092Z"
   },
   {
    "duration": 3,
    "start_time": "2021-11-16T11:53:52.236Z"
   },
   {
    "duration": 3,
    "start_time": "2021-11-16T11:59:12.005Z"
   },
   {
    "duration": 112,
    "start_time": "2021-11-16T12:00:33.446Z"
   },
   {
    "duration": 3,
    "start_time": "2021-11-16T12:02:14.453Z"
   },
   {
    "duration": 3,
    "start_time": "2021-11-16T12:02:39.512Z"
   },
   {
    "duration": 106,
    "start_time": "2021-11-16T12:03:03.460Z"
   },
   {
    "duration": 3,
    "start_time": "2021-11-17T20:37:21.139Z"
   },
   {
    "duration": 3,
    "start_time": "2021-11-17T20:37:22.229Z"
   },
   {
    "duration": 3,
    "start_time": "2021-11-17T20:38:38.806Z"
   },
   {
    "duration": 3,
    "start_time": "2021-11-17T20:38:41.958Z"
   },
   {
    "duration": 3,
    "start_time": "2021-11-17T20:43:46.551Z"
   },
   {
    "duration": 4,
    "start_time": "2021-11-17T20:58:21.835Z"
   },
   {
    "duration": 3,
    "start_time": "2021-11-17T20:59:21.872Z"
   },
   {
    "duration": 4,
    "start_time": "2021-11-17T20:59:45.352Z"
   },
   {
    "duration": 4,
    "start_time": "2021-11-17T20:59:49.646Z"
   },
   {
    "duration": 159,
    "start_time": "2021-11-17T21:02:26.949Z"
   },
   {
    "duration": 3,
    "start_time": "2021-11-17T21:03:53.461Z"
   },
   {
    "duration": 3,
    "start_time": "2021-11-17T21:03:53.694Z"
   },
   {
    "duration": 3,
    "start_time": "2021-11-17T21:05:28.145Z"
   },
   {
    "duration": 116,
    "start_time": "2021-11-17T21:05:57.787Z"
   },
   {
    "duration": 3,
    "start_time": "2021-11-17T21:06:37.993Z"
   },
   {
    "duration": 3,
    "start_time": "2021-11-17T21:06:38.261Z"
   },
   {
    "duration": 3,
    "start_time": "2021-11-17T21:11:54.358Z"
   },
   {
    "duration": 3,
    "start_time": "2021-11-17T21:12:43.846Z"
   },
   {
    "duration": 4,
    "start_time": "2021-11-17T21:13:08.773Z"
   },
   {
    "duration": 3,
    "start_time": "2021-11-17T21:14:44.441Z"
   },
   {
    "duration": 3,
    "start_time": "2021-11-17T21:15:42.059Z"
   },
   {
    "duration": 4,
    "start_time": "2021-11-17T21:15:51.995Z"
   },
   {
    "duration": 3,
    "start_time": "2021-11-17T21:15:53.923Z"
   },
   {
    "duration": 3,
    "start_time": "2021-11-17T21:15:55.282Z"
   },
   {
    "duration": 3,
    "start_time": "2021-11-17T21:16:28.492Z"
   },
   {
    "duration": 3,
    "start_time": "2021-11-17T21:16:32.603Z"
   },
   {
    "duration": 3,
    "start_time": "2021-11-17T21:17:06.941Z"
   },
   {
    "duration": 98,
    "start_time": "2021-11-17T21:18:05.733Z"
   },
   {
    "duration": 4,
    "start_time": "2021-11-17T21:21:35.255Z"
   },
   {
    "duration": 3,
    "start_time": "2021-11-17T21:21:37.804Z"
   },
   {
    "duration": 4,
    "start_time": "2021-11-17T21:23:06.071Z"
   },
   {
    "duration": 3,
    "start_time": "2021-11-17T21:23:24.799Z"
   },
   {
    "duration": 3,
    "start_time": "2021-11-17T21:23:32.591Z"
   },
   {
    "duration": 98,
    "start_time": "2021-11-17T21:28:31.559Z"
   },
   {
    "duration": 3,
    "start_time": "2021-11-17T21:28:45.448Z"
   },
   {
    "duration": 3,
    "start_time": "2021-11-17T21:29:17.303Z"
   },
   {
    "duration": 3,
    "start_time": "2021-11-17T21:29:29.617Z"
   },
   {
    "duration": 3,
    "start_time": "2021-11-17T21:29:32.681Z"
   },
   {
    "duration": 3,
    "start_time": "2021-11-17T21:36:11.474Z"
   },
   {
    "duration": 3,
    "start_time": "2021-11-17T21:36:14.791Z"
   },
   {
    "duration": 3,
    "start_time": "2021-11-17T21:36:53.943Z"
   },
   {
    "duration": 3,
    "start_time": "2021-11-17T21:36:56.165Z"
   },
   {
    "duration": 4,
    "start_time": "2021-11-17T21:37:16.590Z"
   },
   {
    "duration": 3,
    "start_time": "2021-11-17T21:37:22.702Z"
   },
   {
    "duration": 4,
    "start_time": "2021-11-17T21:38:03.479Z"
   },
   {
    "duration": 3,
    "start_time": "2021-11-17T21:38:08.601Z"
   },
   {
    "duration": 3,
    "start_time": "2021-11-17T21:38:12.928Z"
   },
   {
    "duration": 3,
    "start_time": "2021-11-17T21:38:48.896Z"
   },
   {
    "duration": 2,
    "start_time": "2021-11-17T21:38:49.171Z"
   },
   {
    "duration": 4,
    "start_time": "2021-11-17T21:39:57.889Z"
   },
   {
    "duration": 3,
    "start_time": "2021-11-17T21:39:58.057Z"
   },
   {
    "duration": 3,
    "start_time": "2021-11-17T21:41:20.108Z"
   },
   {
    "duration": 3,
    "start_time": "2021-11-17T21:41:20.629Z"
   },
   {
    "duration": 3,
    "start_time": "2021-11-17T21:42:49.136Z"
   },
   {
    "duration": 3,
    "start_time": "2021-11-17T21:43:15.137Z"
   },
   {
    "duration": 4,
    "start_time": "2021-11-17T21:43:16.766Z"
   },
   {
    "duration": 4,
    "start_time": "2021-11-17T21:43:31.711Z"
   },
   {
    "duration": 3,
    "start_time": "2021-11-17T21:43:36.312Z"
   },
   {
    "duration": 4,
    "start_time": "2021-11-17T21:45:08.825Z"
   },
   {
    "duration": 4,
    "start_time": "2021-11-17T21:45:10.119Z"
   },
   {
    "duration": 4,
    "start_time": "2021-11-17T21:45:13.748Z"
   },
   {
    "duration": 3,
    "start_time": "2021-11-17T21:45:22.219Z"
   },
   {
    "duration": 3,
    "start_time": "2021-11-17T21:45:33.412Z"
   },
   {
    "duration": 2,
    "start_time": "2021-11-17T21:46:01.885Z"
   },
   {
    "duration": 3,
    "start_time": "2021-11-17T21:46:03.628Z"
   },
   {
    "duration": 107,
    "start_time": "2021-11-17T21:47:32.512Z"
   },
   {
    "duration": 103,
    "start_time": "2021-11-17T21:50:36.243Z"
   },
   {
    "duration": 3,
    "start_time": "2021-11-18T06:28:31.440Z"
   },
   {
    "duration": 3,
    "start_time": "2021-11-18T06:29:00.168Z"
   },
   {
    "duration": 3,
    "start_time": "2021-11-18T06:31:27.008Z"
   },
   {
    "duration": 2,
    "start_time": "2021-11-18T06:35:34.288Z"
   },
   {
    "duration": 2,
    "start_time": "2021-11-18T06:38:04.527Z"
   },
   {
    "duration": 9,
    "start_time": "2025-04-03T01:48:23.200Z"
   },
   {
    "duration": 153,
    "start_time": "2025-04-03T01:49:14.939Z"
   },
   {
    "duration": 673,
    "start_time": "2025-04-03T01:49:19.917Z"
   },
   {
    "duration": 215,
    "start_time": "2025-04-03T01:49:21.547Z"
   },
   {
    "duration": 16,
    "start_time": "2025-04-03T01:49:41.811Z"
   },
   {
    "duration": 41,
    "start_time": "2025-04-03T01:50:19.929Z"
   },
   {
    "duration": 91,
    "start_time": "2025-04-03T01:51:58.566Z"
   },
   {
    "duration": 41,
    "start_time": "2025-04-03T01:52:17.470Z"
   },
   {
    "duration": 62,
    "start_time": "2025-04-03T01:52:28.435Z"
   },
   {
    "duration": 60,
    "start_time": "2025-04-03T01:54:08.394Z"
   },
   {
    "duration": 54,
    "start_time": "2025-04-03T01:55:23.444Z"
   },
   {
    "duration": 64,
    "start_time": "2025-04-03T02:11:18.433Z"
   },
   {
    "duration": 55,
    "start_time": "2025-04-03T02:13:11.696Z"
   },
   {
    "duration": 29,
    "start_time": "2025-04-03T02:14:06.210Z"
   },
   {
    "duration": 6,
    "start_time": "2025-04-03T02:14:24.608Z"
   },
   {
    "duration": 15,
    "start_time": "2025-04-03T02:14:36.388Z"
   },
   {
    "duration": 16,
    "start_time": "2025-04-03T02:15:02.158Z"
   },
   {
    "duration": 15,
    "start_time": "2025-04-03T02:15:10.211Z"
   },
   {
    "duration": 4,
    "start_time": "2025-04-03T02:21:23.230Z"
   },
   {
    "duration": 9,
    "start_time": "2025-04-03T02:21:29.651Z"
   },
   {
    "duration": 19,
    "start_time": "2025-04-03T02:31:02.715Z"
   },
   {
    "duration": 13,
    "start_time": "2025-04-03T02:31:12.788Z"
   },
   {
    "duration": 13,
    "start_time": "2025-04-03T02:51:56.088Z"
   },
   {
    "duration": 13,
    "start_time": "2025-04-03T02:51:59.227Z"
   },
   {
    "duration": 8,
    "start_time": "2025-04-03T02:52:12.702Z"
   },
   {
    "duration": 10,
    "start_time": "2025-04-03T02:52:21.615Z"
   },
   {
    "duration": 9,
    "start_time": "2025-04-03T02:52:30.836Z"
   },
   {
    "duration": 7,
    "start_time": "2025-04-03T02:53:01.480Z"
   },
   {
    "duration": 7,
    "start_time": "2025-04-03T02:53:56.092Z"
   },
   {
    "duration": 5,
    "start_time": "2025-04-03T02:55:07.625Z"
   },
   {
    "duration": 15,
    "start_time": "2025-04-03T02:56:27.260Z"
   },
   {
    "duration": 12,
    "start_time": "2025-04-03T02:56:36.049Z"
   },
   {
    "duration": 8,
    "start_time": "2025-04-03T02:56:45.843Z"
   },
   {
    "duration": 414,
    "start_time": "2025-04-03T02:58:34.513Z"
   },
   {
    "duration": 5,
    "start_time": "2025-04-03T02:58:52.183Z"
   },
   {
    "duration": 13,
    "start_time": "2025-04-03T03:00:09.932Z"
   },
   {
    "duration": 10,
    "start_time": "2025-04-03T03:00:18.545Z"
   },
   {
    "duration": 4,
    "start_time": "2025-04-03T03:00:34.048Z"
   },
   {
    "duration": 5,
    "start_time": "2025-04-03T03:00:46.258Z"
   },
   {
    "duration": 4,
    "start_time": "2025-04-03T03:01:38.650Z"
   },
   {
    "duration": 12,
    "start_time": "2025-04-03T03:02:09.347Z"
   },
   {
    "duration": 16,
    "start_time": "2025-04-03T03:05:39.892Z"
   },
   {
    "duration": 11,
    "start_time": "2025-04-03T03:05:48.028Z"
   },
   {
    "duration": 4,
    "start_time": "2025-04-03T03:06:26.827Z"
   },
   {
    "duration": 15,
    "start_time": "2025-04-03T03:06:32.589Z"
   },
   {
    "duration": 13,
    "start_time": "2025-04-03T03:06:52.577Z"
   },
   {
    "duration": 111,
    "start_time": "2025-04-03T03:08:18.827Z"
   },
   {
    "duration": 2,
    "start_time": "2025-04-03T03:08:44.092Z"
   },
   {
    "duration": 39,
    "start_time": "2025-04-03T03:09:00.655Z"
   },
   {
    "duration": 50,
    "start_time": "2025-04-03T03:09:13.881Z"
   },
   {
    "duration": 14,
    "start_time": "2025-04-03T03:09:46.509Z"
   },
   {
    "duration": 50,
    "start_time": "2025-04-03T03:09:56.932Z"
   },
   {
    "duration": 13,
    "start_time": "2025-04-03T03:11:03.539Z"
   },
   {
    "duration": 8,
    "start_time": "2025-04-03T03:11:18.524Z"
   },
   {
    "duration": 6,
    "start_time": "2025-04-03T03:11:45.024Z"
   },
   {
    "duration": 13,
    "start_time": "2025-04-03T03:11:56.454Z"
   },
   {
    "duration": 22,
    "start_time": "2025-04-03T03:12:34.918Z"
   },
   {
    "duration": 22,
    "start_time": "2025-04-03T03:13:04.689Z"
   },
   {
    "duration": 11,
    "start_time": "2025-04-03T03:13:19.841Z"
   },
   {
    "duration": 19,
    "start_time": "2025-04-03T03:13:25.991Z"
   },
   {
    "duration": 6,
    "start_time": "2025-04-03T03:14:20.269Z"
   },
   {
    "duration": 14,
    "start_time": "2025-04-03T03:14:26.354Z"
   },
   {
    "duration": 9,
    "start_time": "2025-04-03T03:16:14.103Z"
   },
   {
    "duration": 13,
    "start_time": "2025-04-03T03:16:22.606Z"
   },
   {
    "duration": 13,
    "start_time": "2025-04-03T03:17:23.551Z"
   },
   {
    "duration": 13,
    "start_time": "2025-04-03T03:17:52.702Z"
   },
   {
    "duration": 7,
    "start_time": "2025-04-03T03:18:01.502Z"
   },
   {
    "duration": 14,
    "start_time": "2025-04-03T03:18:11.659Z"
   },
   {
    "duration": 7,
    "start_time": "2025-04-03T03:20:09.706Z"
   },
   {
    "duration": 12,
    "start_time": "2025-04-03T03:20:49.598Z"
   },
   {
    "duration": 9,
    "start_time": "2025-04-03T03:20:54.905Z"
   },
   {
    "duration": 11,
    "start_time": "2025-04-03T03:21:06.843Z"
   },
   {
    "duration": 7,
    "start_time": "2025-04-03T03:21:13.907Z"
   },
   {
    "duration": 57,
    "start_time": "2025-04-03T03:22:21.732Z"
   },
   {
    "duration": 8,
    "start_time": "2025-04-03T03:22:31.565Z"
   },
   {
    "duration": 14,
    "start_time": "2025-04-03T03:25:01.373Z"
   },
   {
    "duration": 13,
    "start_time": "2025-04-03T03:25:09.863Z"
   },
   {
    "duration": 116,
    "start_time": "2025-04-03T03:25:19.909Z"
   },
   {
    "duration": 19,
    "start_time": "2025-04-03T03:25:40.651Z"
   },
   {
    "duration": 20,
    "start_time": "2025-04-03T03:25:52.263Z"
   },
   {
    "duration": 18,
    "start_time": "2025-04-03T03:26:00.908Z"
   },
   {
    "duration": 18,
    "start_time": "2025-04-03T03:26:03.760Z"
   },
   {
    "duration": 13,
    "start_time": "2025-04-03T03:27:43.707Z"
   },
   {
    "duration": 17,
    "start_time": "2025-04-03T03:27:56.768Z"
   },
   {
    "duration": 13,
    "start_time": "2025-04-03T03:30:09.703Z"
   },
   {
    "duration": 16,
    "start_time": "2025-04-03T03:30:34.079Z"
   },
   {
    "duration": 13,
    "start_time": "2025-04-03T03:31:46.811Z"
   },
   {
    "duration": 10,
    "start_time": "2025-04-03T03:32:40.055Z"
   },
   {
    "duration": 20,
    "start_time": "2025-04-03T03:34:01.287Z"
   },
   {
    "duration": 16,
    "start_time": "2025-04-03T03:34:11.032Z"
   },
   {
    "duration": 17,
    "start_time": "2025-04-03T03:34:14.742Z"
   },
   {
    "duration": 13,
    "start_time": "2025-04-03T03:34:39.955Z"
   },
   {
    "duration": 13,
    "start_time": "2025-04-03T03:34:43.518Z"
   },
   {
    "duration": 18,
    "start_time": "2025-04-03T03:35:01.073Z"
   },
   {
    "duration": 12,
    "start_time": "2025-04-03T03:35:41.629Z"
   },
   {
    "duration": 46,
    "start_time": "2025-04-03T03:37:41.828Z"
   },
   {
    "duration": 20,
    "start_time": "2025-04-03T03:37:53.293Z"
   },
   {
    "duration": 38,
    "start_time": "2025-04-03T03:38:33.412Z"
   },
   {
    "duration": 12,
    "start_time": "2025-04-03T03:38:43.213Z"
   },
   {
    "duration": 16,
    "start_time": "2025-04-03T03:40:23.575Z"
   },
   {
    "duration": 16,
    "start_time": "2025-04-03T03:40:35.091Z"
   },
   {
    "duration": 13,
    "start_time": "2025-04-03T03:42:41.859Z"
   },
   {
    "duration": 197,
    "start_time": "2025-04-03T03:42:47.750Z"
   },
   {
    "duration": 381,
    "start_time": "2025-04-03T03:45:39.283Z"
   },
   {
    "duration": 13,
    "start_time": "2025-04-03T03:47:29.257Z"
   },
   {
    "duration": 639,
    "start_time": "2025-04-03T03:47:41.035Z"
   },
   {
    "duration": 216,
    "start_time": "2025-04-03T03:47:41.677Z"
   },
   {
    "duration": 10,
    "start_time": "2025-04-03T03:47:41.894Z"
   },
   {
    "duration": 17,
    "start_time": "2025-04-03T03:47:41.906Z"
   },
   {
    "duration": 12,
    "start_time": "2025-04-03T03:47:41.925Z"
   },
   {
    "duration": 9,
    "start_time": "2025-04-03T03:47:41.938Z"
   },
   {
    "duration": 10,
    "start_time": "2025-04-03T03:47:41.948Z"
   },
   {
    "duration": 11,
    "start_time": "2025-04-03T03:47:41.959Z"
   },
   {
    "duration": 39,
    "start_time": "2025-04-03T03:47:41.972Z"
   },
   {
    "duration": 3,
    "start_time": "2025-04-03T03:47:42.015Z"
   },
   {
    "duration": 4,
    "start_time": "2025-04-03T03:47:42.019Z"
   },
   {
    "duration": 5,
    "start_time": "2025-04-03T03:47:42.024Z"
   },
   {
    "duration": 12,
    "start_time": "2025-04-03T03:47:42.031Z"
   },
   {
    "duration": 71,
    "start_time": "2025-04-03T03:47:42.044Z"
   },
   {
    "duration": 14,
    "start_time": "2025-04-03T03:47:42.116Z"
   },
   {
    "duration": 5,
    "start_time": "2025-04-03T03:47:42.132Z"
   },
   {
    "duration": 17,
    "start_time": "2025-04-03T03:47:42.139Z"
   },
   {
    "duration": 12,
    "start_time": "2025-04-03T03:47:42.158Z"
   },
   {
    "duration": 39,
    "start_time": "2025-04-03T03:47:42.171Z"
   },
   {
    "duration": 12,
    "start_time": "2025-04-03T03:47:42.213Z"
   },
   {
    "duration": 43,
    "start_time": "2025-04-03T03:47:42.227Z"
   },
   {
    "duration": 37,
    "start_time": "2025-04-03T03:47:42.271Z"
   },
   {
    "duration": 6,
    "start_time": "2025-04-03T03:47:42.310Z"
   },
   {
    "duration": 8,
    "start_time": "2025-04-03T03:47:42.318Z"
   },
   {
    "duration": 23,
    "start_time": "2025-04-03T03:47:42.327Z"
   },
   {
    "duration": 18,
    "start_time": "2025-04-03T03:47:42.352Z"
   },
   {
    "duration": 40,
    "start_time": "2025-04-03T03:47:42.372Z"
   },
   {
    "duration": 18,
    "start_time": "2025-04-03T03:47:42.416Z"
   },
   {
    "duration": 12,
    "start_time": "2025-04-03T03:47:42.436Z"
   },
   {
    "duration": 15,
    "start_time": "2025-04-03T03:47:42.449Z"
   },
   {
    "duration": 162,
    "start_time": "2025-04-03T03:47:57.421Z"
   },
   {
    "duration": 11,
    "start_time": "2025-04-03T03:48:07.255Z"
   },
   {
    "duration": 632,
    "start_time": "2025-04-03T03:48:18.043Z"
   },
   {
    "duration": 210,
    "start_time": "2025-04-03T03:48:18.678Z"
   },
   {
    "duration": 9,
    "start_time": "2025-04-03T03:48:18.891Z"
   },
   {
    "duration": 18,
    "start_time": "2025-04-03T03:48:18.904Z"
   },
   {
    "duration": 14,
    "start_time": "2025-04-03T03:48:18.923Z"
   },
   {
    "duration": 8,
    "start_time": "2025-04-03T03:48:18.938Z"
   },
   {
    "duration": 10,
    "start_time": "2025-04-03T03:48:18.948Z"
   },
   {
    "duration": 12,
    "start_time": "2025-04-03T03:48:18.959Z"
   },
   {
    "duration": 39,
    "start_time": "2025-04-03T03:48:18.972Z"
   },
   {
    "duration": 3,
    "start_time": "2025-04-03T03:48:19.014Z"
   },
   {
    "duration": 4,
    "start_time": "2025-04-03T03:48:19.018Z"
   },
   {
    "duration": 6,
    "start_time": "2025-04-03T03:48:19.023Z"
   },
   {
    "duration": 11,
    "start_time": "2025-04-03T03:48:19.031Z"
   },
   {
    "duration": 70,
    "start_time": "2025-04-03T03:48:19.044Z"
   },
   {
    "duration": 11,
    "start_time": "2025-04-03T03:48:19.116Z"
   },
   {
    "duration": 6,
    "start_time": "2025-04-03T03:48:19.128Z"
   },
   {
    "duration": 17,
    "start_time": "2025-04-03T03:48:19.136Z"
   },
   {
    "duration": 12,
    "start_time": "2025-04-03T03:48:19.155Z"
   },
   {
    "duration": 41,
    "start_time": "2025-04-03T03:48:19.168Z"
   },
   {
    "duration": 14,
    "start_time": "2025-04-03T03:48:19.210Z"
   },
   {
    "duration": 41,
    "start_time": "2025-04-03T03:48:19.225Z"
   },
   {
    "duration": 14,
    "start_time": "2025-04-03T03:48:19.268Z"
   },
   {
    "duration": 27,
    "start_time": "2025-04-03T03:48:19.283Z"
   },
   {
    "duration": 7,
    "start_time": "2025-04-03T03:48:19.311Z"
   },
   {
    "duration": 23,
    "start_time": "2025-04-03T03:48:19.319Z"
   },
   {
    "duration": 17,
    "start_time": "2025-04-03T03:48:19.343Z"
   },
   {
    "duration": 10,
    "start_time": "2025-04-03T03:48:19.361Z"
   },
   {
    "duration": 21,
    "start_time": "2025-04-03T03:48:19.407Z"
   },
   {
    "duration": 12,
    "start_time": "2025-04-03T03:48:19.430Z"
   },
   {
    "duration": 19,
    "start_time": "2025-04-03T03:48:19.444Z"
   },
   {
    "duration": 394,
    "start_time": "2025-04-03T03:48:19.465Z"
   },
   {
    "duration": 3,
    "start_time": "2025-04-03T03:48:19.860Z"
   },
   {
    "duration": 3,
    "start_time": "2025-04-03T03:48:19.864Z"
   },
   {
    "duration": 3,
    "start_time": "2025-04-03T03:48:19.869Z"
   },
   {
    "duration": 4,
    "start_time": "2025-04-03T03:48:19.873Z"
   },
   {
    "duration": 3,
    "start_time": "2025-04-03T03:48:19.878Z"
   },
   {
    "duration": 3,
    "start_time": "2025-04-03T03:48:19.905Z"
   },
   {
    "duration": 4,
    "start_time": "2025-04-03T03:48:19.909Z"
   },
   {
    "duration": 3,
    "start_time": "2025-04-03T03:48:19.914Z"
   },
   {
    "duration": 4,
    "start_time": "2025-04-03T03:48:19.918Z"
   },
   {
    "duration": 4,
    "start_time": "2025-04-03T03:48:19.923Z"
   },
   {
    "duration": 389,
    "start_time": "2025-04-03T03:48:30.729Z"
   },
   {
    "duration": 407,
    "start_time": "2025-04-03T03:48:35.720Z"
   },
   {
    "duration": 158,
    "start_time": "2025-04-03T23:10:23.212Z"
   },
   {
    "duration": 575,
    "start_time": "2025-04-03T23:10:32.306Z"
   },
   {
    "duration": 209,
    "start_time": "2025-04-03T23:10:32.883Z"
   },
   {
    "duration": 11,
    "start_time": "2025-04-03T23:10:33.093Z"
   },
   {
    "duration": 17,
    "start_time": "2025-04-03T23:10:33.107Z"
   },
   {
    "duration": 12,
    "start_time": "2025-04-03T23:10:33.125Z"
   },
   {
    "duration": 8,
    "start_time": "2025-04-03T23:10:33.138Z"
   },
   {
    "duration": 10,
    "start_time": "2025-04-03T23:10:33.148Z"
   },
   {
    "duration": 11,
    "start_time": "2025-04-03T23:10:33.160Z"
   },
   {
    "duration": 41,
    "start_time": "2025-04-03T23:10:33.173Z"
   },
   {
    "duration": 3,
    "start_time": "2025-04-03T23:10:33.218Z"
   },
   {
    "duration": 3,
    "start_time": "2025-04-03T23:10:33.223Z"
   },
   {
    "duration": 4,
    "start_time": "2025-04-03T23:10:33.228Z"
   },
   {
    "duration": 11,
    "start_time": "2025-04-03T23:10:33.234Z"
   },
   {
    "duration": 67,
    "start_time": "2025-04-03T23:10:33.246Z"
   },
   {
    "duration": 12,
    "start_time": "2025-04-03T23:10:33.315Z"
   },
   {
    "duration": 5,
    "start_time": "2025-04-03T23:10:33.329Z"
   },
   {
    "duration": 17,
    "start_time": "2025-04-03T23:10:33.336Z"
   },
   {
    "duration": 12,
    "start_time": "2025-04-03T23:10:33.354Z"
   },
   {
    "duration": 8,
    "start_time": "2025-04-03T23:10:33.368Z"
   },
   {
    "duration": 13,
    "start_time": "2025-04-03T23:10:33.409Z"
   },
   {
    "duration": 40,
    "start_time": "2025-04-03T23:10:33.424Z"
   },
   {
    "duration": 14,
    "start_time": "2025-04-03T23:10:33.465Z"
   },
   {
    "duration": 6,
    "start_time": "2025-04-03T23:10:33.481Z"
   },
   {
    "duration": 7,
    "start_time": "2025-04-03T23:10:33.509Z"
   },
   {
    "duration": 22,
    "start_time": "2025-04-03T23:10:33.518Z"
   },
   {
    "duration": 16,
    "start_time": "2025-04-03T23:10:33.542Z"
   },
   {
    "duration": 10,
    "start_time": "2025-04-03T23:10:33.559Z"
   },
   {
    "duration": 50,
    "start_time": "2025-04-03T23:10:33.572Z"
   },
   {
    "duration": 14,
    "start_time": "2025-04-03T23:10:33.623Z"
   },
   {
    "duration": 15,
    "start_time": "2025-04-03T23:10:33.639Z"
   },
   {
    "duration": 7,
    "start_time": "2025-04-03T23:10:33.655Z"
   },
   {
    "duration": 0,
    "start_time": "2025-04-03T23:10:33.663Z"
   },
   {
    "duration": 0,
    "start_time": "2025-04-03T23:10:33.664Z"
   },
   {
    "duration": 0,
    "start_time": "2025-04-03T23:10:33.666Z"
   },
   {
    "duration": 0,
    "start_time": "2025-04-03T23:10:33.667Z"
   },
   {
    "duration": 0,
    "start_time": "2025-04-03T23:10:33.668Z"
   },
   {
    "duration": 0,
    "start_time": "2025-04-03T23:10:33.669Z"
   },
   {
    "duration": 0,
    "start_time": "2025-04-03T23:10:33.670Z"
   },
   {
    "duration": 0,
    "start_time": "2025-04-03T23:10:33.671Z"
   },
   {
    "duration": 0,
    "start_time": "2025-04-03T23:10:33.672Z"
   },
   {
    "duration": 0,
    "start_time": "2025-04-03T23:10:33.673Z"
   },
   {
    "duration": 0,
    "start_time": "2025-04-03T23:10:33.674Z"
   },
   {
    "duration": 373,
    "start_time": "2025-04-03T23:11:22.752Z"
   },
   {
    "duration": 412,
    "start_time": "2025-04-03T23:11:25.154Z"
   },
   {
    "duration": 427,
    "start_time": "2025-04-03T23:11:28.297Z"
   },
   {
    "duration": 158,
    "start_time": "2025-04-03T23:18:02.394Z"
   },
   {
    "duration": 581,
    "start_time": "2025-04-03T23:18:11.605Z"
   },
   {
    "duration": 215,
    "start_time": "2025-04-03T23:18:12.188Z"
   },
   {
    "duration": 9,
    "start_time": "2025-04-03T23:18:12.405Z"
   },
   {
    "duration": 17,
    "start_time": "2025-04-03T23:18:12.417Z"
   },
   {
    "duration": 12,
    "start_time": "2025-04-03T23:18:12.435Z"
   },
   {
    "duration": 7,
    "start_time": "2025-04-03T23:18:12.448Z"
   },
   {
    "duration": 11,
    "start_time": "2025-04-03T23:18:12.457Z"
   },
   {
    "duration": 40,
    "start_time": "2025-04-03T23:18:12.470Z"
   },
   {
    "duration": 7,
    "start_time": "2025-04-03T23:18:12.511Z"
   },
   {
    "duration": 3,
    "start_time": "2025-04-03T23:18:12.521Z"
   },
   {
    "duration": 4,
    "start_time": "2025-04-03T23:18:12.525Z"
   },
   {
    "duration": 4,
    "start_time": "2025-04-03T23:18:12.531Z"
   },
   {
    "duration": 12,
    "start_time": "2025-04-03T23:18:12.536Z"
   },
   {
    "duration": 74,
    "start_time": "2025-04-03T23:18:12.550Z"
   },
   {
    "duration": 11,
    "start_time": "2025-04-03T23:18:12.625Z"
   },
   {
    "duration": 5,
    "start_time": "2025-04-03T23:18:12.638Z"
   },
   {
    "duration": 16,
    "start_time": "2025-04-03T23:18:12.645Z"
   },
   {
    "duration": 12,
    "start_time": "2025-04-03T23:18:12.662Z"
   },
   {
    "duration": 34,
    "start_time": "2025-04-03T23:18:12.676Z"
   },
   {
    "duration": 15,
    "start_time": "2025-04-03T23:18:12.712Z"
   },
   {
    "duration": 42,
    "start_time": "2025-04-03T23:18:12.729Z"
   },
   {
    "duration": 37,
    "start_time": "2025-04-03T23:18:12.772Z"
   },
   {
    "duration": 6,
    "start_time": "2025-04-03T23:18:12.811Z"
   },
   {
    "duration": 6,
    "start_time": "2025-04-03T23:18:12.819Z"
   },
   {
    "duration": 22,
    "start_time": "2025-04-03T23:18:12.827Z"
   },
   {
    "duration": 16,
    "start_time": "2025-04-03T23:18:12.851Z"
   },
   {
    "duration": 10,
    "start_time": "2025-04-03T23:18:12.869Z"
   },
   {
    "duration": 18,
    "start_time": "2025-04-03T23:18:12.911Z"
   },
   {
    "duration": 9,
    "start_time": "2025-04-03T23:18:12.931Z"
   },
   {
    "duration": 15,
    "start_time": "2025-04-03T23:18:12.942Z"
   },
   {
    "duration": 505,
    "start_time": "2025-04-03T23:18:12.959Z"
   },
   {
    "duration": 0,
    "start_time": "2025-04-03T23:18:13.466Z"
   },
   {
    "duration": 0,
    "start_time": "2025-04-03T23:18:13.467Z"
   },
   {
    "duration": 0,
    "start_time": "2025-04-03T23:18:13.468Z"
   },
   {
    "duration": 0,
    "start_time": "2025-04-03T23:18:13.469Z"
   },
   {
    "duration": 0,
    "start_time": "2025-04-03T23:18:13.471Z"
   },
   {
    "duration": 0,
    "start_time": "2025-04-03T23:18:13.473Z"
   },
   {
    "duration": 0,
    "start_time": "2025-04-03T23:18:13.474Z"
   },
   {
    "duration": 0,
    "start_time": "2025-04-03T23:18:13.475Z"
   },
   {
    "duration": 0,
    "start_time": "2025-04-03T23:18:13.476Z"
   },
   {
    "duration": 0,
    "start_time": "2025-04-03T23:18:13.477Z"
   },
   {
    "duration": 0,
    "start_time": "2025-04-03T23:18:13.478Z"
   },
   {
    "duration": 679,
    "start_time": "2025-04-03T23:20:04.365Z"
   },
   {
    "duration": 603,
    "start_time": "2025-04-03T23:20:41.297Z"
   },
   {
    "duration": 212,
    "start_time": "2025-04-03T23:20:41.902Z"
   },
   {
    "duration": 10,
    "start_time": "2025-04-03T23:20:42.116Z"
   },
   {
    "duration": 17,
    "start_time": "2025-04-03T23:20:42.128Z"
   },
   {
    "duration": 12,
    "start_time": "2025-04-03T23:20:42.147Z"
   },
   {
    "duration": 8,
    "start_time": "2025-04-03T23:20:42.160Z"
   },
   {
    "duration": 10,
    "start_time": "2025-04-03T23:20:42.169Z"
   },
   {
    "duration": 37,
    "start_time": "2025-04-03T23:20:42.181Z"
   },
   {
    "duration": 7,
    "start_time": "2025-04-03T23:20:42.220Z"
   },
   {
    "duration": 3,
    "start_time": "2025-04-03T23:20:42.229Z"
   },
   {
    "duration": 3,
    "start_time": "2025-04-03T23:20:42.234Z"
   },
   {
    "duration": 5,
    "start_time": "2025-04-03T23:20:42.239Z"
   },
   {
    "duration": 12,
    "start_time": "2025-04-03T23:20:42.245Z"
   },
   {
    "duration": 75,
    "start_time": "2025-04-03T23:20:42.261Z"
   },
   {
    "duration": 13,
    "start_time": "2025-04-03T23:20:42.337Z"
   },
   {
    "duration": 6,
    "start_time": "2025-04-03T23:20:42.351Z"
   },
   {
    "duration": 16,
    "start_time": "2025-04-03T23:20:42.358Z"
   },
   {
    "duration": 37,
    "start_time": "2025-04-03T23:20:42.375Z"
   },
   {
    "duration": 9,
    "start_time": "2025-04-03T23:20:42.413Z"
   },
   {
    "duration": 13,
    "start_time": "2025-04-03T23:20:42.424Z"
   },
   {
    "duration": 40,
    "start_time": "2025-04-03T23:20:42.438Z"
   },
   {
    "duration": 35,
    "start_time": "2025-04-03T23:20:42.479Z"
   },
   {
    "duration": 7,
    "start_time": "2025-04-03T23:20:42.516Z"
   },
   {
    "duration": 7,
    "start_time": "2025-04-03T23:20:42.525Z"
   },
   {
    "duration": 24,
    "start_time": "2025-04-03T23:20:42.533Z"
   },
   {
    "duration": 16,
    "start_time": "2025-04-03T23:20:42.558Z"
   },
   {
    "duration": 38,
    "start_time": "2025-04-03T23:20:42.576Z"
   },
   {
    "duration": 19,
    "start_time": "2025-04-03T23:20:42.615Z"
   },
   {
    "duration": 10,
    "start_time": "2025-04-03T23:20:42.635Z"
   },
   {
    "duration": 15,
    "start_time": "2025-04-03T23:20:42.647Z"
   },
   {
    "duration": 735,
    "start_time": "2025-04-03T23:20:42.663Z"
   },
   {
    "duration": 9,
    "start_time": "2025-04-03T23:20:43.400Z"
   },
   {
    "duration": 3,
    "start_time": "2025-04-03T23:20:43.411Z"
   },
   {
    "duration": 3,
    "start_time": "2025-04-03T23:20:43.415Z"
   },
   {
    "duration": 3,
    "start_time": "2025-04-03T23:20:43.419Z"
   },
   {
    "duration": 2,
    "start_time": "2025-04-03T23:20:43.424Z"
   },
   {
    "duration": 3,
    "start_time": "2025-04-03T23:20:43.428Z"
   },
   {
    "duration": 3,
    "start_time": "2025-04-03T23:20:43.432Z"
   },
   {
    "duration": 3,
    "start_time": "2025-04-03T23:20:43.437Z"
   },
   {
    "duration": 4,
    "start_time": "2025-04-03T23:20:43.441Z"
   },
   {
    "duration": 2,
    "start_time": "2025-04-03T23:20:43.448Z"
   },
   {
    "duration": 4,
    "start_time": "2025-04-03T23:20:43.451Z"
   },
   {
    "duration": 769,
    "start_time": "2025-04-03T23:20:59.741Z"
   },
   {
    "duration": 750,
    "start_time": "2025-04-03T23:22:05.063Z"
   },
   {
    "duration": 169,
    "start_time": "2025-04-03T23:22:41.922Z"
   },
   {
    "duration": 669,
    "start_time": "2025-04-03T23:22:49.483Z"
   },
   {
    "duration": 224,
    "start_time": "2025-04-03T23:22:50.154Z"
   },
   {
    "duration": 11,
    "start_time": "2025-04-03T23:22:50.380Z"
   },
   {
    "duration": 20,
    "start_time": "2025-04-03T23:22:50.393Z"
   },
   {
    "duration": 14,
    "start_time": "2025-04-03T23:22:50.416Z"
   },
   {
    "duration": 9,
    "start_time": "2025-04-03T23:22:50.432Z"
   },
   {
    "duration": 13,
    "start_time": "2025-04-03T23:22:50.444Z"
   },
   {
    "duration": 15,
    "start_time": "2025-04-03T23:22:50.459Z"
   },
   {
    "duration": 32,
    "start_time": "2025-04-03T23:22:50.476Z"
   },
   {
    "duration": 4,
    "start_time": "2025-04-03T23:22:50.511Z"
   },
   {
    "duration": 4,
    "start_time": "2025-04-03T23:22:50.516Z"
   },
   {
    "duration": 5,
    "start_time": "2025-04-03T23:22:50.522Z"
   },
   {
    "duration": 13,
    "start_time": "2025-04-03T23:22:50.528Z"
   },
   {
    "duration": 86,
    "start_time": "2025-04-03T23:22:50.546Z"
   },
   {
    "duration": 15,
    "start_time": "2025-04-03T23:22:50.633Z"
   },
   {
    "duration": 7,
    "start_time": "2025-04-03T23:22:50.650Z"
   },
   {
    "duration": 24,
    "start_time": "2025-04-03T23:22:50.658Z"
   },
   {
    "duration": 31,
    "start_time": "2025-04-03T23:22:50.686Z"
   },
   {
    "duration": 9,
    "start_time": "2025-04-03T23:22:50.719Z"
   },
   {
    "duration": 16,
    "start_time": "2025-04-03T23:22:50.730Z"
   },
   {
    "duration": 78,
    "start_time": "2025-04-03T23:22:50.748Z"
   },
   {
    "duration": 18,
    "start_time": "2025-04-03T23:22:50.828Z"
   },
   {
    "duration": 10,
    "start_time": "2025-04-03T23:22:50.849Z"
   },
   {
    "duration": 8,
    "start_time": "2025-04-03T23:22:50.862Z"
   },
   {
    "duration": 47,
    "start_time": "2025-04-03T23:22:50.872Z"
   },
   {
    "duration": 22,
    "start_time": "2025-04-03T23:22:50.920Z"
   },
   {
    "duration": 12,
    "start_time": "2025-04-03T23:22:50.943Z"
   },
   {
    "duration": 24,
    "start_time": "2025-04-03T23:22:50.957Z"
   },
   {
    "duration": 35,
    "start_time": "2025-04-03T23:22:50.983Z"
   },
   {
    "duration": 23,
    "start_time": "2025-04-03T23:22:51.019Z"
   },
   {
    "duration": 732,
    "start_time": "2025-04-03T23:22:51.044Z"
   },
   {
    "duration": 238,
    "start_time": "2025-04-03T23:22:59.017Z"
   },
   {
    "duration": 15,
    "start_time": "2025-04-03T23:23:06.541Z"
   },
   {
    "duration": 13,
    "start_time": "2025-04-03T23:23:09.240Z"
   },
   {
    "duration": 720,
    "start_time": "2025-04-03T23:23:14.521Z"
   },
   {
    "duration": 234,
    "start_time": "2025-04-03T23:23:15.245Z"
   },
   {
    "duration": 11,
    "start_time": "2025-04-03T23:23:15.481Z"
   },
   {
    "duration": 19,
    "start_time": "2025-04-03T23:23:15.495Z"
   },
   {
    "duration": 13,
    "start_time": "2025-04-03T23:23:15.517Z"
   },
   {
    "duration": 9,
    "start_time": "2025-04-03T23:23:15.533Z"
   },
   {
    "duration": 11,
    "start_time": "2025-04-03T23:23:15.544Z"
   },
   {
    "duration": 11,
    "start_time": "2025-04-03T23:23:15.557Z"
   },
   {
    "duration": 40,
    "start_time": "2025-04-03T23:23:15.570Z"
   },
   {
    "duration": 4,
    "start_time": "2025-04-03T23:23:15.613Z"
   },
   {
    "duration": 5,
    "start_time": "2025-04-03T23:23:15.618Z"
   },
   {
    "duration": 5,
    "start_time": "2025-04-03T23:23:15.626Z"
   },
   {
    "duration": 13,
    "start_time": "2025-04-03T23:23:15.634Z"
   },
   {
    "duration": 68,
    "start_time": "2025-04-03T23:23:15.650Z"
   },
   {
    "duration": 13,
    "start_time": "2025-04-03T23:23:15.720Z"
   },
   {
    "duration": 6,
    "start_time": "2025-04-03T23:23:15.735Z"
   },
   {
    "duration": 19,
    "start_time": "2025-04-03T23:23:15.743Z"
   },
   {
    "duration": 14,
    "start_time": "2025-04-03T23:23:15.764Z"
   },
   {
    "duration": 37,
    "start_time": "2025-04-03T23:23:15.779Z"
   },
   {
    "duration": 15,
    "start_time": "2025-04-03T23:23:15.817Z"
   },
   {
    "duration": 42,
    "start_time": "2025-04-03T23:23:15.834Z"
   },
   {
    "duration": 43,
    "start_time": "2025-04-03T23:23:15.878Z"
   },
   {
    "duration": 7,
    "start_time": "2025-04-03T23:23:15.925Z"
   },
   {
    "duration": 8,
    "start_time": "2025-04-03T23:23:15.934Z"
   },
   {
    "duration": 30,
    "start_time": "2025-04-03T23:23:15.944Z"
   },
   {
    "duration": 46,
    "start_time": "2025-04-03T23:23:15.976Z"
   },
   {
    "duration": 18,
    "start_time": "2025-04-03T23:23:16.024Z"
   },
   {
    "duration": 25,
    "start_time": "2025-04-03T23:23:16.045Z"
   },
   {
    "duration": 16,
    "start_time": "2025-04-03T23:23:16.071Z"
   },
   {
    "duration": 33,
    "start_time": "2025-04-03T23:23:16.089Z"
   },
   {
    "duration": 837,
    "start_time": "2025-04-03T23:23:16.124Z"
   },
   {
    "duration": 12,
    "start_time": "2025-04-03T23:23:16.963Z"
   },
   {
    "duration": 3,
    "start_time": "2025-04-03T23:23:16.978Z"
   },
   {
    "duration": 10,
    "start_time": "2025-04-03T23:23:16.982Z"
   },
   {
    "duration": 16,
    "start_time": "2025-04-03T23:23:16.993Z"
   },
   {
    "duration": 5,
    "start_time": "2025-04-03T23:23:17.015Z"
   },
   {
    "duration": 5,
    "start_time": "2025-04-03T23:23:17.022Z"
   },
   {
    "duration": 4,
    "start_time": "2025-04-03T23:23:17.029Z"
   },
   {
    "duration": 3,
    "start_time": "2025-04-03T23:23:17.036Z"
   },
   {
    "duration": 4,
    "start_time": "2025-04-03T23:23:17.041Z"
   },
   {
    "duration": 3,
    "start_time": "2025-04-03T23:23:17.054Z"
   },
   {
    "duration": 3,
    "start_time": "2025-04-03T23:23:17.061Z"
   },
   {
    "duration": 6,
    "start_time": "2025-04-03T23:31:25.659Z"
   },
   {
    "duration": 1486,
    "start_time": "2025-04-03T23:31:49.913Z"
   },
   {
    "duration": 156,
    "start_time": "2025-04-03T23:34:05.223Z"
   },
   {
    "duration": 616,
    "start_time": "2025-04-03T23:34:16.259Z"
   },
   {
    "duration": 222,
    "start_time": "2025-04-03T23:34:16.877Z"
   },
   {
    "duration": 10,
    "start_time": "2025-04-03T23:34:17.100Z"
   },
   {
    "duration": 18,
    "start_time": "2025-04-03T23:34:17.112Z"
   },
   {
    "duration": 12,
    "start_time": "2025-04-03T23:34:17.132Z"
   },
   {
    "duration": 8,
    "start_time": "2025-04-03T23:34:17.145Z"
   },
   {
    "duration": 10,
    "start_time": "2025-04-03T23:34:17.155Z"
   },
   {
    "duration": 42,
    "start_time": "2025-04-03T23:34:17.167Z"
   },
   {
    "duration": 7,
    "start_time": "2025-04-03T23:34:17.212Z"
   },
   {
    "duration": 10,
    "start_time": "2025-04-03T23:34:17.223Z"
   },
   {
    "duration": 3,
    "start_time": "2025-04-03T23:34:17.235Z"
   },
   {
    "duration": 7,
    "start_time": "2025-04-03T23:34:17.240Z"
   },
   {
    "duration": 15,
    "start_time": "2025-04-03T23:34:17.249Z"
   },
   {
    "duration": 70,
    "start_time": "2025-04-03T23:34:17.269Z"
   },
   {
    "duration": 13,
    "start_time": "2025-04-03T23:34:17.340Z"
   },
   {
    "duration": 8,
    "start_time": "2025-04-03T23:34:17.354Z"
   },
   {
    "duration": 19,
    "start_time": "2025-04-03T23:34:17.363Z"
   },
   {
    "duration": 32,
    "start_time": "2025-04-03T23:34:17.383Z"
   },
   {
    "duration": 10,
    "start_time": "2025-04-03T23:34:17.416Z"
   },
   {
    "duration": 13,
    "start_time": "2025-04-03T23:34:17.427Z"
   },
   {
    "duration": 40,
    "start_time": "2025-04-03T23:34:17.443Z"
   },
   {
    "duration": 33,
    "start_time": "2025-04-03T23:34:17.485Z"
   },
   {
    "duration": 7,
    "start_time": "2025-04-03T23:34:17.520Z"
   },
   {
    "duration": 7,
    "start_time": "2025-04-03T23:34:17.528Z"
   },
   {
    "duration": 22,
    "start_time": "2025-04-03T23:34:17.537Z"
   },
   {
    "duration": 16,
    "start_time": "2025-04-03T23:34:17.561Z"
   },
   {
    "duration": 38,
    "start_time": "2025-04-03T23:34:17.579Z"
   },
   {
    "duration": 18,
    "start_time": "2025-04-03T23:34:17.619Z"
   },
   {
    "duration": 11,
    "start_time": "2025-04-03T23:34:17.639Z"
   },
   {
    "duration": 15,
    "start_time": "2025-04-03T23:34:17.651Z"
   },
   {
    "duration": 409,
    "start_time": "2025-04-03T23:34:17.668Z"
   },
   {
    "duration": 8,
    "start_time": "2025-04-03T23:34:18.078Z"
   },
   {
    "duration": 3,
    "start_time": "2025-04-03T23:34:18.087Z"
   },
   {
    "duration": 2,
    "start_time": "2025-04-03T23:34:18.092Z"
   },
   {
    "duration": 2,
    "start_time": "2025-04-03T23:34:18.109Z"
   },
   {
    "duration": 3,
    "start_time": "2025-04-03T23:34:18.112Z"
   },
   {
    "duration": 3,
    "start_time": "2025-04-03T23:34:18.117Z"
   },
   {
    "duration": 3,
    "start_time": "2025-04-03T23:34:18.121Z"
   },
   {
    "duration": 3,
    "start_time": "2025-04-03T23:34:18.125Z"
   },
   {
    "duration": 3,
    "start_time": "2025-04-03T23:34:18.130Z"
   },
   {
    "duration": 2,
    "start_time": "2025-04-03T23:34:18.136Z"
   },
   {
    "duration": 2,
    "start_time": "2025-04-03T23:34:18.140Z"
   },
   {
    "duration": 11,
    "start_time": "2025-04-03T23:34:32.330Z"
   },
   {
    "duration": 14,
    "start_time": "2025-04-03T23:35:19.310Z"
   },
   {
    "duration": 7,
    "start_time": "2025-04-03T23:36:39.610Z"
   },
   {
    "duration": 3,
    "start_time": "2025-04-03T23:36:45.570Z"
   },
   {
    "duration": 111,
    "start_time": "2025-04-03T23:36:50.782Z"
   },
   {
    "duration": 4,
    "start_time": "2025-04-03T23:37:04.870Z"
   },
   {
    "duration": 4,
    "start_time": "2025-04-03T23:38:12.693Z"
   },
   {
    "duration": 9,
    "start_time": "2025-04-03T23:38:23.951Z"
   },
   {
    "duration": 27,
    "start_time": "2025-04-03T23:38:59.118Z"
   },
   {
    "duration": 145,
    "start_time": "2025-04-03T23:39:48.522Z"
   },
   {
    "duration": 27,
    "start_time": "2025-04-03T23:40:08.261Z"
   },
   {
    "duration": 37,
    "start_time": "2025-04-03T23:41:15.144Z"
   },
   {
    "duration": 6,
    "start_time": "2025-04-03T23:41:35.332Z"
   },
   {
    "duration": 13,
    "start_time": "2025-04-03T23:42:03.878Z"
   },
   {
    "duration": 13,
    "start_time": "2025-04-03T23:42:06.309Z"
   },
   {
    "duration": 7,
    "start_time": "2025-04-03T23:42:57.509Z"
   },
   {
    "duration": 14,
    "start_time": "2025-04-03T23:44:40.419Z"
   },
   {
    "duration": 47,
    "start_time": "2025-04-03T23:44:50.387Z"
   },
   {
    "duration": 601,
    "start_time": "2025-04-04T14:28:58.047Z"
   },
   {
    "duration": 210,
    "start_time": "2025-04-04T14:28:58.651Z"
   },
   {
    "duration": 10,
    "start_time": "2025-04-04T14:28:58.863Z"
   },
   {
    "duration": 17,
    "start_time": "2025-04-04T14:28:58.875Z"
   },
   {
    "duration": 12,
    "start_time": "2025-04-04T14:28:58.893Z"
   },
   {
    "duration": 8,
    "start_time": "2025-04-04T14:28:58.906Z"
   },
   {
    "duration": 28,
    "start_time": "2025-04-04T14:28:58.916Z"
   },
   {
    "duration": 23,
    "start_time": "2025-04-04T14:28:58.945Z"
   },
   {
    "duration": 12,
    "start_time": "2025-04-04T14:28:58.969Z"
   },
   {
    "duration": 4,
    "start_time": "2025-04-04T14:28:58.985Z"
   },
   {
    "duration": 3,
    "start_time": "2025-04-04T14:28:58.991Z"
   },
   {
    "duration": 5,
    "start_time": "2025-04-04T14:28:58.996Z"
   },
   {
    "duration": 13,
    "start_time": "2025-04-04T14:28:59.003Z"
   },
   {
    "duration": 69,
    "start_time": "2025-04-04T14:28:59.017Z"
   },
   {
    "duration": 12,
    "start_time": "2025-04-04T14:28:59.088Z"
   },
   {
    "duration": 6,
    "start_time": "2025-04-04T14:28:59.101Z"
   },
   {
    "duration": 38,
    "start_time": "2025-04-04T14:28:59.109Z"
   },
   {
    "duration": 11,
    "start_time": "2025-04-04T14:28:59.149Z"
   },
   {
    "duration": 9,
    "start_time": "2025-04-04T14:28:59.162Z"
   },
   {
    "duration": 14,
    "start_time": "2025-04-04T14:28:59.172Z"
   },
   {
    "duration": 70,
    "start_time": "2025-04-04T14:28:59.187Z"
   },
   {
    "duration": 14,
    "start_time": "2025-04-04T14:28:59.259Z"
   },
   {
    "duration": 6,
    "start_time": "2025-04-04T14:28:59.275Z"
   },
   {
    "duration": 8,
    "start_time": "2025-04-04T14:28:59.283Z"
   },
   {
    "duration": 27,
    "start_time": "2025-04-04T14:28:59.293Z"
   },
   {
    "duration": 19,
    "start_time": "2025-04-04T14:28:59.344Z"
   },
   {
    "duration": 10,
    "start_time": "2025-04-04T14:28:59.364Z"
   },
   {
    "duration": 19,
    "start_time": "2025-04-04T14:28:59.379Z"
   },
   {
    "duration": 12,
    "start_time": "2025-04-04T14:28:59.399Z"
   },
   {
    "duration": 47,
    "start_time": "2025-04-04T14:28:59.412Z"
   },
   {
    "duration": 385,
    "start_time": "2025-04-04T14:28:59.460Z"
   },
   {
    "duration": 8,
    "start_time": "2025-04-04T14:28:59.847Z"
   },
   {
    "duration": 3,
    "start_time": "2025-04-04T14:28:59.857Z"
   },
   {
    "duration": 2,
    "start_time": "2025-04-04T14:28:59.862Z"
   },
   {
    "duration": 47,
    "start_time": "2025-04-04T14:28:59.866Z"
   },
   {
    "duration": 267,
    "start_time": "2025-04-04T14:28:59.916Z"
   },
   {
    "duration": 0,
    "start_time": "2025-04-04T14:29:00.185Z"
   },
   {
    "duration": 0,
    "start_time": "2025-04-04T14:29:00.186Z"
   },
   {
    "duration": 0,
    "start_time": "2025-04-04T14:29:00.187Z"
   },
   {
    "duration": 0,
    "start_time": "2025-04-04T14:29:00.188Z"
   },
   {
    "duration": 0,
    "start_time": "2025-04-04T14:29:00.190Z"
   },
   {
    "duration": 0,
    "start_time": "2025-04-04T14:29:00.191Z"
   },
   {
    "duration": 34,
    "start_time": "2025-04-04T14:31:13.810Z"
   },
   {
    "duration": 2,
    "start_time": "2025-04-04T14:31:17.245Z"
   },
   {
    "duration": 46,
    "start_time": "2025-04-04T14:31:29.771Z"
   },
   {
    "duration": 38,
    "start_time": "2025-04-04T14:31:38.612Z"
   },
   {
    "duration": 40,
    "start_time": "2025-04-04T14:31:44.435Z"
   },
   {
    "duration": 5,
    "start_time": "2025-04-04T14:34:54.228Z"
   },
   {
    "duration": 42,
    "start_time": "2025-04-04T14:35:10.419Z"
   },
   {
    "duration": 23,
    "start_time": "2025-04-04T14:40:30.462Z"
   },
   {
    "duration": 37,
    "start_time": "2025-04-04T14:41:17.069Z"
   },
   {
    "duration": 30,
    "start_time": "2025-04-04T14:41:48.773Z"
   },
   {
    "duration": 32,
    "start_time": "2025-04-04T14:41:54.547Z"
   },
   {
    "duration": 32,
    "start_time": "2025-04-04T14:42:00.778Z"
   },
   {
    "duration": 46,
    "start_time": "2025-04-04T14:42:42.413Z"
   },
   {
    "duration": 63,
    "start_time": "2025-04-04T14:45:20.104Z"
   },
   {
    "duration": 1954,
    "start_time": "2025-04-04T14:45:27.142Z"
   },
   {
    "duration": 1023,
    "start_time": "2025-04-04T14:45:33.596Z"
   },
   {
    "duration": 157,
    "start_time": "2025-04-06T23:06:44.011Z"
   },
   {
    "duration": 2467,
    "start_time": "2025-04-06T23:06:52.979Z"
   },
   {
    "duration": 207,
    "start_time": "2025-04-06T23:06:55.448Z"
   },
   {
    "duration": 9,
    "start_time": "2025-04-06T23:06:55.656Z"
   },
   {
    "duration": 17,
    "start_time": "2025-04-06T23:06:55.668Z"
   },
   {
    "duration": 12,
    "start_time": "2025-04-06T23:06:55.686Z"
   },
   {
    "duration": 13,
    "start_time": "2025-04-06T23:06:55.699Z"
   },
   {
    "duration": 9,
    "start_time": "2025-04-06T23:06:55.713Z"
   },
   {
    "duration": 12,
    "start_time": "2025-04-06T23:06:55.723Z"
   },
   {
    "duration": 8,
    "start_time": "2025-04-06T23:06:55.736Z"
   },
   {
    "duration": 3,
    "start_time": "2025-04-06T23:06:55.747Z"
   },
   {
    "duration": 4,
    "start_time": "2025-04-06T23:06:55.751Z"
   },
   {
    "duration": 5,
    "start_time": "2025-04-06T23:06:55.757Z"
   },
   {
    "duration": 53,
    "start_time": "2025-04-06T23:06:55.763Z"
   },
   {
    "duration": 44,
    "start_time": "2025-04-06T23:06:55.818Z"
   },
   {
    "duration": 12,
    "start_time": "2025-04-06T23:06:55.863Z"
   },
   {
    "duration": 7,
    "start_time": "2025-04-06T23:06:55.876Z"
   },
   {
    "duration": 37,
    "start_time": "2025-04-06T23:06:55.884Z"
   },
   {
    "duration": 12,
    "start_time": "2025-04-06T23:06:55.922Z"
   },
   {
    "duration": 9,
    "start_time": "2025-04-06T23:06:55.936Z"
   },
   {
    "duration": 13,
    "start_time": "2025-04-06T23:06:55.947Z"
   },
   {
    "duration": 69,
    "start_time": "2025-04-06T23:06:55.962Z"
   },
   {
    "duration": 13,
    "start_time": "2025-04-06T23:06:56.033Z"
   },
   {
    "duration": 7,
    "start_time": "2025-04-06T23:06:56.048Z"
   },
   {
    "duration": 7,
    "start_time": "2025-04-06T23:06:56.057Z"
   },
   {
    "duration": 47,
    "start_time": "2025-04-06T23:06:56.066Z"
   },
   {
    "duration": 16,
    "start_time": "2025-04-06T23:06:56.114Z"
   },
   {
    "duration": 10,
    "start_time": "2025-04-06T23:06:56.132Z"
   },
   {
    "duration": 18,
    "start_time": "2025-04-06T23:06:56.145Z"
   },
   {
    "duration": 13,
    "start_time": "2025-04-06T23:06:56.165Z"
   },
   {
    "duration": 45,
    "start_time": "2025-04-06T23:06:56.179Z"
   },
   {
    "duration": 384,
    "start_time": "2025-04-06T23:06:56.225Z"
   },
   {
    "duration": 8,
    "start_time": "2025-04-06T23:06:56.610Z"
   },
   {
    "duration": 5,
    "start_time": "2025-04-06T23:06:56.621Z"
   },
   {
    "duration": 2,
    "start_time": "2025-04-06T23:06:56.630Z"
   },
   {
    "duration": 43,
    "start_time": "2025-04-06T23:06:56.633Z"
   },
   {
    "duration": 78,
    "start_time": "2025-04-06T23:06:56.678Z"
   },
   {
    "duration": 2,
    "start_time": "2025-04-06T23:06:56.758Z"
   },
   {
    "duration": 3,
    "start_time": "2025-04-06T23:06:56.762Z"
   },
   {
    "duration": 3,
    "start_time": "2025-04-06T23:06:56.766Z"
   },
   {
    "duration": 2,
    "start_time": "2025-04-06T23:06:56.771Z"
   },
   {
    "duration": 3,
    "start_time": "2025-04-06T23:06:56.775Z"
   },
   {
    "duration": 31,
    "start_time": "2025-04-06T23:06:56.779Z"
   },
   {
    "duration": 488,
    "start_time": "2025-04-06T23:13:05.003Z"
   },
   {
    "duration": 50,
    "start_time": "2025-04-06T23:13:14.889Z"
   },
   {
    "duration": 61,
    "start_time": "2025-04-06T23:15:50.542Z"
   },
   {
    "duration": 54,
    "start_time": "2025-04-06T23:18:44.476Z"
   },
   {
    "duration": 59,
    "start_time": "2025-04-06T23:23:17.914Z"
   },
   {
    "duration": 59,
    "start_time": "2025-04-06T23:23:32.416Z"
   },
   {
    "duration": 697,
    "start_time": "2025-04-06T23:23:40.061Z"
   },
   {
    "duration": 160,
    "start_time": "2025-04-06T23:24:17.034Z"
   },
   {
    "duration": 177,
    "start_time": "2025-04-06T23:25:08.621Z"
   },
   {
    "duration": 273,
    "start_time": "2025-04-06T23:25:17.909Z"
   },
   {
    "duration": 309,
    "start_time": "2025-04-06T23:25:59.893Z"
   },
   {
    "duration": 62,
    "start_time": "2025-04-06T23:33:35.219Z"
   },
   {
    "duration": 61,
    "start_time": "2025-04-06T23:33:54.287Z"
   },
   {
    "duration": 188,
    "start_time": "2025-04-06T23:34:18.888Z"
   },
   {
    "duration": 177,
    "start_time": "2025-04-06T23:34:52.341Z"
   },
   {
    "duration": 178,
    "start_time": "2025-04-06T23:35:00.291Z"
   },
   {
    "duration": 179,
    "start_time": "2025-04-06T23:35:04.149Z"
   },
   {
    "duration": 181,
    "start_time": "2025-04-06T23:35:13.503Z"
   },
   {
    "duration": 5,
    "start_time": "2025-04-07T00:03:25.871Z"
   },
   {
    "duration": 203,
    "start_time": "2025-04-07T00:06:16.633Z"
   },
   {
    "duration": 40,
    "start_time": "2025-04-07T00:06:21.052Z"
   },
   {
    "duration": 3,
    "start_time": "2025-04-07T00:06:31.880Z"
   },
   {
    "duration": 14,
    "start_time": "2025-04-07T00:08:00.372Z"
   },
   {
    "duration": 5,
    "start_time": "2025-04-07T00:08:04.316Z"
   },
   {
    "duration": 14,
    "start_time": "2025-04-07T00:08:06.554Z"
   },
   {
    "duration": 3,
    "start_time": "2025-04-07T00:08:10.105Z"
   },
   {
    "duration": 4,
    "start_time": "2025-04-07T00:08:13.332Z"
   },
   {
    "duration": 3,
    "start_time": "2025-04-07T00:08:23.063Z"
   },
   {
    "duration": 3,
    "start_time": "2025-04-07T00:09:03.665Z"
   },
   {
    "duration": 4,
    "start_time": "2025-04-07T00:16:06.705Z"
   },
   {
    "duration": 15,
    "start_time": "2025-04-07T00:17:04.591Z"
   },
   {
    "duration": 4,
    "start_time": "2025-04-07T00:17:23.716Z"
   },
   {
    "duration": 5,
    "start_time": "2025-04-07T00:19:42.666Z"
   },
   {
    "duration": 68,
    "start_time": "2025-04-07T00:45:56.505Z"
   },
   {
    "duration": 88,
    "start_time": "2025-04-07T00:47:24.944Z"
   },
   {
    "duration": 158,
    "start_time": "2025-04-07T00:47:49.653Z"
   },
   {
    "duration": 376,
    "start_time": "2025-04-07T00:48:33.250Z"
   },
   {
    "duration": 5,
    "start_time": "2025-04-07T00:49:12.107Z"
   },
   {
    "duration": 155,
    "start_time": "2025-04-07T00:49:16.986Z"
   },
   {
    "duration": 165,
    "start_time": "2025-04-07T00:52:29.523Z"
   },
   {
    "duration": 87,
    "start_time": "2025-04-07T00:55:56.384Z"
   },
   {
    "duration": 155,
    "start_time": "2025-04-07T00:58:44.612Z"
   },
   {
    "duration": 0,
    "start_time": "2025-04-07T00:58:51.879Z"
   },
   {
    "duration": 0,
    "start_time": "2025-04-07T00:58:51.880Z"
   },
   {
    "duration": 0,
    "start_time": "2025-04-07T00:58:51.882Z"
   },
   {
    "duration": 0,
    "start_time": "2025-04-07T00:58:51.883Z"
   },
   {
    "duration": 0,
    "start_time": "2025-04-07T00:58:51.884Z"
   },
   {
    "duration": 0,
    "start_time": "2025-04-07T00:58:51.886Z"
   },
   {
    "duration": 0,
    "start_time": "2025-04-07T00:58:51.887Z"
   },
   {
    "duration": 0,
    "start_time": "2025-04-07T00:58:51.889Z"
   },
   {
    "duration": 0,
    "start_time": "2025-04-07T00:58:51.908Z"
   },
   {
    "duration": 0,
    "start_time": "2025-04-07T00:58:51.910Z"
   },
   {
    "duration": 0,
    "start_time": "2025-04-07T00:58:51.911Z"
   },
   {
    "duration": 0,
    "start_time": "2025-04-07T00:58:51.912Z"
   },
   {
    "duration": 0,
    "start_time": "2025-04-07T00:58:51.914Z"
   },
   {
    "duration": 0,
    "start_time": "2025-04-07T00:58:51.916Z"
   },
   {
    "duration": 0,
    "start_time": "2025-04-07T00:58:51.917Z"
   },
   {
    "duration": 0,
    "start_time": "2025-04-07T00:58:51.919Z"
   },
   {
    "duration": 18,
    "start_time": "2025-04-07T00:58:51.922Z"
   },
   {
    "duration": 0,
    "start_time": "2025-04-07T00:58:51.941Z"
   },
   {
    "duration": 0,
    "start_time": "2025-04-07T00:58:51.943Z"
   },
   {
    "duration": 0,
    "start_time": "2025-04-07T00:58:51.944Z"
   },
   {
    "duration": 0,
    "start_time": "2025-04-07T00:58:51.945Z"
   },
   {
    "duration": 0,
    "start_time": "2025-04-07T00:58:51.946Z"
   },
   {
    "duration": 0,
    "start_time": "2025-04-07T00:58:51.947Z"
   },
   {
    "duration": 0,
    "start_time": "2025-04-07T00:58:51.948Z"
   },
   {
    "duration": 0,
    "start_time": "2025-04-07T00:58:51.950Z"
   },
   {
    "duration": 0,
    "start_time": "2025-04-07T00:58:51.951Z"
   },
   {
    "duration": 0,
    "start_time": "2025-04-07T00:58:51.952Z"
   },
   {
    "duration": 0,
    "start_time": "2025-04-07T00:58:52.010Z"
   },
   {
    "duration": 0,
    "start_time": "2025-04-07T00:58:52.012Z"
   },
   {
    "duration": 16,
    "start_time": "2025-04-07T00:58:52.015Z"
   },
   {
    "duration": 0,
    "start_time": "2025-04-07T00:58:52.033Z"
   },
   {
    "duration": 0,
    "start_time": "2025-04-07T00:58:52.034Z"
   },
   {
    "duration": 0,
    "start_time": "2025-04-07T00:58:52.036Z"
   },
   {
    "duration": 0,
    "start_time": "2025-04-07T00:58:52.036Z"
   },
   {
    "duration": 0,
    "start_time": "2025-04-07T00:58:52.038Z"
   },
   {
    "duration": 0,
    "start_time": "2025-04-07T00:58:52.038Z"
   },
   {
    "duration": 0,
    "start_time": "2025-04-07T00:58:52.040Z"
   },
   {
    "duration": 0,
    "start_time": "2025-04-07T00:58:52.041Z"
   },
   {
    "duration": 0,
    "start_time": "2025-04-07T00:58:52.042Z"
   },
   {
    "duration": 1,
    "start_time": "2025-04-07T00:58:52.043Z"
   },
   {
    "duration": 0,
    "start_time": "2025-04-07T00:58:52.045Z"
   },
   {
    "duration": 0,
    "start_time": "2025-04-07T00:58:52.047Z"
   },
   {
    "duration": 14,
    "start_time": "2025-04-07T00:58:55.481Z"
   },
   {
    "duration": 875,
    "start_time": "2025-04-07T00:59:03.148Z"
   },
   {
    "duration": 211,
    "start_time": "2025-04-07T00:59:04.026Z"
   },
   {
    "duration": 12,
    "start_time": "2025-04-07T00:59:04.239Z"
   },
   {
    "duration": 22,
    "start_time": "2025-04-07T00:59:04.253Z"
   },
   {
    "duration": 12,
    "start_time": "2025-04-07T00:59:04.277Z"
   },
   {
    "duration": 8,
    "start_time": "2025-04-07T00:59:04.292Z"
   },
   {
    "duration": 10,
    "start_time": "2025-04-07T00:59:04.309Z"
   },
   {
    "duration": 11,
    "start_time": "2025-04-07T00:59:04.321Z"
   },
   {
    "duration": 8,
    "start_time": "2025-04-07T00:59:04.334Z"
   },
   {
    "duration": 3,
    "start_time": "2025-04-07T00:59:04.345Z"
   },
   {
    "duration": 4,
    "start_time": "2025-04-07T00:59:04.350Z"
   },
   {
    "duration": 6,
    "start_time": "2025-04-07T00:59:04.355Z"
   },
   {
    "duration": 47,
    "start_time": "2025-04-07T00:59:04.362Z"
   },
   {
    "duration": 63,
    "start_time": "2025-04-07T00:59:04.411Z"
   },
   {
    "duration": 13,
    "start_time": "2025-04-07T00:59:04.476Z"
   },
   {
    "duration": 23,
    "start_time": "2025-04-07T00:59:04.491Z"
   },
   {
    "duration": 16,
    "start_time": "2025-04-07T00:59:04.516Z"
   },
   {
    "duration": 11,
    "start_time": "2025-04-07T00:59:04.534Z"
   },
   {
    "duration": 8,
    "start_time": "2025-04-07T00:59:04.547Z"
   },
   {
    "duration": 13,
    "start_time": "2025-04-07T00:59:04.557Z"
   },
   {
    "duration": 88,
    "start_time": "2025-04-07T00:59:04.571Z"
   },
   {
    "duration": 21,
    "start_time": "2025-04-07T00:59:04.661Z"
   },
   {
    "duration": 8,
    "start_time": "2025-04-07T00:59:04.683Z"
   },
   {
    "duration": 25,
    "start_time": "2025-04-07T00:59:04.692Z"
   },
   {
    "duration": 30,
    "start_time": "2025-04-07T00:59:04.719Z"
   },
   {
    "duration": 22,
    "start_time": "2025-04-07T00:59:04.751Z"
   },
   {
    "duration": 12,
    "start_time": "2025-04-07T00:59:04.775Z"
   },
   {
    "duration": 22,
    "start_time": "2025-04-07T00:59:04.812Z"
   },
   {
    "duration": 13,
    "start_time": "2025-04-07T00:59:04.836Z"
   },
   {
    "duration": 22,
    "start_time": "2025-04-07T00:59:04.851Z"
   },
   {
    "duration": 404,
    "start_time": "2025-04-07T00:59:04.877Z"
   },
   {
    "duration": 8,
    "start_time": "2025-04-07T00:59:05.283Z"
   },
   {
    "duration": 2,
    "start_time": "2025-04-07T00:59:05.293Z"
   },
   {
    "duration": 4,
    "start_time": "2025-04-07T00:59:05.309Z"
   },
   {
    "duration": 39,
    "start_time": "2025-04-07T00:59:05.314Z"
   },
   {
    "duration": 249,
    "start_time": "2025-04-07T00:59:05.355Z"
   },
   {
    "duration": 6,
    "start_time": "2025-04-07T00:59:05.608Z"
   },
   {
    "duration": 253,
    "start_time": "2025-04-07T00:59:05.616Z"
   },
   {
    "duration": 3,
    "start_time": "2025-04-07T00:59:05.871Z"
   },
   {
    "duration": 2,
    "start_time": "2025-04-07T00:59:05.876Z"
   },
   {
    "duration": 2,
    "start_time": "2025-04-07T00:59:05.880Z"
   },
   {
    "duration": 3,
    "start_time": "2025-04-07T00:59:05.883Z"
   },
   {
    "duration": 171,
    "start_time": "2025-04-07T00:59:41.707Z"
   },
   {
    "duration": 171,
    "start_time": "2025-04-07T02:47:05.580Z"
   },
   {
    "duration": 2702,
    "start_time": "2025-04-07T02:49:18.510Z"
   },
   {
    "duration": 261,
    "start_time": "2025-04-07T02:49:21.214Z"
   },
   {
    "duration": 10,
    "start_time": "2025-04-07T02:49:21.477Z"
   },
   {
    "duration": 27,
    "start_time": "2025-04-07T02:49:21.489Z"
   },
   {
    "duration": 16,
    "start_time": "2025-04-07T02:49:21.518Z"
   },
   {
    "duration": 11,
    "start_time": "2025-04-07T02:49:21.536Z"
   },
   {
    "duration": 12,
    "start_time": "2025-04-07T02:49:21.549Z"
   },
   {
    "duration": 15,
    "start_time": "2025-04-07T02:49:21.563Z"
   },
   {
    "duration": 31,
    "start_time": "2025-04-07T02:49:21.580Z"
   },
   {
    "duration": 3,
    "start_time": "2025-04-07T02:49:21.614Z"
   },
   {
    "duration": 3,
    "start_time": "2025-04-07T02:49:21.619Z"
   },
   {
    "duration": 5,
    "start_time": "2025-04-07T02:49:21.623Z"
   },
   {
    "duration": 11,
    "start_time": "2025-04-07T02:49:21.630Z"
   },
   {
    "duration": 92,
    "start_time": "2025-04-07T02:49:21.643Z"
   },
   {
    "duration": 14,
    "start_time": "2025-04-07T02:49:21.737Z"
   },
   {
    "duration": 5,
    "start_time": "2025-04-07T02:49:21.753Z"
   },
   {
    "duration": 17,
    "start_time": "2025-04-07T02:49:21.760Z"
   },
   {
    "duration": 35,
    "start_time": "2025-04-07T02:49:21.779Z"
   },
   {
    "duration": 11,
    "start_time": "2025-04-07T02:49:21.816Z"
   },
   {
    "duration": 13,
    "start_time": "2025-04-07T02:49:21.829Z"
   },
   {
    "duration": 62,
    "start_time": "2025-04-07T02:49:21.843Z"
   },
   {
    "duration": 15,
    "start_time": "2025-04-07T02:49:21.907Z"
   },
   {
    "duration": 8,
    "start_time": "2025-04-07T02:49:21.924Z"
   },
   {
    "duration": 8,
    "start_time": "2025-04-07T02:49:21.934Z"
   },
   {
    "duration": 35,
    "start_time": "2025-04-07T02:49:21.944Z"
   },
   {
    "duration": 44,
    "start_time": "2025-04-07T02:49:21.980Z"
   },
   {
    "duration": 15,
    "start_time": "2025-04-07T02:49:22.026Z"
   },
   {
    "duration": 25,
    "start_time": "2025-04-07T02:49:22.047Z"
   },
   {
    "duration": 33,
    "start_time": "2025-04-07T02:49:22.074Z"
   },
   {
    "duration": 18,
    "start_time": "2025-04-07T02:49:22.110Z"
   },
   {
    "duration": 389,
    "start_time": "2025-04-07T02:49:22.129Z"
   },
   {
    "duration": 8,
    "start_time": "2025-04-07T02:49:22.521Z"
   },
   {
    "duration": 3,
    "start_time": "2025-04-07T02:49:22.531Z"
   },
   {
    "duration": 3,
    "start_time": "2025-04-07T02:49:22.536Z"
   },
   {
    "duration": 65,
    "start_time": "2025-04-07T02:49:22.541Z"
   },
   {
    "duration": 274,
    "start_time": "2025-04-07T02:49:22.608Z"
   },
   {
    "duration": 6,
    "start_time": "2025-04-07T02:49:22.884Z"
   },
   {
    "duration": 185,
    "start_time": "2025-04-07T02:49:22.891Z"
   },
   {
    "duration": 11,
    "start_time": "2025-04-07T02:49:23.078Z"
   },
   {
    "duration": 0,
    "start_time": "2025-04-07T02:49:23.091Z"
   },
   {
    "duration": 0,
    "start_time": "2025-04-07T02:49:23.093Z"
   },
   {
    "duration": 0,
    "start_time": "2025-04-07T02:49:23.100Z"
   },
   {
    "duration": 0,
    "start_time": "2025-04-07T02:49:23.105Z"
   },
   {
    "duration": 8,
    "start_time": "2025-04-07T02:51:23.139Z"
   },
   {
    "duration": 11,
    "start_time": "2025-04-07T02:53:03.614Z"
   },
   {
    "duration": 3,
    "start_time": "2025-04-07T02:54:55.381Z"
   },
   {
    "duration": 169,
    "start_time": "2025-04-07T02:54:55.388Z"
   },
   {
    "duration": 10,
    "start_time": "2025-04-07T02:54:55.560Z"
   },
   {
    "duration": 17,
    "start_time": "2025-04-07T02:54:55.572Z"
   },
   {
    "duration": 12,
    "start_time": "2025-04-07T02:54:55.606Z"
   },
   {
    "duration": 62,
    "start_time": "2025-04-07T02:54:55.620Z"
   },
   {
    "duration": 8,
    "start_time": "2025-04-07T02:54:55.704Z"
   },
   {
    "duration": 16,
    "start_time": "2025-04-07T02:54:55.714Z"
   },
   {
    "duration": 8,
    "start_time": "2025-04-07T02:54:55.732Z"
   },
   {
    "duration": 3,
    "start_time": "2025-04-07T02:54:55.742Z"
   },
   {
    "duration": 4,
    "start_time": "2025-04-07T02:54:55.749Z"
   },
   {
    "duration": 6,
    "start_time": "2025-04-07T02:54:55.756Z"
   },
   {
    "duration": 43,
    "start_time": "2025-04-07T02:54:55.764Z"
   },
   {
    "duration": 43,
    "start_time": "2025-04-07T02:54:55.809Z"
   },
   {
    "duration": 13,
    "start_time": "2025-04-07T02:54:55.854Z"
   },
   {
    "duration": 7,
    "start_time": "2025-04-07T02:54:55.869Z"
   },
   {
    "duration": 38,
    "start_time": "2025-04-07T02:54:55.879Z"
   },
   {
    "duration": 14,
    "start_time": "2025-04-07T02:54:55.919Z"
   },
   {
    "duration": 15,
    "start_time": "2025-04-07T02:54:55.934Z"
   },
   {
    "duration": 19,
    "start_time": "2025-04-07T02:54:55.953Z"
   },
   {
    "duration": 62,
    "start_time": "2025-04-07T02:54:55.975Z"
   },
   {
    "duration": 15,
    "start_time": "2025-04-07T02:54:56.039Z"
   },
   {
    "duration": 7,
    "start_time": "2025-04-07T02:54:56.056Z"
   },
   {
    "duration": 8,
    "start_time": "2025-04-07T02:54:56.065Z"
   },
   {
    "duration": 50,
    "start_time": "2025-04-07T02:54:56.075Z"
   },
   {
    "duration": 17,
    "start_time": "2025-04-07T02:54:56.126Z"
   },
   {
    "duration": 12,
    "start_time": "2025-04-07T02:54:56.145Z"
   },
   {
    "duration": 19,
    "start_time": "2025-04-07T02:54:56.159Z"
   },
   {
    "duration": 33,
    "start_time": "2025-04-07T02:54:56.182Z"
   },
   {
    "duration": 19,
    "start_time": "2025-04-07T02:54:56.217Z"
   },
   {
    "duration": 451,
    "start_time": "2025-04-07T02:54:56.238Z"
   },
   {
    "duration": 16,
    "start_time": "2025-04-07T02:54:56.691Z"
   },
   {
    "duration": 4,
    "start_time": "2025-04-07T02:54:56.709Z"
   },
   {
    "duration": 3,
    "start_time": "2025-04-07T02:54:56.715Z"
   },
   {
    "duration": 54,
    "start_time": "2025-04-07T02:54:56.720Z"
   },
   {
    "duration": 224,
    "start_time": "2025-04-07T02:54:56.776Z"
   },
   {
    "duration": 6,
    "start_time": "2025-04-07T02:54:57.003Z"
   },
   {
    "duration": 199,
    "start_time": "2025-04-07T02:54:57.011Z"
   },
   {
    "duration": 196,
    "start_time": "2025-04-07T02:54:57.212Z"
   },
   {
    "duration": 3,
    "start_time": "2025-04-07T02:54:57.410Z"
   },
   {
    "duration": 4,
    "start_time": "2025-04-07T02:54:57.414Z"
   },
   {
    "duration": 4,
    "start_time": "2025-04-07T02:54:57.419Z"
   },
   {
    "duration": 11,
    "start_time": "2025-04-07T02:55:16.270Z"
   },
   {
    "duration": 33,
    "start_time": "2025-04-07T02:56:23.258Z"
   },
   {
    "duration": 20,
    "start_time": "2025-04-07T02:57:43.426Z"
   },
   {
    "duration": 33,
    "start_time": "2025-04-07T02:58:08.701Z"
   },
   {
    "duration": 36,
    "start_time": "2025-04-07T02:59:11.871Z"
   },
   {
    "duration": 42,
    "start_time": "2025-04-07T03:01:11.076Z"
   },
   {
    "duration": 37,
    "start_time": "2025-04-07T03:01:23.425Z"
   },
   {
    "duration": 38,
    "start_time": "2025-04-07T03:01:30.303Z"
   },
   {
    "duration": 45,
    "start_time": "2025-04-07T03:03:19.084Z"
   },
   {
    "duration": 244,
    "start_time": "2025-04-07T03:04:46.127Z"
   },
   {
    "duration": 49,
    "start_time": "2025-04-07T03:04:51.741Z"
   },
   {
    "duration": 40,
    "start_time": "2025-04-07T03:05:02.843Z"
   },
   {
    "duration": 44,
    "start_time": "2025-04-07T03:06:53.197Z"
   },
   {
    "duration": 8,
    "start_time": "2025-04-07T03:09:00.803Z"
   },
   {
    "duration": 142,
    "start_time": "2025-04-07T03:10:54.947Z"
   },
   {
    "duration": 155,
    "start_time": "2025-04-07T03:11:10.045Z"
   },
   {
    "duration": 143,
    "start_time": "2025-04-07T03:11:16.309Z"
   },
   {
    "duration": 260,
    "start_time": "2025-04-07T03:11:58.879Z"
   },
   {
    "duration": 180,
    "start_time": "2025-04-07T03:15:00.390Z"
   },
   {
    "duration": 197,
    "start_time": "2025-04-07T03:15:19.070Z"
   },
   {
    "duration": 193,
    "start_time": "2025-04-07T03:15:28.761Z"
   },
   {
    "duration": 203,
    "start_time": "2025-04-07T03:15:34.925Z"
   },
   {
    "duration": 179,
    "start_time": "2025-04-07T03:15:43.125Z"
   },
   {
    "duration": 11,
    "start_time": "2025-04-07T03:32:22.471Z"
   },
   {
    "duration": 36,
    "start_time": "2025-04-07T03:34:45.831Z"
   },
   {
    "duration": 50,
    "start_time": "2025-04-07T03:36:36.091Z"
   },
   {
    "duration": 30,
    "start_time": "2025-04-07T03:45:45.852Z"
   },
   {
    "duration": 16,
    "start_time": "2025-04-07T03:50:55.767Z"
   },
   {
    "duration": 15,
    "start_time": "2025-04-07T03:51:06.056Z"
   },
   {
    "duration": 16,
    "start_time": "2025-04-07T03:51:14.991Z"
   },
   {
    "duration": 26,
    "start_time": "2025-04-07T03:56:32.335Z"
   },
   {
    "duration": 4,
    "start_time": "2025-04-07T03:57:07.529Z"
   },
   {
    "duration": 4,
    "start_time": "2025-04-07T03:57:17.644Z"
   },
   {
    "duration": 4,
    "start_time": "2025-04-07T03:57:42.775Z"
   },
   {
    "duration": 4,
    "start_time": "2025-04-07T03:59:07.797Z"
   },
   {
    "duration": 3,
    "start_time": "2025-04-07T03:59:18.745Z"
   },
   {
    "duration": 20,
    "start_time": "2025-04-07T03:59:26.008Z"
   },
   {
    "duration": 22,
    "start_time": "2025-04-07T03:59:30.664Z"
   },
   {
    "duration": 175,
    "start_time": "2025-04-07T03:59:37.777Z"
   },
   {
    "duration": 27,
    "start_time": "2025-04-07T04:02:36.438Z"
   },
   {
    "duration": 68,
    "start_time": "2025-04-07T04:02:37.923Z"
   },
   {
    "duration": 72,
    "start_time": "2025-04-07T04:07:56.360Z"
   },
   {
    "duration": 70,
    "start_time": "2025-04-07T04:08:36.619Z"
   },
   {
    "duration": 74,
    "start_time": "2025-04-07T04:08:55.362Z"
   },
   {
    "duration": 104,
    "start_time": "2025-04-07T04:09:46.517Z"
   },
   {
    "duration": 276,
    "start_time": "2025-04-07T04:09:54.671Z"
   },
   {
    "duration": 313,
    "start_time": "2025-04-07T04:21:30.645Z"
   },
   {
    "duration": 458,
    "start_time": "2025-04-07T04:21:57.123Z"
   },
   {
    "duration": 512,
    "start_time": "2025-04-07T04:22:39.227Z"
   },
   {
    "duration": 610,
    "start_time": "2025-04-07T04:23:08.701Z"
   },
   {
    "duration": 715,
    "start_time": "2025-04-07T04:23:22.123Z"
   },
   {
    "duration": 110,
    "start_time": "2025-04-07T04:24:11.761Z"
   },
   {
    "duration": 835,
    "start_time": "2025-04-07T04:26:23.174Z"
   },
   {
    "duration": 169,
    "start_time": "2025-04-07T04:26:24.011Z"
   },
   {
    "duration": 10,
    "start_time": "2025-04-07T04:26:24.182Z"
   },
   {
    "duration": 27,
    "start_time": "2025-04-07T04:26:24.195Z"
   },
   {
    "duration": 13,
    "start_time": "2025-04-07T04:26:24.224Z"
   },
   {
    "duration": 8,
    "start_time": "2025-04-07T04:26:24.239Z"
   },
   {
    "duration": 9,
    "start_time": "2025-04-07T04:26:24.249Z"
   },
   {
    "duration": 11,
    "start_time": "2025-04-07T04:26:24.260Z"
   },
   {
    "duration": 36,
    "start_time": "2025-04-07T04:26:24.273Z"
   },
   {
    "duration": 3,
    "start_time": "2025-04-07T04:26:24.314Z"
   },
   {
    "duration": 6,
    "start_time": "2025-04-07T04:26:24.319Z"
   },
   {
    "duration": 7,
    "start_time": "2025-04-07T04:26:24.327Z"
   },
   {
    "duration": 13,
    "start_time": "2025-04-07T04:26:24.336Z"
   },
   {
    "duration": 87,
    "start_time": "2025-04-07T04:26:24.351Z"
   },
   {
    "duration": 12,
    "start_time": "2025-04-07T04:26:24.441Z"
   },
   {
    "duration": 6,
    "start_time": "2025-04-07T04:26:24.455Z"
   },
   {
    "duration": 17,
    "start_time": "2025-04-07T04:26:24.463Z"
   },
   {
    "duration": 34,
    "start_time": "2025-04-07T04:26:24.482Z"
   },
   {
    "duration": 11,
    "start_time": "2025-04-07T04:26:24.518Z"
   },
   {
    "duration": 14,
    "start_time": "2025-04-07T04:26:24.531Z"
   },
   {
    "duration": 74,
    "start_time": "2025-04-07T04:26:24.546Z"
   },
   {
    "duration": 14,
    "start_time": "2025-04-07T04:26:24.625Z"
   },
   {
    "duration": 7,
    "start_time": "2025-04-07T04:26:24.641Z"
   },
   {
    "duration": 7,
    "start_time": "2025-04-07T04:26:24.649Z"
   },
   {
    "duration": 24,
    "start_time": "2025-04-07T04:26:24.657Z"
   },
   {
    "duration": 43,
    "start_time": "2025-04-07T04:26:24.682Z"
   },
   {
    "duration": 12,
    "start_time": "2025-04-07T04:26:24.727Z"
   },
   {
    "duration": 22,
    "start_time": "2025-04-07T04:26:24.744Z"
   },
   {
    "duration": 39,
    "start_time": "2025-04-07T04:26:24.767Z"
   },
   {
    "duration": 18,
    "start_time": "2025-04-07T04:26:24.808Z"
   },
   {
    "duration": 394,
    "start_time": "2025-04-07T04:26:24.828Z"
   },
   {
    "duration": 8,
    "start_time": "2025-04-07T04:26:25.224Z"
   },
   {
    "duration": 3,
    "start_time": "2025-04-07T04:26:25.234Z"
   },
   {
    "duration": 3,
    "start_time": "2025-04-07T04:26:25.239Z"
   },
   {
    "duration": 42,
    "start_time": "2025-04-07T04:26:25.244Z"
   },
   {
    "duration": 212,
    "start_time": "2025-04-07T04:26:25.306Z"
   },
   {
    "duration": 5,
    "start_time": "2025-04-07T04:26:25.520Z"
   },
   {
    "duration": 239,
    "start_time": "2025-04-07T04:26:25.526Z"
   },
   {
    "duration": 220,
    "start_time": "2025-04-07T04:26:25.767Z"
   },
   {
    "duration": 0,
    "start_time": "2025-04-07T04:26:25.989Z"
   },
   {
    "duration": 0,
    "start_time": "2025-04-07T04:26:25.991Z"
   },
   {
    "duration": 0,
    "start_time": "2025-04-07T04:26:25.992Z"
   },
   {
    "duration": 0,
    "start_time": "2025-04-07T04:26:26.005Z"
   },
   {
    "duration": 0,
    "start_time": "2025-04-07T04:26:26.006Z"
   },
   {
    "duration": 44,
    "start_time": "2025-04-07T04:26:34.958Z"
   },
   {
    "duration": 34,
    "start_time": "2025-04-07T04:26:44.996Z"
   },
   {
    "duration": 227,
    "start_time": "2025-04-07T04:31:17.387Z"
   },
   {
    "duration": 140,
    "start_time": "2025-04-07T04:31:28.703Z"
   },
   {
    "duration": 141,
    "start_time": "2025-04-07T04:31:45.752Z"
   },
   {
    "duration": 164,
    "start_time": "2025-04-08T00:06:54.992Z"
   },
   {
    "duration": 2713,
    "start_time": "2025-04-08T00:07:02.444Z"
   },
   {
    "duration": 217,
    "start_time": "2025-04-08T00:07:05.159Z"
   },
   {
    "duration": 10,
    "start_time": "2025-04-08T00:07:05.378Z"
   },
   {
    "duration": 17,
    "start_time": "2025-04-08T00:07:05.392Z"
   },
   {
    "duration": 13,
    "start_time": "2025-04-08T00:07:05.412Z"
   },
   {
    "duration": 9,
    "start_time": "2025-04-08T00:07:05.427Z"
   },
   {
    "duration": 10,
    "start_time": "2025-04-08T00:07:05.438Z"
   },
   {
    "duration": 45,
    "start_time": "2025-04-08T00:07:05.450Z"
   },
   {
    "duration": 9,
    "start_time": "2025-04-08T00:07:05.497Z"
   },
   {
    "duration": 5,
    "start_time": "2025-04-08T00:07:05.509Z"
   },
   {
    "duration": 4,
    "start_time": "2025-04-08T00:07:05.516Z"
   },
   {
    "duration": 6,
    "start_time": "2025-04-08T00:07:05.522Z"
   },
   {
    "duration": 14,
    "start_time": "2025-04-08T00:07:05.530Z"
   },
   {
    "duration": 82,
    "start_time": "2025-04-08T00:07:05.546Z"
   },
   {
    "duration": 12,
    "start_time": "2025-04-08T00:07:05.630Z"
   },
   {
    "duration": 6,
    "start_time": "2025-04-08T00:07:05.644Z"
   },
   {
    "duration": 42,
    "start_time": "2025-04-08T00:07:05.652Z"
   },
   {
    "duration": 12,
    "start_time": "2025-04-08T00:07:05.696Z"
   },
   {
    "duration": 11,
    "start_time": "2025-04-08T00:07:05.710Z"
   },
   {
    "duration": 15,
    "start_time": "2025-04-08T00:07:05.722Z"
   },
   {
    "duration": 70,
    "start_time": "2025-04-08T00:07:05.738Z"
   },
   {
    "duration": 15,
    "start_time": "2025-04-08T00:07:05.810Z"
   },
   {
    "duration": 7,
    "start_time": "2025-04-08T00:07:05.827Z"
   },
   {
    "duration": 8,
    "start_time": "2025-04-08T00:07:05.836Z"
   },
   {
    "duration": 51,
    "start_time": "2025-04-08T00:07:05.846Z"
   },
   {
    "duration": 18,
    "start_time": "2025-04-08T00:07:05.899Z"
   },
   {
    "duration": 12,
    "start_time": "2025-04-08T00:07:05.919Z"
   },
   {
    "duration": 21,
    "start_time": "2025-04-08T00:07:05.935Z"
   },
   {
    "duration": 42,
    "start_time": "2025-04-08T00:07:05.957Z"
   },
   {
    "duration": 18,
    "start_time": "2025-04-08T00:07:06.000Z"
   },
   {
    "duration": 395,
    "start_time": "2025-04-08T00:07:06.020Z"
   },
   {
    "duration": 9,
    "start_time": "2025-04-08T00:07:06.417Z"
   },
   {
    "duration": 3,
    "start_time": "2025-04-08T00:07:06.428Z"
   },
   {
    "duration": 4,
    "start_time": "2025-04-08T00:07:06.432Z"
   },
   {
    "duration": 66,
    "start_time": "2025-04-08T00:07:06.437Z"
   },
   {
    "duration": 237,
    "start_time": "2025-04-08T00:07:06.505Z"
   },
   {
    "duration": 5,
    "start_time": "2025-04-08T00:07:06.745Z"
   },
   {
    "duration": 204,
    "start_time": "2025-04-08T00:07:06.752Z"
   },
   {
    "duration": 189,
    "start_time": "2025-04-08T00:07:06.958Z"
   },
   {
    "duration": 51,
    "start_time": "2025-04-08T00:07:07.149Z"
   },
   {
    "duration": 36,
    "start_time": "2025-04-08T00:07:07.205Z"
   },
   {
    "duration": 165,
    "start_time": "2025-04-08T00:07:07.243Z"
   },
   {
    "duration": 2,
    "start_time": "2025-04-08T00:07:07.410Z"
   },
   {
    "duration": 3,
    "start_time": "2025-04-08T00:07:07.414Z"
   },
   {
    "duration": 5,
    "start_time": "2025-04-08T00:09:27.217Z"
   },
   {
    "duration": 11,
    "start_time": "2025-04-08T00:44:56.540Z"
   },
   {
    "duration": 435,
    "start_time": "2025-04-08T00:46:33.771Z"
   },
   {
    "duration": 5,
    "start_time": "2025-04-08T00:46:45.114Z"
   },
   {
    "duration": 11,
    "start_time": "2025-04-08T00:46:55.500Z"
   },
   {
    "duration": 14,
    "start_time": "2025-04-08T00:47:58.096Z"
   },
   {
    "duration": 19,
    "start_time": "2025-04-08T00:48:02.938Z"
   },
   {
    "duration": 5,
    "start_time": "2025-04-08T00:50:57.024Z"
   },
   {
    "duration": 8,
    "start_time": "2025-04-08T00:52:16.807Z"
   },
   {
    "duration": 20,
    "start_time": "2025-04-08T00:52:47.855Z"
   },
   {
    "duration": 3,
    "start_time": "2025-04-08T00:55:02.349Z"
   },
   {
    "duration": 155,
    "start_time": "2025-04-08T00:55:05.960Z"
   },
   {
    "duration": 5,
    "start_time": "2025-04-08T00:55:16.514Z"
   },
   {
    "duration": 28,
    "start_time": "2025-04-08T00:55:43.092Z"
   },
   {
    "duration": 5,
    "start_time": "2025-04-08T00:55:45.907Z"
   },
   {
    "duration": 5,
    "start_time": "2025-04-08T00:55:58.479Z"
   },
   {
    "duration": 8,
    "start_time": "2025-04-08T00:56:02.076Z"
   },
   {
    "duration": 186,
    "start_time": "2025-04-08T02:10:07.358Z"
   },
   {
    "duration": 3137,
    "start_time": "2025-04-08T02:10:13.728Z"
   },
   {
    "duration": 265,
    "start_time": "2025-04-08T02:10:16.868Z"
   },
   {
    "duration": 10,
    "start_time": "2025-04-08T02:10:17.135Z"
   },
   {
    "duration": 17,
    "start_time": "2025-04-08T02:10:17.148Z"
   },
   {
    "duration": 16,
    "start_time": "2025-04-08T02:10:17.167Z"
   },
   {
    "duration": 9,
    "start_time": "2025-04-08T02:10:17.185Z"
   },
   {
    "duration": 20,
    "start_time": "2025-04-08T02:10:17.196Z"
   },
   {
    "duration": 19,
    "start_time": "2025-04-08T02:10:17.218Z"
   },
   {
    "duration": 19,
    "start_time": "2025-04-08T02:10:17.239Z"
   },
   {
    "duration": 10,
    "start_time": "2025-04-08T02:10:17.261Z"
   },
   {
    "duration": 4,
    "start_time": "2025-04-08T02:10:17.273Z"
   },
   {
    "duration": 4,
    "start_time": "2025-04-08T02:10:17.279Z"
   },
   {
    "duration": 23,
    "start_time": "2025-04-08T02:10:17.285Z"
   },
   {
    "duration": 30,
    "start_time": "2025-04-08T02:10:17.310Z"
   },
   {
    "duration": 46,
    "start_time": "2025-04-08T02:10:17.342Z"
   },
   {
    "duration": 38,
    "start_time": "2025-04-08T02:10:17.390Z"
   },
   {
    "duration": 7,
    "start_time": "2025-04-08T02:10:17.430Z"
   },
   {
    "duration": 17,
    "start_time": "2025-04-08T02:10:17.439Z"
   },
   {
    "duration": 12,
    "start_time": "2025-04-08T02:10:17.457Z"
   },
   {
    "duration": 10,
    "start_time": "2025-04-08T02:10:17.470Z"
   },
   {
    "duration": 40,
    "start_time": "2025-04-08T02:10:17.481Z"
   },
   {
    "duration": 43,
    "start_time": "2025-04-08T02:10:17.533Z"
   },
   {
    "duration": 14,
    "start_time": "2025-04-08T02:10:17.578Z"
   },
   {
    "duration": 6,
    "start_time": "2025-04-08T02:10:17.594Z"
   },
   {
    "duration": 18,
    "start_time": "2025-04-08T02:10:17.602Z"
   },
   {
    "duration": 34,
    "start_time": "2025-04-08T02:10:17.622Z"
   },
   {
    "duration": 17,
    "start_time": "2025-04-08T02:10:17.658Z"
   },
   {
    "duration": 9,
    "start_time": "2025-04-08T02:10:17.679Z"
   },
   {
    "duration": 36,
    "start_time": "2025-04-08T02:10:17.690Z"
   },
   {
    "duration": 14,
    "start_time": "2025-04-08T02:10:17.728Z"
   },
   {
    "duration": 17,
    "start_time": "2025-04-08T02:10:17.744Z"
   },
   {
    "duration": 447,
    "start_time": "2025-04-08T02:10:17.763Z"
   },
   {
    "duration": 13,
    "start_time": "2025-04-08T02:10:18.229Z"
   },
   {
    "duration": 3,
    "start_time": "2025-04-08T02:10:18.244Z"
   },
   {
    "duration": 4,
    "start_time": "2025-04-08T02:10:18.248Z"
   },
   {
    "duration": 43,
    "start_time": "2025-04-08T02:10:18.253Z"
   },
   {
    "duration": 256,
    "start_time": "2025-04-08T02:10:18.298Z"
   },
   {
    "duration": 4,
    "start_time": "2025-04-08T02:10:18.556Z"
   },
   {
    "duration": 211,
    "start_time": "2025-04-08T02:10:18.561Z"
   },
   {
    "duration": 206,
    "start_time": "2025-04-08T02:10:18.773Z"
   },
   {
    "duration": 57,
    "start_time": "2025-04-08T02:10:18.981Z"
   },
   {
    "duration": 36,
    "start_time": "2025-04-08T02:10:19.041Z"
   },
   {
    "duration": 255,
    "start_time": "2025-04-08T02:10:19.079Z"
   },
   {
    "duration": 11,
    "start_time": "2025-04-08T02:10:19.337Z"
   },
   {
    "duration": 5,
    "start_time": "2025-04-08T02:10:19.350Z"
   },
   {
    "duration": 790,
    "start_time": "2025-04-08T02:10:19.356Z"
   },
   {
    "duration": 0,
    "start_time": "2025-04-08T02:10:20.148Z"
   },
   {
    "duration": 0,
    "start_time": "2025-04-08T02:10:20.149Z"
   },
   {
    "duration": 14,
    "start_time": "2025-04-08T02:10:44.640Z"
   },
   {
    "duration": 12,
    "start_time": "2025-04-08T02:11:51.652Z"
   },
   {
    "duration": 1039,
    "start_time": "2025-04-08T02:12:03.008Z"
   },
   {
    "duration": 243,
    "start_time": "2025-04-08T02:12:04.050Z"
   },
   {
    "duration": 13,
    "start_time": "2025-04-08T02:12:04.295Z"
   },
   {
    "duration": 34,
    "start_time": "2025-04-08T02:12:04.321Z"
   },
   {
    "duration": 25,
    "start_time": "2025-04-08T02:12:04.357Z"
   },
   {
    "duration": 10,
    "start_time": "2025-04-08T02:12:04.384Z"
   },
   {
    "duration": 28,
    "start_time": "2025-04-08T02:12:04.396Z"
   },
   {
    "duration": 16,
    "start_time": "2025-04-08T02:12:04.426Z"
   },
   {
    "duration": 367,
    "start_time": "2025-04-08T02:12:04.445Z"
   },
   {
    "duration": 0,
    "start_time": "2025-04-08T02:12:04.818Z"
   },
   {
    "duration": 0,
    "start_time": "2025-04-08T02:12:04.820Z"
   },
   {
    "duration": 0,
    "start_time": "2025-04-08T02:12:04.821Z"
   },
   {
    "duration": 0,
    "start_time": "2025-04-08T02:12:04.823Z"
   },
   {
    "duration": 0,
    "start_time": "2025-04-08T02:12:04.824Z"
   },
   {
    "duration": 0,
    "start_time": "2025-04-08T02:12:04.826Z"
   },
   {
    "duration": 0,
    "start_time": "2025-04-08T02:12:04.827Z"
   },
   {
    "duration": 0,
    "start_time": "2025-04-08T02:12:04.829Z"
   },
   {
    "duration": 0,
    "start_time": "2025-04-08T02:12:04.831Z"
   },
   {
    "duration": 0,
    "start_time": "2025-04-08T02:12:04.832Z"
   },
   {
    "duration": 0,
    "start_time": "2025-04-08T02:12:04.833Z"
   },
   {
    "duration": 0,
    "start_time": "2025-04-08T02:12:04.835Z"
   },
   {
    "duration": 0,
    "start_time": "2025-04-08T02:12:04.836Z"
   },
   {
    "duration": 0,
    "start_time": "2025-04-08T02:12:04.850Z"
   },
   {
    "duration": 0,
    "start_time": "2025-04-08T02:12:04.851Z"
   },
   {
    "duration": 0,
    "start_time": "2025-04-08T02:12:04.852Z"
   },
   {
    "duration": 0,
    "start_time": "2025-04-08T02:12:04.853Z"
   },
   {
    "duration": 0,
    "start_time": "2025-04-08T02:12:04.854Z"
   },
   {
    "duration": 0,
    "start_time": "2025-04-08T02:12:04.855Z"
   },
   {
    "duration": 0,
    "start_time": "2025-04-08T02:12:04.856Z"
   },
   {
    "duration": 0,
    "start_time": "2025-04-08T02:12:04.857Z"
   },
   {
    "duration": 0,
    "start_time": "2025-04-08T02:12:04.858Z"
   },
   {
    "duration": 0,
    "start_time": "2025-04-08T02:12:04.859Z"
   },
   {
    "duration": 0,
    "start_time": "2025-04-08T02:12:04.860Z"
   },
   {
    "duration": 0,
    "start_time": "2025-04-08T02:12:04.861Z"
   },
   {
    "duration": 0,
    "start_time": "2025-04-08T02:12:04.862Z"
   },
   {
    "duration": 0,
    "start_time": "2025-04-08T02:12:04.863Z"
   },
   {
    "duration": 0,
    "start_time": "2025-04-08T02:12:04.864Z"
   },
   {
    "duration": 0,
    "start_time": "2025-04-08T02:12:04.865Z"
   },
   {
    "duration": 0,
    "start_time": "2025-04-08T02:12:04.866Z"
   },
   {
    "duration": 0,
    "start_time": "2025-04-08T02:12:04.867Z"
   },
   {
    "duration": 0,
    "start_time": "2025-04-08T02:12:04.868Z"
   },
   {
    "duration": 0,
    "start_time": "2025-04-08T02:12:04.873Z"
   },
   {
    "duration": 0,
    "start_time": "2025-04-08T02:12:04.874Z"
   },
   {
    "duration": 0,
    "start_time": "2025-04-08T02:12:04.876Z"
   },
   {
    "duration": 0,
    "start_time": "2025-04-08T02:12:04.878Z"
   },
   {
    "duration": 0,
    "start_time": "2025-04-08T02:12:04.879Z"
   },
   {
    "duration": 0,
    "start_time": "2025-04-08T02:12:04.880Z"
   },
   {
    "duration": 0,
    "start_time": "2025-04-08T02:12:04.910Z"
   },
   {
    "duration": 10,
    "start_time": "2025-04-08T02:12:28.722Z"
   },
   {
    "duration": 12,
    "start_time": "2025-04-08T02:12:31.368Z"
   },
   {
    "duration": 17,
    "start_time": "2025-04-08T02:12:41.928Z"
   },
   {
    "duration": 28,
    "start_time": "2025-04-08T02:12:44.005Z"
   },
   {
    "duration": 553,
    "start_time": "2025-04-08T02:16:11.850Z"
   },
   {
    "duration": 47,
    "start_time": "2025-04-08T02:16:22.153Z"
   },
   {
    "duration": 911,
    "start_time": "2025-04-08T02:16:28.530Z"
   },
   {
    "duration": 190,
    "start_time": "2025-04-08T02:16:29.443Z"
   },
   {
    "duration": 9,
    "start_time": "2025-04-08T02:16:29.635Z"
   },
   {
    "duration": 16,
    "start_time": "2025-04-08T02:16:29.646Z"
   },
   {
    "duration": 17,
    "start_time": "2025-04-08T02:16:29.665Z"
   },
   {
    "duration": 9,
    "start_time": "2025-04-08T02:16:29.685Z"
   },
   {
    "duration": 12,
    "start_time": "2025-04-08T02:16:29.696Z"
   },
   {
    "duration": 15,
    "start_time": "2025-04-08T02:16:29.710Z"
   },
   {
    "duration": 911,
    "start_time": "2025-04-08T02:16:29.727Z"
   },
   {
    "duration": 0,
    "start_time": "2025-04-08T02:16:30.641Z"
   },
   {
    "duration": 0,
    "start_time": "2025-04-08T02:16:30.642Z"
   },
   {
    "duration": 0,
    "start_time": "2025-04-08T02:16:30.643Z"
   },
   {
    "duration": 0,
    "start_time": "2025-04-08T02:16:30.645Z"
   },
   {
    "duration": 0,
    "start_time": "2025-04-08T02:16:30.646Z"
   },
   {
    "duration": 0,
    "start_time": "2025-04-08T02:16:30.647Z"
   },
   {
    "duration": 1,
    "start_time": "2025-04-08T02:16:30.648Z"
   },
   {
    "duration": 0,
    "start_time": "2025-04-08T02:16:30.650Z"
   },
   {
    "duration": 0,
    "start_time": "2025-04-08T02:16:30.651Z"
   },
   {
    "duration": 0,
    "start_time": "2025-04-08T02:16:30.653Z"
   },
   {
    "duration": 0,
    "start_time": "2025-04-08T02:16:30.655Z"
   },
   {
    "duration": 0,
    "start_time": "2025-04-08T02:16:30.657Z"
   },
   {
    "duration": 0,
    "start_time": "2025-04-08T02:16:30.658Z"
   },
   {
    "duration": 0,
    "start_time": "2025-04-08T02:16:30.659Z"
   },
   {
    "duration": 0,
    "start_time": "2025-04-08T02:16:30.661Z"
   },
   {
    "duration": 0,
    "start_time": "2025-04-08T02:16:30.663Z"
   },
   {
    "duration": 0,
    "start_time": "2025-04-08T02:16:30.664Z"
   },
   {
    "duration": 0,
    "start_time": "2025-04-08T02:16:30.666Z"
   },
   {
    "duration": 0,
    "start_time": "2025-04-08T02:16:30.667Z"
   },
   {
    "duration": 0,
    "start_time": "2025-04-08T02:16:30.704Z"
   },
   {
    "duration": 0,
    "start_time": "2025-04-08T02:16:30.706Z"
   },
   {
    "duration": 0,
    "start_time": "2025-04-08T02:16:30.707Z"
   },
   {
    "duration": 0,
    "start_time": "2025-04-08T02:16:30.709Z"
   },
   {
    "duration": 0,
    "start_time": "2025-04-08T02:16:30.711Z"
   },
   {
    "duration": 0,
    "start_time": "2025-04-08T02:16:30.712Z"
   },
   {
    "duration": 0,
    "start_time": "2025-04-08T02:16:30.713Z"
   },
   {
    "duration": 0,
    "start_time": "2025-04-08T02:16:30.714Z"
   },
   {
    "duration": 0,
    "start_time": "2025-04-08T02:16:30.715Z"
   },
   {
    "duration": 0,
    "start_time": "2025-04-08T02:16:30.717Z"
   },
   {
    "duration": 0,
    "start_time": "2025-04-08T02:16:30.718Z"
   },
   {
    "duration": 0,
    "start_time": "2025-04-08T02:16:30.719Z"
   },
   {
    "duration": 0,
    "start_time": "2025-04-08T02:16:30.720Z"
   },
   {
    "duration": 0,
    "start_time": "2025-04-08T02:16:30.721Z"
   },
   {
    "duration": 0,
    "start_time": "2025-04-08T02:16:30.722Z"
   },
   {
    "duration": 0,
    "start_time": "2025-04-08T02:16:30.723Z"
   },
   {
    "duration": 0,
    "start_time": "2025-04-08T02:16:30.724Z"
   },
   {
    "duration": 0,
    "start_time": "2025-04-08T02:16:30.725Z"
   },
   {
    "duration": 0,
    "start_time": "2025-04-08T02:16:30.726Z"
   },
   {
    "duration": 0,
    "start_time": "2025-04-08T02:16:30.727Z"
   },
   {
    "duration": 14,
    "start_time": "2025-04-08T02:16:42.255Z"
   },
   {
    "duration": 66,
    "start_time": "2025-04-08T02:17:27.699Z"
   },
   {
    "duration": 61,
    "start_time": "2025-04-08T02:17:28.534Z"
   },
   {
    "duration": 55,
    "start_time": "2025-04-08T02:17:28.863Z"
   },
   {
    "duration": 25,
    "start_time": "2025-04-08T02:17:55.799Z"
   },
   {
    "duration": 13,
    "start_time": "2025-04-08T02:18:00.033Z"
   },
   {
    "duration": 13,
    "start_time": "2025-04-08T02:18:02.759Z"
   },
   {
    "duration": 12,
    "start_time": "2025-04-08T02:18:30.945Z"
   },
   {
    "duration": 12,
    "start_time": "2025-04-08T02:18:31.934Z"
   },
   {
    "duration": 11,
    "start_time": "2025-04-08T02:18:32.457Z"
   },
   {
    "duration": 12,
    "start_time": "2025-04-08T02:18:32.663Z"
   },
   {
    "duration": 12,
    "start_time": "2025-04-08T02:18:33.043Z"
   },
   {
    "duration": 12,
    "start_time": "2025-04-08T02:18:33.279Z"
   },
   {
    "duration": 11,
    "start_time": "2025-04-08T02:18:33.674Z"
   },
   {
    "duration": 12,
    "start_time": "2025-04-08T02:18:34.544Z"
   },
   {
    "duration": 7,
    "start_time": "2025-04-08T02:19:24.409Z"
   },
   {
    "duration": 2,
    "start_time": "2025-04-08T02:19:26.878Z"
   },
   {
    "duration": 12,
    "start_time": "2025-04-08T02:19:52.489Z"
   },
   {
    "duration": 14,
    "start_time": "2025-04-08T02:20:52.763Z"
   },
   {
    "duration": 5,
    "start_time": "2025-04-08T02:21:06.843Z"
   },
   {
    "duration": 13,
    "start_time": "2025-04-08T02:21:21.084Z"
   },
   {
    "duration": 8,
    "start_time": "2025-04-08T02:21:43.623Z"
   },
   {
    "duration": 11,
    "start_time": "2025-04-08T02:22:01.988Z"
   },
   {
    "duration": 575,
    "start_time": "2025-04-08T02:23:13.256Z"
   },
   {
    "duration": 66,
    "start_time": "2025-04-08T02:23:20.361Z"
   },
   {
    "duration": 22,
    "start_time": "2025-04-08T02:23:34.402Z"
   },
   {
    "duration": 8,
    "start_time": "2025-04-08T02:23:45.187Z"
   },
   {
    "duration": 28,
    "start_time": "2025-04-08T02:24:01.010Z"
   },
   {
    "duration": 10,
    "start_time": "2025-04-08T02:24:07.566Z"
   },
   {
    "duration": 90,
    "start_time": "2025-04-08T02:26:14.472Z"
   },
   {
    "duration": 27,
    "start_time": "2025-04-08T02:26:43.529Z"
   },
   {
    "duration": 14,
    "start_time": "2025-04-08T02:27:08.470Z"
   },
   {
    "duration": 17,
    "start_time": "2025-04-08T02:28:52.285Z"
   },
   {
    "duration": 23,
    "start_time": "2025-04-08T02:28:58.648Z"
   },
   {
    "duration": 13,
    "start_time": "2025-04-08T02:30:19.480Z"
   },
   {
    "duration": 35,
    "start_time": "2025-04-08T02:30:34.824Z"
   },
   {
    "duration": 9,
    "start_time": "2025-04-08T02:30:41.282Z"
   },
   {
    "duration": 5,
    "start_time": "2025-04-08T02:32:04.421Z"
   },
   {
    "duration": 9,
    "start_time": "2025-04-08T02:32:15.162Z"
   },
   {
    "duration": 14,
    "start_time": "2025-04-08T02:33:35.138Z"
   },
   {
    "duration": 123,
    "start_time": "2025-04-08T02:33:46.012Z"
   },
   {
    "duration": 917,
    "start_time": "2025-04-08T02:33:53.153Z"
   },
   {
    "duration": 209,
    "start_time": "2025-04-08T02:33:54.073Z"
   },
   {
    "duration": 9,
    "start_time": "2025-04-08T02:33:54.284Z"
   },
   {
    "duration": 26,
    "start_time": "2025-04-08T02:33:54.296Z"
   },
   {
    "duration": 33,
    "start_time": "2025-04-08T02:33:54.337Z"
   },
   {
    "duration": 9,
    "start_time": "2025-04-08T02:33:54.372Z"
   },
   {
    "duration": 9,
    "start_time": "2025-04-08T02:33:54.384Z"
   },
   {
    "duration": 3,
    "start_time": "2025-04-08T02:33:54.395Z"
   },
   {
    "duration": 3,
    "start_time": "2025-04-08T02:33:54.400Z"
   },
   {
    "duration": 3,
    "start_time": "2025-04-08T02:33:54.411Z"
   },
   {
    "duration": 20,
    "start_time": "2025-04-08T02:33:54.416Z"
   },
   {
    "duration": 18,
    "start_time": "2025-04-08T02:33:54.449Z"
   },
   {
    "duration": 58,
    "start_time": "2025-04-08T02:33:54.469Z"
   },
   {
    "duration": 16,
    "start_time": "2025-04-08T02:33:54.529Z"
   },
   {
    "duration": 7,
    "start_time": "2025-04-08T02:33:54.547Z"
   },
   {
    "duration": 19,
    "start_time": "2025-04-08T02:33:54.556Z"
   },
   {
    "duration": 15,
    "start_time": "2025-04-08T02:33:54.577Z"
   },
   {
    "duration": 26,
    "start_time": "2025-04-08T02:33:54.605Z"
   },
   {
    "duration": 21,
    "start_time": "2025-04-08T02:33:54.634Z"
   },
   {
    "duration": 42,
    "start_time": "2025-04-08T02:33:54.656Z"
   },
   {
    "duration": 36,
    "start_time": "2025-04-08T02:33:54.699Z"
   },
   {
    "duration": 14,
    "start_time": "2025-04-08T02:33:54.738Z"
   },
   {
    "duration": 7,
    "start_time": "2025-04-08T02:33:54.753Z"
   },
   {
    "duration": 23,
    "start_time": "2025-04-08T02:33:54.762Z"
   },
   {
    "duration": 45,
    "start_time": "2025-04-08T02:33:54.787Z"
   },
   {
    "duration": 11,
    "start_time": "2025-04-08T02:33:54.834Z"
   },
   {
    "duration": 18,
    "start_time": "2025-04-08T02:33:54.847Z"
   },
   {
    "duration": 11,
    "start_time": "2025-04-08T02:33:54.869Z"
   },
   {
    "duration": 52,
    "start_time": "2025-04-08T02:33:54.881Z"
   },
   {
    "duration": 422,
    "start_time": "2025-04-08T02:33:54.936Z"
   },
   {
    "duration": 8,
    "start_time": "2025-04-08T02:33:55.360Z"
   },
   {
    "duration": 2,
    "start_time": "2025-04-08T02:33:55.370Z"
   },
   {
    "duration": 2,
    "start_time": "2025-04-08T02:33:55.375Z"
   },
   {
    "duration": 72,
    "start_time": "2025-04-08T02:33:55.379Z"
   },
   {
    "duration": 250,
    "start_time": "2025-04-08T02:33:55.453Z"
   },
   {
    "duration": 10,
    "start_time": "2025-04-08T02:33:55.706Z"
   },
   {
    "duration": 258,
    "start_time": "2025-04-08T02:33:55.719Z"
   },
   {
    "duration": 194,
    "start_time": "2025-04-08T02:33:55.978Z"
   },
   {
    "duration": 59,
    "start_time": "2025-04-08T02:33:56.174Z"
   },
   {
    "duration": 36,
    "start_time": "2025-04-08T02:33:56.235Z"
   },
   {
    "duration": 183,
    "start_time": "2025-04-08T02:33:56.272Z"
   },
   {
    "duration": 10,
    "start_time": "2025-04-08T02:33:56.457Z"
   },
   {
    "duration": 5,
    "start_time": "2025-04-08T02:33:56.470Z"
   },
   {
    "duration": 8,
    "start_time": "2025-04-08T02:33:56.476Z"
   },
   {
    "duration": 49,
    "start_time": "2025-04-08T02:33:56.485Z"
   },
   {
    "duration": 35,
    "start_time": "2025-04-08T02:33:56.536Z"
   },
   {
    "duration": 3,
    "start_time": "2025-04-08T02:33:56.572Z"
   },
   {
    "duration": 3,
    "start_time": "2025-04-08T02:33:56.576Z"
   },
   {
    "duration": 6,
    "start_time": "2025-04-08T02:35:12.921Z"
   },
   {
    "duration": 11,
    "start_time": "2025-04-08T02:35:18.428Z"
   },
   {
    "duration": 31,
    "start_time": "2025-04-08T02:35:36.538Z"
   },
   {
    "duration": 11,
    "start_time": "2025-04-08T02:39:20.059Z"
   },
   {
    "duration": 16,
    "start_time": "2025-04-08T02:39:30.074Z"
   },
   {
    "duration": 26,
    "start_time": "2025-04-08T02:40:09.377Z"
   },
   {
    "duration": 27,
    "start_time": "2025-04-08T02:41:10.954Z"
   },
   {
    "duration": 12,
    "start_time": "2025-04-08T02:42:21.872Z"
   },
   {
    "duration": 10,
    "start_time": "2025-04-08T02:43:36.141Z"
   },
   {
    "duration": 19,
    "start_time": "2025-04-08T02:45:01.336Z"
   },
   {
    "duration": 17,
    "start_time": "2025-04-08T02:45:24.882Z"
   },
   {
    "duration": 42,
    "start_time": "2025-04-08T02:57:07.609Z"
   },
   {
    "duration": 40,
    "start_time": "2025-04-08T02:57:15.590Z"
   },
   {
    "duration": 12,
    "start_time": "2025-04-08T02:57:44.064Z"
   },
   {
    "duration": 12,
    "start_time": "2025-04-08T02:57:49.892Z"
   },
   {
    "duration": 9,
    "start_time": "2025-04-08T02:59:17.210Z"
   },
   {
    "duration": 11,
    "start_time": "2025-04-08T02:59:24.040Z"
   },
   {
    "duration": 180,
    "start_time": "2025-04-08T03:00:52.246Z"
   },
   {
    "duration": 3,
    "start_time": "2025-04-08T03:01:08.645Z"
   },
   {
    "duration": 17,
    "start_time": "2025-04-08T03:01:17.732Z"
   },
   {
    "duration": 15,
    "start_time": "2025-04-08T03:01:31.693Z"
   },
   {
    "duration": 3,
    "start_time": "2025-04-08T03:03:01.442Z"
   },
   {
    "duration": 133,
    "start_time": "2025-04-08T03:04:49.497Z"
   },
   {
    "duration": 16,
    "start_time": "2025-04-08T03:04:55.253Z"
   },
   {
    "duration": 15,
    "start_time": "2025-04-08T03:05:02.546Z"
   },
   {
    "duration": 17,
    "start_time": "2025-04-08T03:05:06.976Z"
   },
   {
    "duration": 18,
    "start_time": "2025-04-08T03:05:57.439Z"
   },
   {
    "duration": 21,
    "start_time": "2025-04-08T03:07:04.292Z"
   },
   {
    "duration": 14,
    "start_time": "2025-04-08T03:07:05.775Z"
   },
   {
    "duration": 11,
    "start_time": "2025-04-08T03:07:06.544Z"
   },
   {
    "duration": 23,
    "start_time": "2025-04-08T03:07:13.515Z"
   },
   {
    "duration": 8,
    "start_time": "2025-04-08T03:08:50.125Z"
   },
   {
    "duration": 2,
    "start_time": "2025-04-08T03:10:43.479Z"
   },
   {
    "duration": 12,
    "start_time": "2025-04-08T03:11:47.514Z"
   },
   {
    "duration": 127,
    "start_time": "2025-04-08T03:12:13.030Z"
   },
   {
    "duration": 2,
    "start_time": "2025-04-08T03:12:18.630Z"
   },
   {
    "duration": 10,
    "start_time": "2025-04-08T03:12:21.347Z"
   },
   {
    "duration": 10,
    "start_time": "2025-04-08T03:14:21.646Z"
   },
   {
    "duration": 10,
    "start_time": "2025-04-08T03:14:46.370Z"
   },
   {
    "duration": 23,
    "start_time": "2025-04-08T03:14:57.117Z"
   },
   {
    "duration": 15,
    "start_time": "2025-04-08T03:16:12.667Z"
   },
   {
    "duration": 33,
    "start_time": "2025-04-08T03:17:31.800Z"
   },
   {
    "duration": 11,
    "start_time": "2025-04-08T03:17:52.269Z"
   },
   {
    "duration": 18,
    "start_time": "2025-04-08T03:18:03.328Z"
   },
   {
    "duration": 31,
    "start_time": "2025-04-08T03:19:58.605Z"
   },
   {
    "duration": 8,
    "start_time": "2025-04-08T03:20:23.975Z"
   },
   {
    "duration": 16,
    "start_time": "2025-04-08T03:21:54.457Z"
   },
   {
    "duration": 15,
    "start_time": "2025-04-08T03:23:32.258Z"
   },
   {
    "duration": 28,
    "start_time": "2025-04-08T03:23:41.131Z"
   },
   {
    "duration": 5,
    "start_time": "2025-04-08T03:43:35.313Z"
   },
   {
    "duration": 33,
    "start_time": "2025-04-08T03:49:09.606Z"
   },
   {
    "duration": 3,
    "start_time": "2025-04-08T03:50:06.989Z"
   },
   {
    "duration": 4,
    "start_time": "2025-04-08T03:50:56.249Z"
   },
   {
    "duration": 4,
    "start_time": "2025-04-08T03:51:04.546Z"
   },
   {
    "duration": 381,
    "start_time": "2025-04-08T03:52:23.689Z"
   },
   {
    "duration": 4,
    "start_time": "2025-04-08T03:53:43.338Z"
   },
   {
    "duration": 4,
    "start_time": "2025-04-08T03:53:45.777Z"
   },
   {
    "duration": 52,
    "start_time": "2025-04-08T03:53:47.838Z"
   },
   {
    "duration": 28,
    "start_time": "2025-04-08T03:54:01.526Z"
   },
   {
    "duration": 4,
    "start_time": "2025-04-08T03:54:04.823Z"
   },
   {
    "duration": 59,
    "start_time": "2025-04-08T03:54:06.369Z"
   },
   {
    "duration": 8,
    "start_time": "2025-04-08T03:59:48.707Z"
   },
   {
    "duration": 399,
    "start_time": "2025-04-08T03:59:51.321Z"
   },
   {
    "duration": 4,
    "start_time": "2025-04-08T04:00:15.781Z"
   },
   {
    "duration": 101,
    "start_time": "2025-04-08T04:00:18.834Z"
   },
   {
    "duration": 5,
    "start_time": "2025-04-08T04:00:45.622Z"
   },
   {
    "duration": 92,
    "start_time": "2025-04-08T04:00:48.888Z"
   },
   {
    "duration": 3,
    "start_time": "2025-04-08T04:00:58.142Z"
   },
   {
    "duration": 58,
    "start_time": "2025-04-08T04:01:01.709Z"
   },
   {
    "duration": 16,
    "start_time": "2025-04-08T04:01:08.567Z"
   },
   {
    "duration": 5,
    "start_time": "2025-04-08T04:11:58.529Z"
   },
   {
    "duration": 21,
    "start_time": "2025-04-08T04:12:54.622Z"
   },
   {
    "duration": 189,
    "start_time": "2025-04-08T04:14:44.764Z"
   },
   {
    "duration": 14,
    "start_time": "2025-04-08T04:19:38.617Z"
   },
   {
    "duration": 36,
    "start_time": "2025-04-08T04:28:28.793Z"
   },
   {
    "duration": 4,
    "start_time": "2025-04-08T04:28:45.232Z"
   },
   {
    "duration": 15,
    "start_time": "2025-04-08T04:31:19.982Z"
   },
   {
    "duration": 3,
    "start_time": "2025-04-08T04:31:23.770Z"
   },
   {
    "duration": 4,
    "start_time": "2025-04-08T04:31:28.892Z"
   },
   {
    "duration": 5,
    "start_time": "2025-04-08T04:37:44.561Z"
   },
   {
    "duration": 5,
    "start_time": "2025-04-08T04:38:17.483Z"
   },
   {
    "duration": 5,
    "start_time": "2025-04-08T04:38:37.643Z"
   },
   {
    "duration": 6,
    "start_time": "2025-04-08T04:39:58.420Z"
   },
   {
    "duration": 37,
    "start_time": "2025-04-08T04:43:38.907Z"
   },
   {
    "duration": 4,
    "start_time": "2025-04-08T04:47:00.688Z"
   },
   {
    "duration": 9,
    "start_time": "2025-04-08T04:47:09.248Z"
   },
   {
    "duration": 18,
    "start_time": "2025-04-08T04:47:22.928Z"
   },
   {
    "duration": 11,
    "start_time": "2025-04-08T04:48:26.125Z"
   },
   {
    "duration": 14,
    "start_time": "2025-04-08T04:50:49.972Z"
   },
   {
    "duration": 579,
    "start_time": "2025-04-08T04:52:21.467Z"
   },
   {
    "duration": 130,
    "start_time": "2025-04-08T04:52:40.305Z"
   },
   {
    "duration": 4,
    "start_time": "2025-04-08T04:53:17.051Z"
   },
   {
    "duration": 16,
    "start_time": "2025-04-08T04:53:23.754Z"
   },
   {
    "duration": 4,
    "start_time": "2025-04-08T04:59:33.754Z"
   },
   {
    "duration": 3,
    "start_time": "2025-04-08T05:00:30.822Z"
   },
   {
    "duration": 4,
    "start_time": "2025-04-08T05:00:40.466Z"
   },
   {
    "duration": 5,
    "start_time": "2025-04-08T05:05:37.634Z"
   },
   {
    "duration": 8,
    "start_time": "2025-04-09T03:24:52.123Z"
   },
   {
    "duration": 156,
    "start_time": "2025-04-09T03:25:04.517Z"
   },
   {
    "duration": 2637,
    "start_time": "2025-04-09T03:25:19.475Z"
   },
   {
    "duration": 415,
    "start_time": "2025-04-09T03:25:22.115Z"
   },
   {
    "duration": 10,
    "start_time": "2025-04-09T03:25:22.532Z"
   },
   {
    "duration": 17,
    "start_time": "2025-04-09T03:25:22.545Z"
   },
   {
    "duration": 13,
    "start_time": "2025-04-09T03:25:22.564Z"
   },
   {
    "duration": 9,
    "start_time": "2025-04-09T03:25:22.578Z"
   },
   {
    "duration": 10,
    "start_time": "2025-04-09T03:25:22.588Z"
   },
   {
    "duration": 7,
    "start_time": "2025-04-09T03:25:22.600Z"
   },
   {
    "duration": 3,
    "start_time": "2025-04-09T03:25:22.609Z"
   },
   {
    "duration": 3,
    "start_time": "2025-04-09T03:25:22.615Z"
   },
   {
    "duration": 5,
    "start_time": "2025-04-09T03:25:22.619Z"
   },
   {
    "duration": 12,
    "start_time": "2025-04-09T03:25:22.626Z"
   },
   {
    "duration": 70,
    "start_time": "2025-04-09T03:25:22.640Z"
   },
   {
    "duration": 13,
    "start_time": "2025-04-09T03:25:22.712Z"
   },
   {
    "duration": 7,
    "start_time": "2025-04-09T03:25:22.727Z"
   },
   {
    "duration": 17,
    "start_time": "2025-04-09T03:25:22.736Z"
   },
   {
    "duration": 13,
    "start_time": "2025-04-09T03:25:22.754Z"
   },
   {
    "duration": 43,
    "start_time": "2025-04-09T03:25:22.768Z"
   },
   {
    "duration": 14,
    "start_time": "2025-04-09T03:25:22.813Z"
   },
   {
    "duration": 41,
    "start_time": "2025-04-09T03:25:22.828Z"
   },
   {
    "duration": 35,
    "start_time": "2025-04-09T03:25:22.871Z"
   },
   {
    "duration": 7,
    "start_time": "2025-04-09T03:25:22.907Z"
   },
   {
    "duration": 9,
    "start_time": "2025-04-09T03:25:22.915Z"
   },
   {
    "duration": 25,
    "start_time": "2025-04-09T03:25:22.927Z"
   },
   {
    "duration": 18,
    "start_time": "2025-04-09T03:25:22.953Z"
   },
   {
    "duration": 39,
    "start_time": "2025-04-09T03:25:22.972Z"
   },
   {
    "duration": 22,
    "start_time": "2025-04-09T03:25:23.013Z"
   },
   {
    "duration": 15,
    "start_time": "2025-04-09T03:25:23.041Z"
   },
   {
    "duration": 18,
    "start_time": "2025-04-09T03:25:23.059Z"
   },
   {
    "duration": 377,
    "start_time": "2025-04-09T03:25:23.104Z"
   },
   {
    "duration": 8,
    "start_time": "2025-04-09T03:25:23.483Z"
   },
   {
    "duration": 13,
    "start_time": "2025-04-09T03:25:23.493Z"
   },
   {
    "duration": 4,
    "start_time": "2025-04-09T03:25:23.507Z"
   },
   {
    "duration": 41,
    "start_time": "2025-04-09T03:25:23.513Z"
   },
   {
    "duration": 216,
    "start_time": "2025-04-09T03:25:23.556Z"
   },
   {
    "duration": 4,
    "start_time": "2025-04-09T03:25:23.774Z"
   },
   {
    "duration": 187,
    "start_time": "2025-04-09T03:25:23.780Z"
   },
   {
    "duration": 217,
    "start_time": "2025-04-09T03:25:23.970Z"
   },
   {
    "duration": 47,
    "start_time": "2025-04-09T03:25:24.189Z"
   },
   {
    "duration": 35,
    "start_time": "2025-04-09T03:25:24.237Z"
   },
   {
    "duration": 238,
    "start_time": "2025-04-09T03:25:24.273Z"
   },
   {
    "duration": 15,
    "start_time": "2025-04-09T03:25:24.513Z"
   },
   {
    "duration": 11,
    "start_time": "2025-04-09T03:25:24.530Z"
   },
   {
    "duration": 7,
    "start_time": "2025-04-09T03:25:24.543Z"
   },
   {
    "duration": 8,
    "start_time": "2025-04-09T03:25:24.552Z"
   },
   {
    "duration": 8,
    "start_time": "2025-04-09T03:25:24.561Z"
   },
   {
    "duration": 263,
    "start_time": "2025-04-09T03:25:24.570Z"
   },
   {
    "duration": 0,
    "start_time": "2025-04-09T03:25:24.834Z"
   },
   {
    "duration": 0,
    "start_time": "2025-04-09T03:25:24.836Z"
   },
   {
    "duration": 0,
    "start_time": "2025-04-09T03:25:24.837Z"
   },
   {
    "duration": 0,
    "start_time": "2025-04-09T03:25:24.839Z"
   },
   {
    "duration": 0,
    "start_time": "2025-04-09T03:25:24.840Z"
   },
   {
    "duration": 0,
    "start_time": "2025-04-09T03:25:24.841Z"
   },
   {
    "duration": 0,
    "start_time": "2025-04-09T03:25:24.843Z"
   },
   {
    "duration": 0,
    "start_time": "2025-04-09T03:25:24.845Z"
   },
   {
    "duration": 0,
    "start_time": "2025-04-09T03:25:24.846Z"
   },
   {
    "duration": 0,
    "start_time": "2025-04-09T03:25:24.847Z"
   },
   {
    "duration": 0,
    "start_time": "2025-04-09T03:25:24.849Z"
   },
   {
    "duration": 6,
    "start_time": "2025-04-09T03:25:37.477Z"
   },
   {
    "duration": 18,
    "start_time": "2025-04-09T03:26:10.033Z"
   },
   {
    "duration": 35,
    "start_time": "2025-04-09T03:26:26.228Z"
   },
   {
    "duration": 9,
    "start_time": "2025-04-09T03:26:37.754Z"
   },
   {
    "duration": 16,
    "start_time": "2025-04-09T03:43:27.989Z"
   },
   {
    "duration": 14,
    "start_time": "2025-04-09T03:43:31.132Z"
   },
   {
    "duration": 4,
    "start_time": "2025-04-09T03:43:32.521Z"
   },
   {
    "duration": 3,
    "start_time": "2025-04-09T03:43:35.103Z"
   },
   {
    "duration": 22,
    "start_time": "2025-04-09T03:43:37.424Z"
   },
   {
    "duration": 3,
    "start_time": "2025-04-09T03:43:42.253Z"
   },
   {
    "duration": 38,
    "start_time": "2025-04-09T03:43:44.622Z"
   },
   {
    "duration": 5,
    "start_time": "2025-04-09T03:43:46.201Z"
   },
   {
    "duration": 6,
    "start_time": "2025-04-09T03:46:15.743Z"
   },
   {
    "duration": 9,
    "start_time": "2025-04-09T03:46:56.980Z"
   },
   {
    "duration": 14,
    "start_time": "2025-04-09T03:46:59.425Z"
   },
   {
    "duration": 3,
    "start_time": "2025-04-09T03:48:01.201Z"
   },
   {
    "duration": 4,
    "start_time": "2025-04-09T03:48:27.988Z"
   },
   {
    "duration": 3,
    "start_time": "2025-04-09T03:49:11.824Z"
   },
   {
    "duration": 4,
    "start_time": "2025-04-09T03:49:58.969Z"
   },
   {
    "duration": 3,
    "start_time": "2025-04-09T03:51:54.267Z"
   },
   {
    "duration": 4,
    "start_time": "2025-04-09T03:52:22.978Z"
   },
   {
    "duration": 5,
    "start_time": "2025-04-09T03:53:02.887Z"
   },
   {
    "duration": 6,
    "start_time": "2025-04-09T03:53:58.447Z"
   },
   {
    "duration": 5,
    "start_time": "2025-04-09T03:54:09.803Z"
   },
   {
    "duration": 5,
    "start_time": "2025-04-09T03:54:47.415Z"
   },
   {
    "duration": 6,
    "start_time": "2025-04-09T03:54:56.382Z"
   },
   {
    "duration": 5,
    "start_time": "2025-04-09T03:55:02.588Z"
   },
   {
    "duration": 17,
    "start_time": "2025-04-09T03:55:48.125Z"
   },
   {
    "duration": 3,
    "start_time": "2025-04-09T03:55:52.880Z"
   },
   {
    "duration": 5,
    "start_time": "2025-04-09T03:55:54.445Z"
   },
   {
    "duration": 5,
    "start_time": "2025-04-09T03:56:04.785Z"
   },
   {
    "duration": 9,
    "start_time": "2025-04-09T03:56:23.032Z"
   },
   {
    "duration": 2,
    "start_time": "2025-04-09T03:56:24.530Z"
   },
   {
    "duration": 4,
    "start_time": "2025-04-09T03:56:30.812Z"
   },
   {
    "duration": 5,
    "start_time": "2025-04-09T03:58:22.275Z"
   }
  ],
  "colab": {
   "provenance": []
  },
  "kernelspec": {
   "display_name": "base",
   "language": "python",
   "name": "python3"
  },
  "language_info": {
   "codemirror_mode": {
    "name": "ipython",
    "version": 3
   },
   "file_extension": ".py",
   "mimetype": "text/x-python",
   "name": "python",
   "nbconvert_exporter": "python",
   "pygments_lexer": "ipython3",
   "version": "3.12.7"
  },
  "toc": {
   "base_numbering": 1,
   "nav_menu": {},
   "number_sections": true,
   "sideBar": true,
   "skip_h1_title": false,
   "title_cell": "Table of Contents",
   "title_sidebar": "Contents",
   "toc_cell": false,
   "toc_position": {
    "height": "calc(100% - 180px)",
    "left": "10px",
    "top": "150px",
    "width": "380.797px"
   },
   "toc_section_display": true,
   "toc_window_display": true
  }
 },
 "nbformat": 4,
 "nbformat_minor": 1
}
